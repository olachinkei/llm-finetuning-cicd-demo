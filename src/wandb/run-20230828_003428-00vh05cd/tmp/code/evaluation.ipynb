{
 "cells": [
  {
   "cell_type": "code",
   "execution_count": 1,
   "id": "be429804-252e-4e69-b5bb-15fc8160e2ae",
   "metadata": {},
   "outputs": [
    {
     "name": "stdout",
     "output_type": "stream",
     "text": [
      "fatal: destination path 'lm-evaluation-harness' already exists and is not an empty directory.\n"
     ]
    }
   ],
   "source": [
    "#!pip install lm-eval==0.3.0 -qqq\n",
    "!git clone https://github.com/EleutherAI/lm-evaluation-harness\n",
    "!pip install -e ./lm-evaluation-harness/. -qqq"
   ]
  },
  {
   "cell_type": "code",
   "execution_count": 2,
   "id": "b0fc07c2-ad0b-4200-a7cb-b0a6e65d8c3a",
   "metadata": {},
   "outputs": [
    {
     "name": "stderr",
     "output_type": "stream",
     "text": [
      "/usr/local/lib/python3.10/dist-packages/tqdm/auto.py:21: TqdmWarning: IProgress not found. Please update jupyter and ipywidgets. See https://ipywidgets.readthedocs.io/en/stable/user_install.html\n",
      "  from .autonotebook import tqdm as notebook_tqdm\n",
      "\u001b[34m\u001b[1mwandb\u001b[0m: Thanks for trying out the Report API!\n",
      "\u001b[34m\u001b[1mwandb\u001b[0m: For a tutorial, check out https://colab.research.google.com/drive/1CzyJx1nuOS4pdkXa2XPaRQyZdmFmLmXV\n",
      "\u001b[34m\u001b[1mwandb\u001b[0m: \n",
      "\u001b[34m\u001b[1mwandb\u001b[0m: Try out tab completion to see what's available.\n",
      "\u001b[34m\u001b[1mwandb\u001b[0m:   ∟ everything:    `wr.<tab>`\n",
      "\u001b[34m\u001b[1mwandb\u001b[0m:       ∟ panels:    `wr.panels.<tab>`\n",
      "\u001b[34m\u001b[1mwandb\u001b[0m:       ∟ blocks:    `wr.blocks.<tab>`\n",
      "\u001b[34m\u001b[1mwandb\u001b[0m:       ∟ helpers:   `wr.helpers.<tab>`\n",
      "\u001b[34m\u001b[1mwandb\u001b[0m:       ∟ templates: `wr.templates.<tab>`\n",
      "\u001b[34m\u001b[1mwandb\u001b[0m:       \n",
      "\u001b[34m\u001b[1mwandb\u001b[0m: For bugs/feature requests, please create an issue on github: https://github.com/wandb/wandb/issues\n"
     ]
    }
   ],
   "source": [
    "import ctranslate2\n",
    "import glob\n",
    "import os\n",
    "import pandas as pd\n",
    "import peft\n",
    "import random\n",
    "import timeit\n",
    "import urllib\n",
    "import torch\n",
    "import json\n",
    "import os\n",
    "from lm_eval import tasks, evaluator, utils\n",
    "import lm_eval\n",
    "import wandb\n",
    "from peft import get_peft_model, LoraConfig, TaskType\n",
    "from peft import PeftModel, PeftConfig\n",
    "import wandb.apis.reports as wr\n",
    "from transformers import AutoTokenizer, AutoConfig, AutoModelForCausalLM, pipeline"
   ]
  },
  {
   "cell_type": "code",
   "execution_count": 3,
   "id": "df6174c8-3d3e-41fb-a633-bcff7b132d2b",
   "metadata": {},
   "outputs": [],
   "source": [
    "os.environ[\"WANDB_PROJECT\"] = \"Autocompletion with evaluation\"\n",
    "os.environ[\"WANDB_ENTITY\"] = \"reviewco\"\n",
    "os.environ[\"WANDB_USERNAME\"] = \"keisuke-kamata\"\n",
    "os.environ[\"WANDB_LOG_MODEL\"] = \"checkpoint\"\n",
    "os.environ[\"WANDB_WATCH\"] = \"gradients\"\n",
    "\n",
    "SCORE_TABLE_NAME = \"Score\"\n",
    "EVALUATION_TABLE_NAME = \"Validation Responses\"\n",
    "LATENCY_TABLE_NAME = \"Model Latencies\"\n",
    "MODEL_NAME = \"Instruction-tuned-model\""
   ]
  },
  {
   "cell_type": "code",
   "execution_count": 4,
   "id": "095e4c36-b273-4daf-8f96-22f92fb3bd58",
   "metadata": {},
   "outputs": [
    {
     "name": "stderr",
     "output_type": "stream",
     "text": [
      "\u001b[34m\u001b[1mwandb\u001b[0m: Currently logged in as: \u001b[33mkeisuke-kamata\u001b[0m (\u001b[33mreviewco\u001b[0m). Use \u001b[1m`wandb login --relogin`\u001b[0m to force relogin\n"
     ]
    },
    {
     "data": {
      "text/html": [
       "Tracking run with wandb version 0.15.8"
      ],
      "text/plain": [
       "<IPython.core.display.HTML object>"
      ]
     },
     "metadata": {},
     "output_type": "display_data"
    },
    {
     "data": {
      "text/html": [
       "Run data is saved locally in <code>/work/wandb/run-20230828_003428-00vh05cd</code>"
      ],
      "text/plain": [
       "<IPython.core.display.HTML object>"
      ]
     },
     "metadata": {},
     "output_type": "display_data"
    },
    {
     "data": {
      "text/html": [
       "Syncing run <strong><a href='https://wandb.ai/reviewco/Autocompletion%20with%20evaluation/runs/00vh05cd' target=\"_blank\">deep-eon-34</a></strong> to <a href='https://wandb.ai/reviewco/Autocompletion%20with%20evaluation' target=\"_blank\">Weights & Biases</a> (<a href='https://wandb.me/run' target=\"_blank\">docs</a>)<br/>"
      ],
      "text/plain": [
       "<IPython.core.display.HTML object>"
      ]
     },
     "metadata": {},
     "output_type": "display_data"
    },
    {
     "data": {
      "text/html": [
       " View project at <a href='https://wandb.ai/reviewco/Autocompletion%20with%20evaluation' target=\"_blank\">https://wandb.ai/reviewco/Autocompletion%20with%20evaluation</a>"
      ],
      "text/plain": [
       "<IPython.core.display.HTML object>"
      ]
     },
     "metadata": {},
     "output_type": "display_data"
    },
    {
     "data": {
      "text/html": [
       " View run at <a href='https://wandb.ai/reviewco/Autocompletion%20with%20evaluation/runs/00vh05cd' target=\"_blank\">https://wandb.ai/reviewco/Autocompletion%20with%20evaluation/runs/00vh05cd</a>"
      ],
      "text/plain": [
       "<IPython.core.display.HTML object>"
      ]
     },
     "metadata": {},
     "output_type": "display_data"
    },
    {
     "name": "stderr",
     "output_type": "stream",
     "text": [
      "\u001b[34m\u001b[1mwandb\u001b[0m:   3 of 3 files downloaded.  \n"
     ]
    }
   ],
   "source": [
    "run = wandb.init(job_type=\"evaluation\")\n",
    "artifact = run.use_artifact('reviewco/Autocompletion with evaluation/finetuned-model:v1', type='model')\n",
    "artifact_dir = artifact.download()    \n",
    "base_llm = AutoModelForCausalLM.from_pretrained(\"facebook/opt-125m\", device_map=\"auto\", torch_dtype=torch.float16)\n",
    "tokenizer = AutoTokenizer.from_pretrained(\"facebook/opt-125m\", local_files_only=True)\n",
    "model = PeftModel.from_pretrained(base_llm, artifact_dir,torch_dtype=torch.float16)\n",
    "model = model.merge_and_unload()"
   ]
  },
  {
   "cell_type": "code",
   "execution_count": 5,
   "id": "1e855b08-68c9-4cff-b7db-ae91577b54a7",
   "metadata": {
    "collapsed": true,
    "jupyter": {
     "outputs_hidden": true
    }
   },
   "outputs": [
    {
     "name": "stderr",
     "output_type": "stream",
     "text": [
      "Downloading builder script: 100%|██████████| 5.37k/5.37k [00:00<00:00, 7.25MB/s]\n",
      "Downloading metadata: 100%|██████████| 4.47k/4.47k [00:00<00:00, 6.31MB/s]\n",
      "Downloading readme: 100%|██████████| 8.66k/8.66k [00:00<00:00, 11.2MB/s]\n",
      "Downloading data: 100%|██████████| 681M/681M [03:39<00:00, 3.10MB/s]    \n",
      "Generating train split: 100%|██████████| 2251/2251 [00:00<00:00, 41352.78 examples/s]\n",
      "Generating test split: 100%|██████████| 2376/2376 [00:00<00:00, 43584.81 examples/s]\n",
      "Generating validation split: 100%|██████████| 570/570 [00:00<00:00, 41871.05 examples/s]\n",
      "Downloading builder script: 100%|██████████| 4.36k/4.36k [00:00<00:00, 6.63MB/s]\n",
      "Downloading metadata: 100%|██████████| 2.53k/2.53k [00:00<00:00, 4.46MB/s]\n",
      "Downloading readme: 100%|██████████| 6.85k/6.85k [00:00<00:00, 9.37MB/s]\n",
      "Downloading data files:   0%|          | 0/3 [00:00<?, ?it/s]\n",
      "Downloading data:   0%|          | 0.00/12.1M [00:00<?, ?B/s]\u001b[A\n",
      "Downloading data:  14%|█▎        | 1.64M/12.1M [00:00<00:00, 16.2MB/s]\u001b[A\n",
      "Downloading data:  29%|██▊       | 3.46M/12.1M [00:00<00:00, 17.4MB/s]\u001b[A\n",
      "Downloading data:  43%|████▎     | 5.20M/12.1M [00:00<00:00, 16.9MB/s]\u001b[A\n",
      "Downloading data:  57%|█████▋    | 6.89M/12.1M [00:00<00:00, 16.6MB/s]\u001b[A\n",
      "Downloading data:  72%|███████▏  | 8.73M/12.1M [00:00<00:00, 17.0MB/s]\u001b[A\n",
      "Downloading data:  86%|████████▌ | 10.4M/12.1M [00:00<00:00, 17.0MB/s]\u001b[A\n",
      "Downloading data: 12.1MB [00:00, 16.3MB/s]                            \u001b[A\n",
      "Downloading data: 13.8MB [00:00, 16.0MB/s]\u001b[A\n",
      "Downloading data: 15.4MB [00:00, 15.4MB/s]\u001b[A\n",
      "Downloading data: 16.9MB [00:01, 15.0MB/s]\u001b[A\n",
      "Downloading data: 18.4MB [00:01, 15.1MB/s]\u001b[A\n",
      "Downloading data: 20.0MB [00:01, 15.1MB/s]\u001b[A\n",
      "Downloading data: 21.5MB [00:01, 14.5MB/s]\u001b[A\n",
      "Downloading data: 22.9MB [00:01, 14.3MB/s]\u001b[A\n",
      "Downloading data: 24.4MB [00:01, 14.5MB/s]\u001b[A\n",
      "Downloading data: 25.9MB [00:01, 14.2MB/s]\u001b[A\n",
      "Downloading data: 27.4MB [00:01, 14.2MB/s]\u001b[A\n",
      "Downloading data: 28.9MB [00:01, 14.6MB/s]\u001b[A\n",
      "Downloading data: 30.4MB [00:01, 14.4MB/s]\u001b[A\n",
      "Downloading data: 31.8MB [00:02, 14.4MB/s]\u001b[A\n",
      "Downloading data: 33.2MB [00:02, 14.3MB/s]\u001b[A\n",
      "Downloading data: 34.7MB [00:02, 14.3MB/s]\u001b[A\n",
      "Downloading data: 36.1MB [00:02, 14.2MB/s]\u001b[A\n",
      "Downloading data: 37.5MB [00:02, 14.1MB/s]\u001b[A\n",
      "Downloading data: 39.0MB [00:02, 14.3MB/s]\u001b[A\n",
      "Downloading data: 40.5MB [00:02, 14.3MB/s]\u001b[A\n",
      "Downloading data: 42.0MB [00:02, 14.4MB/s]\u001b[A\n",
      "Downloading data: 43.4MB [00:02, 14.4MB/s]\u001b[A\n",
      "Downloading data: 44.9MB [00:03, 14.4MB/s]\u001b[A\n",
      "Downloading data: 47.5MB [00:03, 14.9MB/s]\u001b[A\n",
      "Downloading data files:  33%|███▎      | 1/3 [00:08<00:17,  8.60s/it]\n",
      "Downloading data:   0%|          | 0.00/3.04M [00:00<?, ?B/s]\u001b[A\n",
      "Downloading data:  45%|████▍     | 1.35M/3.04M [00:00<00:00, 13.5MB/s]\u001b[A\n",
      "Downloading data:  94%|█████████▍| 2.87M/3.04M [00:00<00:00, 14.1MB/s]\u001b[A\n",
      "Downloading data: 4.27MB [00:00, 13.6MB/s]                            \u001b[A\n",
      "Downloading data: 5.64MB [00:00, 12.7MB/s]\u001b[A\n",
      "Downloading data: 6.92MB [00:00, 12.2MB/s]\u001b[A\n",
      "Downloading data: 8.15MB [00:00, 11.7MB/s]\u001b[A\n",
      "Downloading data: 9.39MB [00:00, 11.8MB/s]\u001b[A\n",
      "Downloading data: 11.8MB [00:00, 12.5MB/s]\u001b[A\n",
      "Downloading data files:  67%|██████▋   | 2/3 [00:11<00:04,  5.00s/it]\n",
      "Downloading data:   0%|          | 0.00/3.14M [00:00<?, ?B/s]\u001b[A\n",
      "Downloading data:  48%|████▊     | 1.51M/3.14M [00:00<00:00, 14.3MB/s]\u001b[A\n",
      "Downloading data:  94%|█████████▎| 2.94M/3.14M [00:00<00:00, 13.6MB/s]\u001b[A\n",
      "Downloading data: 4.30MB [00:00, 12.8MB/s]                            \u001b[A\n",
      "Downloading data: 5.58MB [00:00, 12.5MB/s]\u001b[A\n",
      "Downloading data: 6.84MB [00:00, 12.4MB/s]\u001b[A\n",
      "Downloading data: 8.08MB [00:00, 12.3MB/s]\u001b[A\n",
      "Downloading data: 9.34MB [00:00, 12.3MB/s]\u001b[A\n",
      "Downloading data: 10.7MB [00:00, 12.5MB/s]\u001b[A\n",
      "Downloading data: 12.2MB [00:00, 12.8MB/s]\u001b[A\n",
      "Downloading data files: 100%|██████████| 3/3 [00:13<00:00,  4.52s/it]\n",
      "Extracting data files: 100%|██████████| 3/3 [00:00<00:00, 5212.47it/s]\n",
      "Generating train split: 100%|██████████| 39905/39905 [00:01<00:00, 36401.34 examples/s]\n",
      "Generating test split: 100%|██████████| 10003/10003 [00:00<00:00, 35229.23 examples/s]\n",
      "Generating validation split: 100%|██████████| 10042/10042 [00:00<00:00, 34706.46 examples/s]\n",
      "Downloading builder script: 100%|██████████| 5.28k/5.28k [00:00<00:00, 7.22MB/s]\n",
      "Downloading metadata: 100%|██████████| 2.40k/2.40k [00:00<00:00, 3.95MB/s]\n",
      "Downloading readme: 100%|██████████| 8.02k/8.02k [00:00<00:00, 10.6MB/s]\n",
      "Downloading data files:   0%|          | 0/2 [00:00<?, ?it/s]\n",
      "Downloading data:   0%|          | 0.00/9.55M [00:00<?, ?B/s]\u001b[A\n",
      "Downloading data:  16%|█▋        | 1.56M/9.55M [00:00<00:00, 15.4MB/s]\u001b[A\n",
      "Downloading data:  35%|███▌      | 3.34M/9.55M [00:00<00:00, 16.9MB/s]\u001b[A\n",
      "Downloading data:  53%|█████▎    | 5.03M/9.55M [00:00<00:00, 16.3MB/s]\u001b[A\n",
      "Downloading data:  72%|███████▏  | 6.85M/9.55M [00:00<00:00, 16.9MB/s]\u001b[A\n",
      "Downloading data:  90%|████████▉ | 8.57M/9.55M [00:00<00:00, 16.8MB/s]\u001b[A\n",
      "Downloading data: 10.3MB [00:00, 16.5MB/s]                            \u001b[A\n",
      "Downloading data: 12.0MB [00:00, 16.9MB/s]\u001b[A\n",
      "Downloading data: 13.8MB [00:00, 17.1MB/s]\u001b[A\n",
      "Downloading data: 15.6MB [00:00, 16.8MB/s]\u001b[A\n",
      "Downloading data: 17.3MB [00:01, 17.0MB/s]\u001b[A\n",
      "Downloading data: 19.1MB [00:01, 17.1MB/s]\u001b[A\n",
      "Downloading data: 20.9MB [00:01, 17.3MB/s]\u001b[A\n",
      "Downloading data: 22.6MB [00:01, 17.0MB/s]\u001b[A\n",
      "Downloading data: 24.3MB [00:01, 16.8MB/s]\u001b[A\n",
      "Downloading data: 26.0MB [00:01, 16.8MB/s]\u001b[A\n",
      "Downloading data: 27.9MB [00:01, 17.2MB/s]\u001b[A\n",
      "Downloading data: 29.7MB [00:01, 17.2MB/s]\u001b[A\n",
      "Downloading data: 31.4MB [00:01, 17.0MB/s]\u001b[A\n",
      "Downloading data: 33.1MB [00:02, 14.6MB/s]\u001b[A\n",
      "Downloading data: 34.7MB [00:02, 12.4MB/s]\u001b[A\n",
      "Downloading data: 36.0MB [00:02, 10.9MB/s]\u001b[A\n",
      "Downloading data: 37.8MB [00:02, 12.5MB/s]\u001b[A\n",
      "Downloading data: 39.1MB [00:02, 12.4MB/s]\u001b[A\n",
      "Downloading data: 42.1MB [00:02, 15.3MB/s]\u001b[A\n",
      "Downloading data files:  50%|█████     | 1/2 [00:03<00:03,  3.90s/it]\n",
      "Downloading data:   0%|          | 0.00/801k [00:00<?, ?B/s]\u001b[A\n",
      "Downloading data: 1.95MB [00:00, 19.1MB/s]                  \u001b[A\n",
      "Downloading data: 4.37MB [00:00, 20.6MB/s]\u001b[A\n",
      "Downloading data files: 100%|██████████| 2/2 [00:04<00:00,  2.26s/it]\n",
      "Extracting data files: 100%|██████████| 2/2 [00:00<00:00, 2782.29it/s]\n",
      "Generating train split: 100%|██████████| 130319/130319 [00:02<00:00, 46871.78 examples/s]\n",
      "Generating validation split: 100%|██████████| 11873/11873 [00:00<00:00, 51170.07 examples/s]\n"
     ]
    },
    {
     "name": "stdout",
     "output_type": "stream",
     "text": [
      "Task: arc_easy; number of docs: 2376\n",
      "Task: arc_easy; document 0; context prompt (starting on next line):\n",
      "Question: Homes that are built to be environmentally friendly because they use energy more efficiently than other homes are called \"green\" homes. \"Green\" homes often have reflective roofs and walls made of recycled materials. The windows in these energy-saving homes are double-paned, meaning each window has two pieces of glass. Double-paned windows have a layer of air between the window panes. This layer is a barrier against extreme temperatures and saves energy. A solar panel on a \"green\" home uses\n",
      "Answer: a renewable energy source\n",
      "\n",
      "Question: What is an environmental threat posed by oil and gas acquisition and transport that is not posed by the acquisition and transport of the energy resources uranium, and wood?\n",
      "Answer: pipeline leaks\n",
      "\n",
      "Question: One cause of heat in a car engine is caused by friction between parts. Which of these reduces the amount of heat produced by friction?\n",
      "Answer: oil\n",
      "\n",
      "Question: Which is the function of the gallbladder?\n",
      "Answer:\n",
      "(end of prompt on previous line)\n",
      "Requests: [Req_loglikelihood('Question: Homes that are built to be environmentally friendly because they use energy more efficiently than other homes are called \"green\" homes. \"Green\" homes often have reflective roofs and walls made of recycled materials. The windows in these energy-saving homes are double-paned, meaning each window has two pieces of glass. Double-paned windows have a layer of air between the window panes. This layer is a barrier against extreme temperatures and saves energy. A solar panel on a \"green\" home uses\\nAnswer: a renewable energy source\\n\\nQuestion: What is an environmental threat posed by oil and gas acquisition and transport that is not posed by the acquisition and transport of the energy resources uranium, and wood?\\nAnswer: pipeline leaks\\n\\nQuestion: One cause of heat in a car engine is caused by friction between parts. Which of these reduces the amount of heat produced by friction?\\nAnswer: oil\\n\\nQuestion: Which is the function of the gallbladder?\\nAnswer:', ' store bile')[0]\n",
      ", Req_loglikelihood('Question: Homes that are built to be environmentally friendly because they use energy more efficiently than other homes are called \"green\" homes. \"Green\" homes often have reflective roofs and walls made of recycled materials. The windows in these energy-saving homes are double-paned, meaning each window has two pieces of glass. Double-paned windows have a layer of air between the window panes. This layer is a barrier against extreme temperatures and saves energy. A solar panel on a \"green\" home uses\\nAnswer: a renewable energy source\\n\\nQuestion: What is an environmental threat posed by oil and gas acquisition and transport that is not posed by the acquisition and transport of the energy resources uranium, and wood?\\nAnswer: pipeline leaks\\n\\nQuestion: One cause of heat in a car engine is caused by friction between parts. Which of these reduces the amount of heat produced by friction?\\nAnswer: oil\\n\\nQuestion: Which is the function of the gallbladder?\\nAnswer:', ' produce bile')[0]\n",
      ", Req_loglikelihood('Question: Homes that are built to be environmentally friendly because they use energy more efficiently than other homes are called \"green\" homes. \"Green\" homes often have reflective roofs and walls made of recycled materials. The windows in these energy-saving homes are double-paned, meaning each window has two pieces of glass. Double-paned windows have a layer of air between the window panes. This layer is a barrier against extreme temperatures and saves energy. A solar panel on a \"green\" home uses\\nAnswer: a renewable energy source\\n\\nQuestion: What is an environmental threat posed by oil and gas acquisition and transport that is not posed by the acquisition and transport of the energy resources uranium, and wood?\\nAnswer: pipeline leaks\\n\\nQuestion: One cause of heat in a car engine is caused by friction between parts. Which of these reduces the amount of heat produced by friction?\\nAnswer: oil\\n\\nQuestion: Which is the function of the gallbladder?\\nAnswer:', ' store digestive enzymes')[0]\n",
      ", Req_loglikelihood('Question: Homes that are built to be environmentally friendly because they use energy more efficiently than other homes are called \"green\" homes. \"Green\" homes often have reflective roofs and walls made of recycled materials. The windows in these energy-saving homes are double-paned, meaning each window has two pieces of glass. Double-paned windows have a layer of air between the window panes. This layer is a barrier against extreme temperatures and saves energy. A solar panel on a \"green\" home uses\\nAnswer: a renewable energy source\\n\\nQuestion: What is an environmental threat posed by oil and gas acquisition and transport that is not posed by the acquisition and transport of the energy resources uranium, and wood?\\nAnswer: pipeline leaks\\n\\nQuestion: One cause of heat in a car engine is caused by friction between parts. Which of these reduces the amount of heat produced by friction?\\nAnswer: oil\\n\\nQuestion: Which is the function of the gallbladder?\\nAnswer:', ' produce digestive enzymes')[0]\n",
      "]\n",
      "Task: hellaswag; number of docs: 10042\n",
      "Task: hellaswag; document 0; context prompt (starting on next line):\n",
      "Pole vault: The next man takes his turn and he does the same using the stick to get over the obstacle and jumping up with excitement after landing. Then another man takes his turn and when he lands he throws off his helmet and yells and jumps for joy like the previous men.\n",
      "\n",
      "Education and Communications: How to fill nail holes. Mix dry powder filler with water according to the putty manufacturer's instructions. This form of putty should be mixed to a stiff consistency.. Pack each nail hole full of putty with a plastic dish scraper and add extra putty so you create a slight putty mound.  As the putty dries, it shrinks. Adding extra putty allows for this shrinkage, making sure the nail hole has been completely filled.\n",
      "\n",
      "Snow tubing: Women are in rubbers sliding down a snowy hill. Women stands and laugh and walks.\n",
      "\n",
      "Personal Care and Style: How to increase breast size with a bra. Check your bra size. Wearing a bra that is too big will not make your breasts look larger. That is why it is important to wear the right size bra for you.\n",
      "(end of prompt on previous line)\n",
      "Requests: [Req_loglikelihood(\"Pole vault: The next man takes his turn and he does the same using the stick to get over the obstacle and jumping up with excitement after landing. Then another man takes his turn and when he lands he throws off his helmet and yells and jumps for joy like the previous men.\\n\\nEducation and Communications: How to fill nail holes. Mix dry powder filler with water according to the putty manufacturer's instructions. This form of putty should be mixed to a stiff consistency.. Pack each nail hole full of putty with a plastic dish scraper and add extra putty so you create a slight putty mound.  As the putty dries, it shrinks. Adding extra putty allows for this shrinkage, making sure the nail hole has been completely filled.\\n\\nSnow tubing: Women are in rubbers sliding down a snowy hill. Women stands and laugh and walks.\\n\\nPersonal Care and Style: How to increase breast size with a bra. Check your bra size. Wearing a bra that is too big will not make your breasts look larger. That is why it is important to wear the right size bra for you.\", ' You can visit a lingerie shop and have them measure you to help you fit a bra to your size, or measure yourself before you shop for a new bra to ensure that you get a good fit. Use a flexible tape measure, like one found in a sewing kit.')[0]\n",
      ", Req_loglikelihood(\"Pole vault: The next man takes his turn and he does the same using the stick to get over the obstacle and jumping up with excitement after landing. Then another man takes his turn and when he lands he throws off his helmet and yells and jumps for joy like the previous men.\\n\\nEducation and Communications: How to fill nail holes. Mix dry powder filler with water according to the putty manufacturer's instructions. This form of putty should be mixed to a stiff consistency.. Pack each nail hole full of putty with a plastic dish scraper and add extra putty so you create a slight putty mound.  As the putty dries, it shrinks. Adding extra putty allows for this shrinkage, making sure the nail hole has been completely filled.\\n\\nSnow tubing: Women are in rubbers sliding down a snowy hill. Women stands and laugh and walks.\\n\\nPersonal Care and Style: How to increase breast size with a bra. Check your bra size. Wearing a bra that is too big will not make your breasts look larger. That is why it is important to wear the right size bra for you.\", ' This is why it is important to keep your breasts under protection when in the shower and only wear bras that are larger than your breast size. If you are not wearing a bra, try wearing something that is a little bigger.')[0]\n",
      ", Req_loglikelihood(\"Pole vault: The next man takes his turn and he does the same using the stick to get over the obstacle and jumping up with excitement after landing. Then another man takes his turn and when he lands he throws off his helmet and yells and jumps for joy like the previous men.\\n\\nEducation and Communications: How to fill nail holes. Mix dry powder filler with water according to the putty manufacturer's instructions. This form of putty should be mixed to a stiff consistency.. Pack each nail hole full of putty with a plastic dish scraper and add extra putty so you create a slight putty mound.  As the putty dries, it shrinks. Adding extra putty allows for this shrinkage, making sure the nail hole has been completely filled.\\n\\nSnow tubing: Women are in rubbers sliding down a snowy hill. Women stands and laugh and walks.\\n\\nPersonal Care and Style: How to increase breast size with a bra. Check your bra size. Wearing a bra that is too big will not make your breasts look larger. That is why it is important to wear the right size bra for you.\", ' For a girl, a bra with a support strap will be easier for her, because most women are unable to pull through bra straps and bras that are too small will not be able to support breasts from side-to-side. Many bras have even been created that cover the breast side, and can be sent to other women in the world to make them look bigger.')[0]\n",
      ", Req_loglikelihood(\"Pole vault: The next man takes his turn and he does the same using the stick to get over the obstacle and jumping up with excitement after landing. Then another man takes his turn and when he lands he throws off his helmet and yells and jumps for joy like the previous men.\\n\\nEducation and Communications: How to fill nail holes. Mix dry powder filler with water according to the putty manufacturer's instructions. This form of putty should be mixed to a stiff consistency.. Pack each nail hole full of putty with a plastic dish scraper and add extra putty so you create a slight putty mound.  As the putty dries, it shrinks. Adding extra putty allows for this shrinkage, making sure the nail hole has been completely filled.\\n\\nSnow tubing: Women are in rubbers sliding down a snowy hill. Women stands and laugh and walks.\\n\\nPersonal Care and Style: How to increase breast size with a bra. Check your bra size. Wearing a bra that is too big will not make your breasts look larger. That is why it is important to wear the right size bra for you.\", ' Choose a color that is flattering to your breast type and specific event, in addition to those that make you uncomfortable. Look for sports bras made from natural material, such as spandex or lycra, as this is a more breathable bra.')[0]\n",
      "]\n",
      "Task: squad2; number of docs: 11873\n",
      "Task: squad2; document 0; context prompt (starting on next line):\n",
      "Title: Liberia\n",
      "\n",
      "Background: The subsequent 2005 elections were internationally regarded as the most free and fair in Liberian history. Ellen Johnson Sirleaf, a Harvard-trained economist and former Minister of Finance, was elected as the first female president in Africa. Upon her inauguration, Sirleaf requested the extradition of Taylor from Nigeria and transferred him to the SCSL for trial in The Hague. In 2006, the government established a Truth and Reconciliation Commission to address the causes and crimes of the civil war.\n",
      "\n",
      "Question: Movement For democracy in Liberia requested the extradition of whom\"\n",
      "\n",
      "Answer: Taylor from Nigeria\n",
      "\n",
      "Title: Railway_electrification_system\n",
      "\n",
      "Background: Some street trams (streetcars) used conduit third-rail current collection. The third rail was below street level. The tram picked up the current through a plough (U.S. \"plow\") accessed through a narrow slot in the road. In the United States, much (though not all) of the former streetcar system in Washington, D.C. (discontinued in 1962) was operated in this manner to avoid the unsightly wires and poles associated with electric traction. The same was true with Manhattan's former streetcar system. The evidence of this mode of running can still be seen on the track down the slope on the northern access to the abandoned Kingsway Tramway Subway in central London, United Kingdom, where the slot between the running rails is clearly visible, and on P and Q Streets west of Wisconsin Avenue in the Georgetown neighborhood of Washington DC, where the abandoned tracks have not been paved over. The slot can easily be confused with the similar looking slot for cable trams/cars (in some cases, the conduit slot was originally a cable slot). The disadvantage of conduit collection included much higher initial installation costs, higher maintenance costs, and problems with leaves and snow getting in the slot. For this reason, in Washington, D.C. cars on some lines converted to overhead wire on leaving the city center, a worker in a \"plough pit\" disconnecting the plough while another raised the trolley pole (hitherto hooked down to the roof) to the overhead wire. In New York City for the same reasons of cost and operating efficiency outside of Manhattan overhead wire was used. A similar system of changeover from conduit to overhead wire was also used on the London tramways, notably on the southern side; a typical changeover point was at Norwood, where the conduit snaked sideways from between the running rails, to provide a park for detached shoes or ploughs.\n",
      "\n",
      "Question: In what neighborhood in New York have the abandoned tracks not been paved over?\n",
      "\n",
      "Answer: unanswerable\n",
      "\n",
      "Title: Dog\n",
      "\n",
      "Background: Purebred dogs of one breed are genetically distinguishable from purebred dogs of other breeds, but the means by which kennel clubs classify dogs is unsystematic. Systematic analyses of the dog genome has revealed only four major types of dogs that can be said to be statistically distinct. These include the \"old world dogs\" (e.g., Malamute and Shar Pei), \"Mastiff\"-type (e.g., English Mastiff), \"herding\"-type (e.g., Border Collie), and \"all others\" (also called \"modern\"- or \"hunting\"-type).\n",
      "\n",
      "Question: What type of dogs are Shar Peis?\n",
      "\n",
      "Answer: old world dogs\n",
      "\n",
      "Title: Immune_system\n",
      "\n",
      "Background: Pattern recognition receptors are proteins used by nearly all organisms to identify molecules associated with pathogens. Antimicrobial peptides called defensins are an evolutionarily conserved component of the innate immune response found in all animals and plants, and represent the main form of invertebrate systemic immunity. The complement system and phagocytic cells are also used by most forms of invertebrate life. Ribonucleases and the RNA interference pathway are conserved across all eukaryotes, and are thought to play a role in the immune response to viruses.\n",
      "\n",
      "Question: What pathway that plays a role in immune response to viruses is present in all eukaryotes?\n",
      "\n",
      "Answer:\n",
      "(end of prompt on previous line)\n",
      "Requests: (Req_greedy_until('Title: Liberia\\n\\nBackground: The subsequent 2005 elections were internationally regarded as the most free and fair in Liberian history. Ellen Johnson Sirleaf, a Harvard-trained economist and former Minister of Finance, was elected as the first female president in Africa. Upon her inauguration, Sirleaf requested the extradition of Taylor from Nigeria and transferred him to the SCSL for trial in The Hague. In 2006, the government established a Truth and Reconciliation Commission to address the causes and crimes of the civil war.\\n\\nQuestion: Movement For democracy in Liberia requested the extradition of whom\"\\n\\nAnswer: Taylor from Nigeria\\n\\nTitle: Railway_electrification_system\\n\\nBackground: Some street trams (streetcars) used conduit third-rail current collection. The third rail was below street level. The tram picked up the current through a plough (U.S. \"plow\") accessed through a narrow slot in the road. In the United States, much (though not all) of the former streetcar system in Washington, D.C. (discontinued in 1962) was operated in this manner to avoid the unsightly wires and poles associated with electric traction. The same was true with Manhattan\\'s former streetcar system. The evidence of this mode of running can still be seen on the track down the slope on the northern access to the abandoned Kingsway Tramway Subway in central London, United Kingdom, where the slot between the running rails is clearly visible, and on P and Q Streets west of Wisconsin Avenue in the Georgetown neighborhood of Washington DC, where the abandoned tracks have not been paved over. The slot can easily be confused with the similar looking slot for cable trams/cars (in some cases, the conduit slot was originally a cable slot). The disadvantage of conduit collection included much higher initial installation costs, higher maintenance costs, and problems with leaves and snow getting in the slot. For this reason, in Washington, D.C. cars on some lines converted to overhead wire on leaving the city center, a worker in a \"plough pit\" disconnecting the plough while another raised the trolley pole (hitherto hooked down to the roof) to the overhead wire. In New York City for the same reasons of cost and operating efficiency outside of Manhattan overhead wire was used. A similar system of changeover from conduit to overhead wire was also used on the London tramways, notably on the southern side; a typical changeover point was at Norwood, where the conduit snaked sideways from between the running rails, to provide a park for detached shoes or ploughs.\\n\\nQuestion: In what neighborhood in New York have the abandoned tracks not been paved over?\\n\\nAnswer: unanswerable\\n\\nTitle: Dog\\n\\nBackground: Purebred dogs of one breed are genetically distinguishable from purebred dogs of other breeds, but the means by which kennel clubs classify dogs is unsystematic. Systematic analyses of the dog genome has revealed only four major types of dogs that can be said to be statistically distinct. These include the \"old world dogs\" (e.g., Malamute and Shar Pei), \"Mastiff\"-type (e.g., English Mastiff), \"herding\"-type (e.g., Border Collie), and \"all others\" (also called \"modern\"- or \"hunting\"-type).\\n\\nQuestion: What type of dogs are Shar Peis?\\n\\nAnswer: old world dogs\\n\\nTitle: Immune_system\\n\\nBackground: Pattern recognition receptors are proteins used by nearly all organisms to identify molecules associated with pathogens. Antimicrobial peptides called defensins are an evolutionarily conserved component of the innate immune response found in all animals and plants, and represent the main form of invertebrate systemic immunity. The complement system and phagocytic cells are also used by most forms of invertebrate life. Ribonucleases and the RNA interference pathway are conserved across all eukaryotes, and are thought to play a role in the immune response to viruses.\\n\\nQuestion: What pathway that plays a role in immune response to viruses is present in all eukaryotes?\\n\\nAnswer:', {'until': ['\\n']})[None]\n",
      ", Req_loglikelihood('Title: Liberia\\n\\nBackground: The subsequent 2005 elections were internationally regarded as the most free and fair in Liberian history. Ellen Johnson Sirleaf, a Harvard-trained economist and former Minister of Finance, was elected as the first female president in Africa. Upon her inauguration, Sirleaf requested the extradition of Taylor from Nigeria and transferred him to the SCSL for trial in The Hague. In 2006, the government established a Truth and Reconciliation Commission to address the causes and crimes of the civil war.\\n\\nQuestion: Movement For democracy in Liberia requested the extradition of whom\"\\n\\nAnswer: Taylor from Nigeria\\n\\nTitle: Railway_electrification_system\\n\\nBackground: Some street trams (streetcars) used conduit third-rail current collection. The third rail was below street level. The tram picked up the current through a plough (U.S. \"plow\") accessed through a narrow slot in the road. In the United States, much (though not all) of the former streetcar system in Washington, D.C. (discontinued in 1962) was operated in this manner to avoid the unsightly wires and poles associated with electric traction. The same was true with Manhattan\\'s former streetcar system. The evidence of this mode of running can still be seen on the track down the slope on the northern access to the abandoned Kingsway Tramway Subway in central London, United Kingdom, where the slot between the running rails is clearly visible, and on P and Q Streets west of Wisconsin Avenue in the Georgetown neighborhood of Washington DC, where the abandoned tracks have not been paved over. The slot can easily be confused with the similar looking slot for cable trams/cars (in some cases, the conduit slot was originally a cable slot). The disadvantage of conduit collection included much higher initial installation costs, higher maintenance costs, and problems with leaves and snow getting in the slot. For this reason, in Washington, D.C. cars on some lines converted to overhead wire on leaving the city center, a worker in a \"plough pit\" disconnecting the plough while another raised the trolley pole (hitherto hooked down to the roof) to the overhead wire. In New York City for the same reasons of cost and operating efficiency outside of Manhattan overhead wire was used. A similar system of changeover from conduit to overhead wire was also used on the London tramways, notably on the southern side; a typical changeover point was at Norwood, where the conduit snaked sideways from between the running rails, to provide a park for detached shoes or ploughs.\\n\\nQuestion: In what neighborhood in New York have the abandoned tracks not been paved over?\\n\\nAnswer: unanswerable\\n\\nTitle: Dog\\n\\nBackground: Purebred dogs of one breed are genetically distinguishable from purebred dogs of other breeds, but the means by which kennel clubs classify dogs is unsystematic. Systematic analyses of the dog genome has revealed only four major types of dogs that can be said to be statistically distinct. These include the \"old world dogs\" (e.g., Malamute and Shar Pei), \"Mastiff\"-type (e.g., English Mastiff), \"herding\"-type (e.g., Border Collie), and \"all others\" (also called \"modern\"- or \"hunting\"-type).\\n\\nQuestion: What type of dogs are Shar Peis?\\n\\nAnswer: old world dogs\\n\\nTitle: Immune_system\\n\\nBackground: Pattern recognition receptors are proteins used by nearly all organisms to identify molecules associated with pathogens. Antimicrobial peptides called defensins are an evolutionarily conserved component of the innate immune response found in all animals and plants, and represent the main form of invertebrate systemic immunity. The complement system and phagocytic cells are also used by most forms of invertebrate life. Ribonucleases and the RNA interference pathway are conserved across all eukaryotes, and are thought to play a role in the immune response to viruses.\\n\\nQuestion: What pathway that plays a role in immune response to viruses is present in all eukaryotes?\\n\\nAnswer:', ' unanswerable')[None]\n",
      ")\n",
      "Running loglikelihood requests\n"
     ]
    },
    {
     "name": "stderr",
     "output_type": "stream",
     "text": [
      "100%|██████████| 61542/61542 [12:18<00:00, 83.37it/s] \n"
     ]
    },
    {
     "name": "stdout",
     "output_type": "stream",
     "text": [
      "Running greedy_until requests\n"
     ]
    },
    {
     "name": "stderr",
     "output_type": "stream",
     "text": [
      "100%|██████████| 11873/11873 [39:39<00:00,  4.99it/s] \n",
      "/work/lm-evaluation-harness/lm_eval/tasks/squad.py:36: FutureWarning: load_metric is deprecated and will be removed in the next major version of datasets. Use 'evaluate.load' instead, from the new library 🤗 Evaluate: https://huggingface.co/docs/evaluate\n",
      "  squad_metric = datasets.load_metric(\"squad_v2\")\n",
      "Downloading builder script: 6.46kB [00:00, 8.72MB/s]                   \n",
      "Downloading extra modules: 11.3kB [00:00, 17.1MB/s]                   \n"
     ]
    }
   ],
   "source": [
    "# 評価を実行\n",
    "results = lm_eval.evaluator.simple_evaluate(\n",
    "    model=model,\n",
    "    tasks=[\"arc_easy\",\"hellaswag\",\"squad2\"],  \n",
    "    batch_size=16,\n",
    "    num_fewshot=3,\n",
    "    device=\"cuda\"  \n",
    ")"
   ]
  },
  {
   "cell_type": "code",
   "execution_count": 17,
   "id": "ec42edaf-ed2e-4ffc-a176-3be2b0cce083",
   "metadata": {},
   "outputs": [
    {
     "data": {
      "text/plain": [
       "5.770005969375321"
      ]
     },
     "execution_count": 17,
     "metadata": {},
     "output_type": "execute_result"
    }
   ],
   "source": [
    "results[\"results\"][\"squad2\"][\"f1\"]"
   ]
  },
  {
   "cell_type": "code",
   "execution_count": null,
   "id": "8f6605c2-20d3-4a95-bb63-a0cb370b1198",
   "metadata": {},
   "outputs": [],
   "source": [
    "table_contents = []\n",
    "table_contents.append(run.id)\n",
    "table_contents.append(results[\"results\"][\"arc_easy\"][\"acc\"])\n",
    "table_contents.append(results[\"results\"][\"hellaswag\"][\"acc\"])\n",
    "table_contents.append(results[\"results\"][\"hellaswag\"][\"acc\"])\n",
    "table = wandb.Table(columns=['finetuned-model:v1']+tasks,\n",
    "                            data=[table_contents])\n",
    "run.log({'result_table':table})\n",
    "run.log_code()"
   ]
  },
  {
   "cell_type": "code",
   "execution_count": null,
   "id": "3ece5e21-e6de-4918-bbca-de37c1359aaa",
   "metadata": {},
   "outputs": [],
   "source": [
    "def get_completion_responses_batch(prompts, ft_path):\n",
    "    # Get completions for each model in batches\n",
    "    opt_completions = get_huggingface_completion_batch(prompts, \"facebook/opt-125m\")\n",
    "    ft_completions = get_huggingface_completion_batch(prompts, ft_path)\n",
    "    responses = []\n",
    "    for opt, ft in zip(opt_completions, ft_completions):\n",
    "        responses.append({\n",
    "            \"Production\": opt,\n",
    "            \"Staging (finetuned)\": ft\n",
    "        })\n",
    "    return responses\n",
    "\n",
    "def get_huggingface_completion_batch(prompts, model):\n",
    "    generator = pipeline('text-generation', model=model)\n",
    "    responses = generator(prompts, max_new_tokens=50)\n",
    "    completions = []\n",
    "    for i, prompt in enumerate(prompts):\n",
    "        full_output = responses[i][0][\"generated_text\"]\n",
    "        output = full_output[len(prompt):] if full_output.startswith(prompt) else full_output\n",
    "        completions.append(output.strip())\n",
    "    return completions\n",
    "\n",
    "def get_model_comparison_df(prompts, ft_path):\n",
    "    trimmed_prompts = [\n",
    "        \" \".join(prompt.split()[:random.randint(5,12)])\n",
    "        for prompt in prompts\n",
    "    ]\n",
    "    responses = get_completion_responses_batch(trimmed_prompts, ft_path)\n",
    "    df = pd.DataFrame(responses)\n",
    "    df.insert(0, \"prompt\", trimmed_prompts)\n",
    "    return df\n",
    "\n",
    "def get_latency_df(prompts, num_prompts, ft_path, ct2_path):\n",
    "  prompts = prompts.to_list()[:num_prompts]\n",
    "  ft_time = timeit.timeit(lambda: get_huggingface_completion_batch(prompts, model), number=1)\n",
    "  opt_time = timeit.timeit(lambda: get_huggingface_completion_batch(prompts, \"facebook/opt-125m\"), number=1)\n",
    "\n",
    "  return pd.DataFrame({\n",
    "    \"Model\": [\"Production\", \"Staging (finetuned)\"],\n",
    "    f\"Latency for {num_prompts} Reviews\": [opt_time, ft_time],\n",
    "  })\n"
   ]
  },
  {
   "cell_type": "code",
   "execution_count": null,
   "id": "1b27eb22-ecf4-4f74-bd96-c7a96f0e9ea6",
   "metadata": {},
   "outputs": [],
   "source": []
  },
  {
   "cell_type": "code",
   "execution_count": null,
   "id": "fcc6189a-6d8a-49a9-b0a3-044c31fb2807",
   "metadata": {},
   "outputs": [],
   "source": [
    "\n",
    "\n",
    "print(results)"
   ]
  },
  {
   "cell_type": "code",
   "execution_count": null,
   "id": "fcd82c42-810b-4f6f-b48c-446074032143",
   "metadata": {},
   "outputs": [],
   "source": [
    "results"
   ]
  },
  {
   "cell_type": "code",
   "execution_count": null,
   "id": "378317e0-a89d-44bd-b7c3-1e3799746437",
   "metadata": {},
   "outputs": [],
   "source": [
    "with wandb.init(job_type=\"model_evaluation\") as run:\n",
    "    staging_model = wandb.use_artifact(f'{os.environ[\"WANDB_ENTITY\"]}/model-registry/{MODEL_NAME}:staging')\n",
    "    staging_path = staging_model.download()\n",
    "    \n",
    "\n",
    "    reviews_artifact = run.use_artifact(f'{os.environ[\"WANDB_ENTITY\"]}/{os.environ[\"WANDB_PROJECT\"]}/reviews:production')\n",
    "    reviews_dir = reviews_artifact.download()\n",
    "\n",
    "    test_files = glob.glob(f\"{reviews_dir}/test/*.parquet\")\n",
    "    test_data = pd.concat([pd.read_parquet(path) for path in test_files])\n",
    "    prompts = test_data.sample(frac=1)[\"text\"][:10]\n",
    "\n",
    "    wandb.log({\n",
    "        EVALUATION_TABLE_NAME: get_model_comparison_df(prompts, ft_path=staging_path),\n",
    "        LATENCY_TABLE_NAME: get_latency_df(prompts, num_prompts=3, ft_path=staging_path)\n",
    "    })\n"
   ]
  },
  {
   "cell_type": "code",
   "execution_count": null,
   "id": "7f68ebe4-4603-4b9b-864f-1ab78b6481ba",
   "metadata": {},
   "outputs": [],
   "source": [
    "\n",
    "# Report\n",
    "    report = wr.Report(\n",
    "        project=os.environ[\"WANDB_PROJECT\"],\n",
    "        entity=os.environ[\"WANDB_ENTITY\"],\n",
    "        title='Model Evaluation: Autocompletion Model',\n",
    "        description=\"Data and sample predictions to evaluate the staging candidate model for our review autocompletion algorithm.\"\n",
    "    )\n",
    "\n",
    "    report.width = \"fluid\"\n",
    "\n",
    "    runsets = [wr.Runset(\n",
    "        os.environ[\"WANDB_ENTITY\"],\n",
    "        os.environ['WANDB_PROJECT']\n",
    "        )]\n",
    "\n",
    "    report.blocks = [\n",
    "        wr.TableOfContents(),\n",
    "        wr.H1(\"Report Overview\"),\n",
    "        wr.P(\n",
    "            \"This report contains information to evaluate whether potential staging models \"\n",
    "            \"should be moved to production. Model Registry admins can use the view of the \"\n",
    "            \"Model Registry at the end of this report to move a staging model into production, \"\n",
    "            \"using a Webhook automation.\"\n",
    "        ),\n",
    "        wr.Spotify(spotify_id=\"7KAveXwQ5xzdHT6GDlNIBu\"),\n",
    "        wr.MarkdownBlock(\"May this staging model earn 5 stars 🙏.\"),\n",
    "        wr.HorizontalRule(),\n",
    "    ]\n",
    "\n",
    "    pg = wr.PanelGrid(\n",
    "        runsets=runsets,\n",
    "        panels=[\n",
    "        wr.ScalarChart(\n",
    "            title=\"Current Min Eval Loss\",\n",
    "            metric=\"eval/loss\",\n",
    "            groupby_aggfunc=\"min\",\n",
    "            font_size=\"large\"),\n",
    "\n",
    "        wr.ScalarChart(\n",
    "            title=\"Current Min Train Loss\",\n",
    "            metric=\"train/loss\",\n",
    "            groupby_aggfunc=\"min\",\n",
    "            font_size=\"large\"),\n",
    "\n",
    "        wr.ScalarChart(\n",
    "            title=\"Longest Runtime (sec)\",\n",
    "            metric=\"train/train_runtime\",\n",
    "            groupby_aggfunc=\"max\",\n",
    "            font_size=\"large\"),\n",
    "\n",
    "        wr.LinePlot(x='Step',\n",
    "                    y=['eval/loss'],\n",
    "                    smoothing_factor=0.8,\n",
    "                    layout={'w': 24, 'h': 9})\n",
    "        ]\n",
    "    )\n",
    "\n",
    "    report.blocks += [wr.H1(\"Key Metrics\"), pg]\n",
    "\n",
    "    pg = wr.PanelGrid(\n",
    "        runsets=runsets,\n",
    "        panels=[\n",
    "            wr.WeavePanelSummaryTable(LATENCY_TABLE_NAME, layout={'w': 24, 'h': 12}),\n",
    "        ])\n",
    "\n",
    "    report.blocks += [wr.H1(\"Latency Data for Models\"), pg]\n",
    "\n",
    "\n",
    "    pg = wr.PanelGrid(\n",
    "        runsets=runsets,\n",
    "        panels=[\n",
    "            wr.WeavePanelSummaryTable(EVALUATION_TABLE_NAME, layout={'w': 24, 'h': 12}),\n",
    "        ])\n",
    "\n",
    "    report.blocks += [wr.H1(\"Sample Predictions\"), pg]\n",
    "\n",
    "    report.blocks += [wr.H1(\"Autocompletion Model in Model Registry\"), wr.WeaveBlockArtifact(os.environ[\"WANDB_ENTITY\"], \"model-registry\", MODEL_NAME)]\n",
    "    report.save()\n",
    "\n",
    "    report_creation_msg = f\"Report to review: {urllib.parse.quote(report.url, safe=r'/:')}\"\n",
    "    print(report_creation_msg)\n",
    "\n",
    "    wandb.alert(\"New Staging Model Evaluated\", report_creation_msg)"
   ]
  }
 ],
 "metadata": {
  "kernelspec": {
   "display_name": "Python 3 (ipykernel)",
   "language": "python",
   "name": "python3"
  },
  "language_info": {
   "codemirror_mode": {
    "name": "ipython",
    "version": 3
   },
   "file_extension": ".py",
   "mimetype": "text/x-python",
   "name": "python",
   "nbconvert_exporter": "python",
   "pygments_lexer": "ipython3",
   "version": "3.10.12"
  }
 },
 "nbformat": 4,
 "nbformat_minor": 5
}
