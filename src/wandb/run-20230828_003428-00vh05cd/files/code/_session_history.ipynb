{
 "cells": [
  {
   "cell_type": "code",
   "execution_count": 1,
   "id": "768e9b26",
   "metadata": {},
   "outputs": [],
   "source": [
    "#!pip install lm-eval==0.3.0 -qqq\n",
    "!git clone https://github.com/EleutherAI/lm-evaluation-harness\n",
    "!pip install -e ./lm-evaluation-harness/. -qqq"
   ]
  },
  {
   "cell_type": "code",
   "execution_count": 2,
   "id": "10554d62",
   "metadata": {},
   "outputs": [],
   "source": [
    "import ctranslate2\n",
    "import glob\n",
    "import os\n",
    "import pandas as pd\n",
    "import peft\n",
    "import random\n",
    "import timeit\n",
    "import urllib\n",
    "import torch\n",
    "import json\n",
    "import os\n",
    "from lm_eval import tasks, evaluator, utils\n",
    "import lm_eval\n",
    "import wandb\n",
    "from peft import get_peft_model, LoraConfig, TaskType\n",
    "from peft import PeftModel, PeftConfig\n",
    "import wandb.apis.reports as wr\n",
    "from transformers import AutoTokenizer, AutoConfig, AutoModelForCausalLM, pipeline"
   ]
  },
  {
   "cell_type": "code",
   "execution_count": 3,
   "id": "de1012c2",
   "metadata": {},
   "outputs": [],
   "source": [
    "os.environ[\"WANDB_PROJECT\"] = \"Autocompletion with evaluation\"\n",
    "os.environ[\"WANDB_ENTITY\"] = \"reviewco\"\n",
    "os.environ[\"WANDB_USERNAME\"] = \"keisuke-kamata\"\n",
    "os.environ[\"WANDB_LOG_MODEL\"] = \"checkpoint\"\n",
    "os.environ[\"WANDB_WATCH\"] = \"gradients\"\n",
    "\n",
    "SCORE_TABLE_NAME = \"Score\"\n",
    "EVALUATION_TABLE_NAME = \"Validation Responses\"\n",
    "LATENCY_TABLE_NAME = \"Model Latencies\"\n",
    "MODEL_NAME = \"Finetuned-Review-Autocompletion\""
   ]
  },
  {
   "cell_type": "code",
   "execution_count": 4,
   "id": "b8857ffb",
   "metadata": {},
   "outputs": [
    {
     "data": {
      "text/html": [
       "Tracking run with wandb version 0.15.8"
      ],
      "text/plain": [
       "<IPython.core.display.HTML object>"
      ]
     },
     "metadata": {},
     "output_type": "display_data"
    },
    {
     "data": {
      "text/html": [
       "Run data is saved locally in <code>/work/wandb/run-20230828_003428-00vh05cd</code>"
      ],
      "text/plain": [
       "<IPython.core.display.HTML object>"
      ]
     },
     "metadata": {},
     "output_type": "display_data"
    },
    {
     "data": {
      "text/html": [
       "Syncing run <strong><a href='https://wandb.ai/reviewco/Autocompletion%20with%20evaluation/runs/00vh05cd' target=\"_blank\">deep-eon-34</a></strong> to <a href='https://wandb.ai/reviewco/Autocompletion%20with%20evaluation' target=\"_blank\">Weights & Biases</a> (<a href='https://wandb.me/run' target=\"_blank\">docs</a>)<br/>"
      ],
      "text/plain": [
       "<IPython.core.display.HTML object>"
      ]
     },
     "metadata": {},
     "output_type": "display_data"
    },
    {
     "data": {
      "text/html": [
       " View project at <a href='https://wandb.ai/reviewco/Autocompletion%20with%20evaluation' target=\"_blank\">https://wandb.ai/reviewco/Autocompletion%20with%20evaluation</a>"
      ],
      "text/plain": [
       "<IPython.core.display.HTML object>"
      ]
     },
     "metadata": {},
     "output_type": "display_data"
    },
    {
     "data": {
      "text/html": [
       " View run at <a href='https://wandb.ai/reviewco/Autocompletion%20with%20evaluation/runs/00vh05cd' target=\"_blank\">https://wandb.ai/reviewco/Autocompletion%20with%20evaluation/runs/00vh05cd</a>"
      ],
      "text/plain": [
       "<IPython.core.display.HTML object>"
      ]
     },
     "metadata": {},
     "output_type": "display_data"
    }
   ],
   "source": [
    "run = wandb.init(job_type=\"evaluation\")\n",
    "artifact = run.use_artifact('reviewco/Autocompletion with evaluation/finetuned-model:v1', type='model')\n",
    "artifact_dir = artifact.download()    \n",
    "base_llm = AutoModelForCausalLM.from_pretrained(\"facebook/opt-125m\", device_map=\"auto\", torch_dtype=torch.float16)\n",
    "tokenizer = AutoTokenizer.from_pretrained(\"facebook/opt-125m\", local_files_only=True)\n",
    "model = PeftModel.from_pretrained(base_llm, artifact_dir,torch_dtype=torch.float16)\n",
    "model = model.merge_and_unload()"
   ]
  },
  {
   "cell_type": "code",
   "execution_count": 5,
   "id": "54584b83",
   "metadata": {},
   "outputs": [],
   "source": [
    "# 評価を実行\n",
    "results = lm_eval.evaluator.simple_evaluate(\n",
    "    model=model,\n",
    "    tasks=[\"arc_easy\",\"hellaswag\",\"squad2\"],  \n",
    "    batch_size=16,\n",
    "    num_fewshot=3,\n",
    "    device=\"cuda\"  \n",
    ")"
   ]
  },
  {
   "cell_type": "code",
   "execution_count": 6,
   "id": "313590e1",
   "metadata": {},
   "outputs": [
    {
     "name": "stdout",
     "output_type": "stream",
     "text": [
      "{'results': {'arc_easy': {'acc': 0.42045454545454547,\n",
      "   'acc_stderr': 0.010129114278546526,\n",
      "   'acc_norm': 0.4057239057239057,\n",
      "   'acc_norm_stderr': 0.010075755540128871},\n",
      "  'hellaswag': {'acc': 0.29047998406691894,\n",
      "   'acc_stderr': 0.004530560646902538,\n",
      "   'acc_norm': 0.31467835092611035,\n",
      "   'acc_norm_stderr': 0.004634385694170044},\n",
      "  'squad2': {'exact': 2.661500884359471,\n",
      "   'f1': 5.770005969375321,\n",
      "   'HasAns_exact': 5.280026990553306,\n",
      "   'HasAns_f1': 11.505951564506272,\n",
      "   'NoAns_exact': 0.050462573591253154,\n",
      "   'NoAns_f1': 0.050462573591253154,\n",
      "   'best_exact': 50.07159100480081,\n",
      "   'best_f1': 50.07159100480081}},\n",
      " 'versions': {'arc_easy': 0, 'hellaswag': 0, 'squad2': 1},\n",
      " 'config': {'model': 'pretrained=facebook/opt-125m',\n",
      "  'model_args': None,\n",
      "  'num_fewshot': 3,\n",
      "  'batch_size': 16,\n",
      "  'batch_sizes': [],\n",
      "  'device': 'cuda',\n",
      "  'no_cache': True,\n",
      "  'limit': None,\n",
      "  'bootstrap_iters': 100000,\n",
      "  'description_dict': None}}"
     ]
    }
   ],
   "source": [
    "results"
   ]
  },
  {
   "cell_type": "code",
   "execution_count": 7,
   "id": "97e706df",
   "metadata": {},
   "outputs": [
    {
     "name": "stdout",
     "output_type": "stream",
     "text": [
      "{'results': {'arc_easy': {'acc': 0.42045454545454547,\n",
      "   'acc_stderr': 0.010129114278546526,\n",
      "   'acc_norm': 0.4057239057239057,\n",
      "   'acc_norm_stderr': 0.010075755540128871},\n",
      "  'hellaswag': {'acc': 0.29047998406691894,\n",
      "   'acc_stderr': 0.004530560646902538,\n",
      "   'acc_norm': 0.31467835092611035,\n",
      "   'acc_norm_stderr': 0.004634385694170044},\n",
      "  'squad2': {'exact': 2.661500884359471,\n",
      "   'f1': 5.770005969375321,\n",
      "   'HasAns_exact': 5.280026990553306,\n",
      "   'HasAns_f1': 11.505951564506272,\n",
      "   'NoAns_exact': 0.050462573591253154,\n",
      "   'NoAns_f1': 0.050462573591253154,\n",
      "   'best_exact': 50.07159100480081,\n",
      "   'best_f1': 50.07159100480081}},\n",
      " 'versions': {'arc_easy': 0, 'hellaswag': 0, 'squad2': 1},\n",
      " 'config': {'model': 'pretrained=facebook/opt-125m',\n",
      "  'model_args': None,\n",
      "  'num_fewshot': 3,\n",
      "  'batch_size': 16,\n",
      "  'batch_sizes': [],\n",
      "  'device': 'cuda',\n",
      "  'no_cache': True,\n",
      "  'limit': None,\n",
      "  'bootstrap_iters': 100000,\n",
      "  'description_dict': None}}"
     ]
    }
   ],
   "source": [
    "results"
   ]
  },
  {
   "cell_type": "code",
   "execution_count": 8,
   "id": "a552c222",
   "metadata": {},
   "outputs": [
    {
     "name": "stdout",
     "output_type": "stream",
     "text": [
      "{'arc_easy': {'acc': 0.42045454545454547,\n",
      "  'acc_stderr': 0.010129114278546526,\n",
      "  'acc_norm': 0.4057239057239057,\n",
      "  'acc_norm_stderr': 0.010075755540128871},\n",
      " 'hellaswag': {'acc': 0.29047998406691894,\n",
      "  'acc_stderr': 0.004530560646902538,\n",
      "  'acc_norm': 0.31467835092611035,\n",
      "  'acc_norm_stderr': 0.004634385694170044},\n",
      " 'squad2': {'exact': 2.661500884359471,\n",
      "  'f1': 5.770005969375321,\n",
      "  'HasAns_exact': 5.280026990553306,\n",
      "  'HasAns_f1': 11.505951564506272,\n",
      "  'NoAns_exact': 0.050462573591253154,\n",
      "  'NoAns_f1': 0.050462573591253154,\n",
      "  'best_exact': 50.07159100480081,\n",
      "  'best_f1': 50.07159100480081}}"
     ]
    }
   ],
   "source": [
    "results[\"results\"]"
   ]
  },
  {
   "cell_type": "code",
   "execution_count": 9,
   "id": "eb3c60eb",
   "metadata": {},
   "outputs": [
    {
     "name": "stdout",
     "output_type": "stream",
     "text": [
      "{'acc': 0.42045454545454547,\n",
      " 'acc_stderr': 0.010129114278546526,\n",
      " 'acc_norm': 0.4057239057239057,\n",
      " 'acc_norm_stderr': 0.010075755540128871}"
     ]
    }
   ],
   "source": [
    "results[\"results\"][\"arc_easy\"]"
   ]
  },
  {
   "cell_type": "code",
   "execution_count": 10,
   "id": "c1b30540",
   "metadata": {},
   "outputs": [
    {
     "name": "stdout",
     "output_type": "stream",
     "text": [
      "0.42045454545454547"
     ]
    }
   ],
   "source": [
    "results[\"results\"][\"arc_easy\"][\"acc\"]"
   ]
  },
  {
   "cell_type": "code",
   "execution_count": 11,
   "id": "7b0f7963",
   "metadata": {},
   "outputs": [
    {
     "name": "stdout",
     "output_type": "stream",
     "text": [
      "'00vh05cd'"
     ]
    }
   ],
   "source": [
    "run.id"
   ]
  },
  {
   "cell_type": "code",
   "execution_count": 12,
   "id": "2e59e2d5",
   "metadata": {},
   "outputs": [
    {
     "name": "stdout",
     "output_type": "stream",
     "text": [
      "{'arc_easy': {'acc': 0.42045454545454547,\n",
      "  'acc_stderr': 0.010129114278546526,\n",
      "  'acc_norm': 0.4057239057239057,\n",
      "  'acc_norm_stderr': 0.010075755540128871},\n",
      " 'hellaswag': {'acc': 0.29047998406691894,\n",
      "  'acc_stderr': 0.004530560646902538,\n",
      "  'acc_norm': 0.31467835092611035,\n",
      "  'acc_norm_stderr': 0.004634385694170044},\n",
      " 'squad2': {'exact': 2.661500884359471,\n",
      "  'f1': 5.770005969375321,\n",
      "  'HasAns_exact': 5.280026990553306,\n",
      "  'HasAns_f1': 11.505951564506272,\n",
      "  'NoAns_exact': 0.050462573591253154,\n",
      "  'NoAns_f1': 0.050462573591253154,\n",
      "  'best_exact': 50.07159100480081,\n",
      "  'best_f1': 50.07159100480081}}"
     ]
    }
   ],
   "source": [
    "results[\"results\"]"
   ]
  },
  {
   "cell_type": "code",
   "execution_count": 13,
   "id": "8b619ffa",
   "metadata": {},
   "outputs": [
    {
     "name": "stdout",
     "output_type": "stream",
     "text": [
      "0.29047998406691894"
     ]
    }
   ],
   "source": [
    "results[\"results\"][\"hellaswag\"][\"acc\"]"
   ]
  },
  {
   "cell_type": "code",
   "execution_count": 14,
   "id": "89d451ea",
   "metadata": {},
   "outputs": [
    {
     "name": "stdout",
     "output_type": "stream",
     "text": [
      "{'arc_easy': {'acc': 0.42045454545454547,\n",
      "  'acc_stderr': 0.010129114278546526,\n",
      "  'acc_norm': 0.4057239057239057,\n",
      "  'acc_norm_stderr': 0.010075755540128871},\n",
      " 'hellaswag': {'acc': 0.29047998406691894,\n",
      "  'acc_stderr': 0.004530560646902538,\n",
      "  'acc_norm': 0.31467835092611035,\n",
      "  'acc_norm_stderr': 0.004634385694170044},\n",
      " 'squad2': {'exact': 2.661500884359471,\n",
      "  'f1': 5.770005969375321,\n",
      "  'HasAns_exact': 5.280026990553306,\n",
      "  'HasAns_f1': 11.505951564506272,\n",
      "  'NoAns_exact': 0.050462573591253154,\n",
      "  'NoAns_f1': 0.050462573591253154,\n",
      "  'best_exact': 50.07159100480081,\n",
      "  'best_f1': 50.07159100480081}}"
     ]
    }
   ],
   "source": [
    "results[\"results\"]"
   ]
  },
  {
   "cell_type": "code",
   "execution_count": 15,
   "id": "3102a452",
   "metadata": {},
   "outputs": [],
   "source": [
    "results[\"results\"][\"\"squad2\"\"]"
   ]
  },
  {
   "cell_type": "code",
   "execution_count": 16,
   "id": "783c6c4d",
   "metadata": {},
   "outputs": [
    {
     "name": "stdout",
     "output_type": "stream",
     "text": [
      "{'exact': 2.661500884359471,\n",
      " 'f1': 5.770005969375321,\n",
      " 'HasAns_exact': 5.280026990553306,\n",
      " 'HasAns_f1': 11.505951564506272,\n",
      " 'NoAns_exact': 0.050462573591253154,\n",
      " 'NoAns_f1': 0.050462573591253154,\n",
      " 'best_exact': 50.07159100480081,\n",
      " 'best_f1': 50.07159100480081}"
     ]
    }
   ],
   "source": [
    "results[\"results\"][\"squad2\"]"
   ]
  },
  {
   "cell_type": "code",
   "execution_count": 17,
   "id": "39176e36",
   "metadata": {},
   "outputs": [
    {
     "name": "stdout",
     "output_type": "stream",
     "text": [
      "5.770005969375321"
     ]
    }
   ],
   "source": [
    "results[\"results\"][\"squad2\"][\"f1\"]"
   ]
  },
  {
   "cell_type": "code",
   "execution_count": 18,
   "id": "846ea58d",
   "metadata": {},
   "outputs": [],
   "source": [
    "table_contents = []\n",
    "table_contents.append(run.id)\n",
    "table_contents.append(results[\"results\"][\"arc_easy\"][\"acc\"])\n",
    "table_contents.append(results[\"results\"][\"hellaswag\"][\"acc\"])\n",
    "table_contents.append(results[\"results\"][\"squad2\"][\"f1\"])\n",
    "table = wandb.Table(columns=['finetuned-model:v1']+tasks,\n",
    "                            data=[table_contents])\n",
    "run.log({'result_table':table})\n",
    "run.log_code()"
   ]
  },
  {
   "cell_type": "code",
   "execution_count": 19,
   "id": "667a0156",
   "metadata": {},
   "outputs": [],
   "source": [
    "['finetuned-model:v1']+tasks"
   ]
  },
  {
   "cell_type": "code",
   "execution_count": 20,
   "id": "08302a17",
   "metadata": {},
   "outputs": [
    {
     "name": "stdout",
     "output_type": "stream",
     "text": [
      "['finetuned-model:v1', 'arc_easy', 'hellaswag', 'squad2']"
     ]
    }
   ],
   "source": [
    "tasks=[\"arc_easy\",\"hellaswag\",\"squad2\"]\n",
    "['finetuned-model:v1']+tasks"
   ]
  },
  {
   "cell_type": "code",
   "execution_count": 21,
   "id": "a9790683",
   "metadata": {},
   "outputs": [
    {
     "name": "stdout",
     "output_type": "stream",
     "text": [
      "<Artifact source-Autocompletion_with_evaluation-evaluation.ipynb>"
     ]
    }
   ],
   "source": [
    "tasks=[\"arc_easy\",\"hellaswag\",\"squad2\"]\n",
    "table_contents = []\n",
    "table_contents.append(run.id)\n",
    "table_contents.append(results[\"results\"][\"arc_easy\"][\"acc\"])\n",
    "table_contents.append(results[\"results\"][\"hellaswag\"][\"acc\"])\n",
    "table_contents.append(results[\"results\"][\"squad2\"][\"f1\"])\n",
    "table = wandb.Table(columns=['finetuned-model:v1']+tasks,\n",
    "                            data=[table_contents])\n",
    "run.log({'result_table':table})\n",
    "run.log_code()"
   ]
  },
  {
   "cell_type": "code",
   "execution_count": 22,
   "id": "c3e428cf",
   "metadata": {},
   "outputs": [],
   "source": [
    "tasks=[\"arc_easy\",\"hellaswag\",\"squad2\"]\n",
    "table_contents = []\n",
    "table_contents.append(run.id)\n",
    "table_contents.append(results[\"results\"][\"arc_easy\"][\"acc\"])\n",
    "table_contents.append(results[\"results\"][\"hellaswag\"][\"acc\"])\n",
    "table_contents.append(results[\"results\"][\"squad2\"][\"f1\"])\n",
    "table = wandb.Table(columns=['finetuned-model:v1']+tasks,\n",
    "                            data=[table_contents])\n",
    "run.log({'result_table':table})\n",
    "run.log_code()\n",
    "run.finish()"
   ]
  }
 ],
 "metadata": {
  "kernelspec": {
   "display_name": "Python 3",
   "language": "python",
   "name": "python3"
  },
  "language_info": {
   "codemirror_mode": {
    "name": "ipython",
    "version": 3
   },
   "file_extension": ".py",
   "mimetype": "text/x-python",
   "name": "python",
   "nbconvert_exporter": "python",
   "pygments_lexer": "ipython3",
   "version": "3.10.12"
  }
 },
 "nbformat": 4,
 "nbformat_minor": 5
}
