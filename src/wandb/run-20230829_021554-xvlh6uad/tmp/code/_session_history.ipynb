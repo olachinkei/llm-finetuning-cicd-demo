{
 "cells": [
  {
   "cell_type": "code",
   "execution_count": 1,
   "id": "7fc52915",
   "metadata": {},
   "outputs": [],
   "source": [
    "#!pip install lm-eval==0.3.0 -qqq\n",
    "!git clone https://github.com/EleutherAI/lm-evaluation-harness\n",
    "!pip install -e ./lm-evaluation-harness/. -qqq"
   ]
  },
  {
   "cell_type": "code",
   "execution_count": 2,
   "id": "330fcced",
   "metadata": {},
   "outputs": [],
   "source": [
    "import ctranslate2\n",
    "import glob\n",
    "import os\n",
    "import pandas as pd\n",
    "import peft\n",
    "import random\n",
    "import timeit\n",
    "import urllib\n",
    "import torch\n",
    "import json\n",
    "import os\n",
    "from lm_eval import tasks, evaluator, utils\n",
    "import lm_eval\n",
    "import wandb\n",
    "from peft import get_peft_model, LoraConfig, TaskType\n",
    "from peft import PeftModel, PeftConfig\n",
    "import wandb.apis.reports as wr\n",
    "from transformers import AutoTokenizer, AutoConfig, AutoModelForCausalLM, pipeline"
   ]
  },
  {
   "cell_type": "code",
   "execution_count": 3,
   "id": "8482bc35",
   "metadata": {},
   "outputs": [],
   "source": [
    "os.environ[\"WANDB_PROJECT\"] = \"Autocompletion with evaluation\"\n",
    "os.environ[\"WANDB_ENTITY\"] = \"reviewco\"\n",
    "os.environ[\"WANDB_USERNAME\"] = \"keisuke-kamata\"\n",
    "os.environ[\"WANDB_LOG_MODEL\"] = \"checkpoint\"\n",
    "os.environ[\"WANDB_WATCH\"] = \"gradients\"\n",
    "\n",
    "SCORE_TABLE_NAME = \"Score\"\n",
    "EVALUATION_TABLE_NAME = \"Validation Responses\"\n",
    "LATENCY_TABLE_NAME = \"Model Latencies\"\n",
    "MODEL_NAME = \"Finetuned-Review-Autocompletion\""
   ]
  },
  {
   "cell_type": "code",
   "execution_count": 4,
   "id": "bd30c320",
   "metadata": {},
   "outputs": [],
   "source": [
    "run = wandb.init(job_type=\"evaluation\")\n",
    "artifact = run.use_artifact('reviewco/Autocompletion with evaluation/finetuned-model:v1', type='model')\n",
    "artifact_dir = artifact.download()    \n",
    "base_llm = AutoModelForCausalLM.from_pretrained(\"facebook/opt-125m\", device_map=\"auto\", torch_dtype=torch.float16)\n",
    "tokenizer = AutoTokenizer.from_pretrained(\"facebook/opt-125m\", local_files_only=True)\n",
    "model = PeftModel.from_pretrained(base_llm, artifact_dir,torch_dtype=torch.float16)\n",
    "model = model.merge_and_unload()"
   ]
  },
  {
   "cell_type": "code",
   "execution_count": 5,
   "id": "3d7098e3",
   "metadata": {},
   "outputs": [],
   "source": [
    "# 評価を実行\n",
    "results = lm_eval.evaluator.simple_evaluate(\n",
    "    model=model,\n",
    "    tasks=[\"arc_easy\",\"hellaswag\",\"squad2\"],  \n",
    "    batch_size=16,\n",
    "    num_fewshot=3,\n",
    "    device=\"cuda\"  \n",
    ")"
   ]
  },
  {
   "cell_type": "code",
   "execution_count": 6,
   "id": "64071a5c",
   "metadata": {},
   "outputs": [
    {
     "name": "stdout",
     "output_type": "stream",
     "text": [
      "{'results': {'arc_easy': {'acc': 0.42045454545454547,\n",
      "   'acc_stderr': 0.010129114278546526,\n",
      "   'acc_norm': 0.4057239057239057,\n",
      "   'acc_norm_stderr': 0.010075755540128871},\n",
      "  'hellaswag': {'acc': 0.29047998406691894,\n",
      "   'acc_stderr': 0.004530560646902538,\n",
      "   'acc_norm': 0.31467835092611035,\n",
      "   'acc_norm_stderr': 0.004634385694170044},\n",
      "  'squad2': {'exact': 2.661500884359471,\n",
      "   'f1': 5.770005969375321,\n",
      "   'HasAns_exact': 5.280026990553306,\n",
      "   'HasAns_f1': 11.505951564506272,\n",
      "   'NoAns_exact': 0.050462573591253154,\n",
      "   'NoAns_f1': 0.050462573591253154,\n",
      "   'best_exact': 50.07159100480081,\n",
      "   'best_f1': 50.07159100480081}},\n",
      " 'versions': {'arc_easy': 0, 'hellaswag': 0, 'squad2': 1},\n",
      " 'config': {'model': 'pretrained=facebook/opt-125m',\n",
      "  'model_args': None,\n",
      "  'num_fewshot': 3,\n",
      "  'batch_size': 16,\n",
      "  'batch_sizes': [],\n",
      "  'device': 'cuda',\n",
      "  'no_cache': True,\n",
      "  'limit': None,\n",
      "  'bootstrap_iters': 100000,\n",
      "  'description_dict': None}}"
     ]
    }
   ],
   "source": [
    "results"
   ]
  },
  {
   "cell_type": "code",
   "execution_count": 7,
   "id": "2fb6c74d",
   "metadata": {},
   "outputs": [
    {
     "name": "stdout",
     "output_type": "stream",
     "text": [
      "{'results': {'arc_easy': {'acc': 0.42045454545454547,\n",
      "   'acc_stderr': 0.010129114278546526,\n",
      "   'acc_norm': 0.4057239057239057,\n",
      "   'acc_norm_stderr': 0.010075755540128871},\n",
      "  'hellaswag': {'acc': 0.29047998406691894,\n",
      "   'acc_stderr': 0.004530560646902538,\n",
      "   'acc_norm': 0.31467835092611035,\n",
      "   'acc_norm_stderr': 0.004634385694170044},\n",
      "  'squad2': {'exact': 2.661500884359471,\n",
      "   'f1': 5.770005969375321,\n",
      "   'HasAns_exact': 5.280026990553306,\n",
      "   'HasAns_f1': 11.505951564506272,\n",
      "   'NoAns_exact': 0.050462573591253154,\n",
      "   'NoAns_f1': 0.050462573591253154,\n",
      "   'best_exact': 50.07159100480081,\n",
      "   'best_f1': 50.07159100480081}},\n",
      " 'versions': {'arc_easy': 0, 'hellaswag': 0, 'squad2': 1},\n",
      " 'config': {'model': 'pretrained=facebook/opt-125m',\n",
      "  'model_args': None,\n",
      "  'num_fewshot': 3,\n",
      "  'batch_size': 16,\n",
      "  'batch_sizes': [],\n",
      "  'device': 'cuda',\n",
      "  'no_cache': True,\n",
      "  'limit': None,\n",
      "  'bootstrap_iters': 100000,\n",
      "  'description_dict': None}}"
     ]
    }
   ],
   "source": [
    "results"
   ]
  },
  {
   "cell_type": "code",
   "execution_count": 8,
   "id": "8f8271da",
   "metadata": {},
   "outputs": [
    {
     "name": "stdout",
     "output_type": "stream",
     "text": [
      "{'arc_easy': {'acc': 0.42045454545454547,\n",
      "  'acc_stderr': 0.010129114278546526,\n",
      "  'acc_norm': 0.4057239057239057,\n",
      "  'acc_norm_stderr': 0.010075755540128871},\n",
      " 'hellaswag': {'acc': 0.29047998406691894,\n",
      "  'acc_stderr': 0.004530560646902538,\n",
      "  'acc_norm': 0.31467835092611035,\n",
      "  'acc_norm_stderr': 0.004634385694170044},\n",
      " 'squad2': {'exact': 2.661500884359471,\n",
      "  'f1': 5.770005969375321,\n",
      "  'HasAns_exact': 5.280026990553306,\n",
      "  'HasAns_f1': 11.505951564506272,\n",
      "  'NoAns_exact': 0.050462573591253154,\n",
      "  'NoAns_f1': 0.050462573591253154,\n",
      "  'best_exact': 50.07159100480081,\n",
      "  'best_f1': 50.07159100480081}}"
     ]
    }
   ],
   "source": [
    "results[\"results\"]"
   ]
  },
  {
   "cell_type": "code",
   "execution_count": 9,
   "id": "043c52f0",
   "metadata": {},
   "outputs": [
    {
     "name": "stdout",
     "output_type": "stream",
     "text": [
      "{'acc': 0.42045454545454547,\n",
      " 'acc_stderr': 0.010129114278546526,\n",
      " 'acc_norm': 0.4057239057239057,\n",
      " 'acc_norm_stderr': 0.010075755540128871}"
     ]
    }
   ],
   "source": [
    "results[\"results\"][\"arc_easy\"]"
   ]
  },
  {
   "cell_type": "code",
   "execution_count": 10,
   "id": "4497cad9",
   "metadata": {},
   "outputs": [
    {
     "name": "stdout",
     "output_type": "stream",
     "text": [
      "0.42045454545454547"
     ]
    }
   ],
   "source": [
    "results[\"results\"][\"arc_easy\"][\"acc\"]"
   ]
  },
  {
   "cell_type": "code",
   "execution_count": 11,
   "id": "998f7301",
   "metadata": {},
   "outputs": [
    {
     "name": "stdout",
     "output_type": "stream",
     "text": [
      "'00vh05cd'"
     ]
    }
   ],
   "source": [
    "run.id"
   ]
  },
  {
   "cell_type": "code",
   "execution_count": 12,
   "id": "a70a060d",
   "metadata": {},
   "outputs": [
    {
     "name": "stdout",
     "output_type": "stream",
     "text": [
      "{'arc_easy': {'acc': 0.42045454545454547,\n",
      "  'acc_stderr': 0.010129114278546526,\n",
      "  'acc_norm': 0.4057239057239057,\n",
      "  'acc_norm_stderr': 0.010075755540128871},\n",
      " 'hellaswag': {'acc': 0.29047998406691894,\n",
      "  'acc_stderr': 0.004530560646902538,\n",
      "  'acc_norm': 0.31467835092611035,\n",
      "  'acc_norm_stderr': 0.004634385694170044},\n",
      " 'squad2': {'exact': 2.661500884359471,\n",
      "  'f1': 5.770005969375321,\n",
      "  'HasAns_exact': 5.280026990553306,\n",
      "  'HasAns_f1': 11.505951564506272,\n",
      "  'NoAns_exact': 0.050462573591253154,\n",
      "  'NoAns_f1': 0.050462573591253154,\n",
      "  'best_exact': 50.07159100480081,\n",
      "  'best_f1': 50.07159100480081}}"
     ]
    }
   ],
   "source": [
    "results[\"results\"]"
   ]
  },
  {
   "cell_type": "code",
   "execution_count": 13,
   "id": "14647b25",
   "metadata": {},
   "outputs": [
    {
     "name": "stdout",
     "output_type": "stream",
     "text": [
      "0.29047998406691894"
     ]
    }
   ],
   "source": [
    "results[\"results\"][\"hellaswag\"][\"acc\"]"
   ]
  },
  {
   "cell_type": "code",
   "execution_count": 14,
   "id": "b58a5ca0",
   "metadata": {},
   "outputs": [
    {
     "name": "stdout",
     "output_type": "stream",
     "text": [
      "{'arc_easy': {'acc': 0.42045454545454547,\n",
      "  'acc_stderr': 0.010129114278546526,\n",
      "  'acc_norm': 0.4057239057239057,\n",
      "  'acc_norm_stderr': 0.010075755540128871},\n",
      " 'hellaswag': {'acc': 0.29047998406691894,\n",
      "  'acc_stderr': 0.004530560646902538,\n",
      "  'acc_norm': 0.31467835092611035,\n",
      "  'acc_norm_stderr': 0.004634385694170044},\n",
      " 'squad2': {'exact': 2.661500884359471,\n",
      "  'f1': 5.770005969375321,\n",
      "  'HasAns_exact': 5.280026990553306,\n",
      "  'HasAns_f1': 11.505951564506272,\n",
      "  'NoAns_exact': 0.050462573591253154,\n",
      "  'NoAns_f1': 0.050462573591253154,\n",
      "  'best_exact': 50.07159100480081,\n",
      "  'best_f1': 50.07159100480081}}"
     ]
    }
   ],
   "source": [
    "results[\"results\"]"
   ]
  },
  {
   "cell_type": "code",
   "execution_count": 15,
   "id": "d9b6a4b6",
   "metadata": {},
   "outputs": [],
   "source": [
    "results[\"results\"][\"\"squad2\"\"]"
   ]
  },
  {
   "cell_type": "code",
   "execution_count": 16,
   "id": "d6501e19",
   "metadata": {},
   "outputs": [
    {
     "name": "stdout",
     "output_type": "stream",
     "text": [
      "{'exact': 2.661500884359471,\n",
      " 'f1': 5.770005969375321,\n",
      " 'HasAns_exact': 5.280026990553306,\n",
      " 'HasAns_f1': 11.505951564506272,\n",
      " 'NoAns_exact': 0.050462573591253154,\n",
      " 'NoAns_f1': 0.050462573591253154,\n",
      " 'best_exact': 50.07159100480081,\n",
      " 'best_f1': 50.07159100480081}"
     ]
    }
   ],
   "source": [
    "results[\"results\"][\"squad2\"]"
   ]
  },
  {
   "cell_type": "code",
   "execution_count": 17,
   "id": "a5d71b77",
   "metadata": {},
   "outputs": [
    {
     "name": "stdout",
     "output_type": "stream",
     "text": [
      "5.770005969375321"
     ]
    }
   ],
   "source": [
    "results[\"results\"][\"squad2\"][\"f1\"]"
   ]
  },
  {
   "cell_type": "code",
   "execution_count": 18,
   "id": "a500e06f",
   "metadata": {},
   "outputs": [],
   "source": [
    "table_contents = []\n",
    "table_contents.append(run.id)\n",
    "table_contents.append(results[\"results\"][\"arc_easy\"][\"acc\"])\n",
    "table_contents.append(results[\"results\"][\"hellaswag\"][\"acc\"])\n",
    "table_contents.append(results[\"results\"][\"squad2\"][\"f1\"])\n",
    "table = wandb.Table(columns=['finetuned-model:v1']+tasks,\n",
    "                            data=[table_contents])\n",
    "run.log({'result_table':table})\n",
    "run.log_code()"
   ]
  },
  {
   "cell_type": "code",
   "execution_count": 19,
   "id": "6618ae5a",
   "metadata": {},
   "outputs": [],
   "source": [
    "['finetuned-model:v1']+tasks"
   ]
  },
  {
   "cell_type": "code",
   "execution_count": 20,
   "id": "2c79df3a",
   "metadata": {},
   "outputs": [
    {
     "name": "stdout",
     "output_type": "stream",
     "text": [
      "['finetuned-model:v1', 'arc_easy', 'hellaswag', 'squad2']"
     ]
    }
   ],
   "source": [
    "tasks=[\"arc_easy\",\"hellaswag\",\"squad2\"]\n",
    "['finetuned-model:v1']+tasks"
   ]
  },
  {
   "cell_type": "code",
   "execution_count": 21,
   "id": "503289cd",
   "metadata": {},
   "outputs": [
    {
     "name": "stdout",
     "output_type": "stream",
     "text": [
      "<Artifact source-Autocompletion_with_evaluation-evaluation.ipynb>"
     ]
    }
   ],
   "source": [
    "tasks=[\"arc_easy\",\"hellaswag\",\"squad2\"]\n",
    "table_contents = []\n",
    "table_contents.append(run.id)\n",
    "table_contents.append(results[\"results\"][\"arc_easy\"][\"acc\"])\n",
    "table_contents.append(results[\"results\"][\"hellaswag\"][\"acc\"])\n",
    "table_contents.append(results[\"results\"][\"squad2\"][\"f1\"])\n",
    "table = wandb.Table(columns=['finetuned-model:v1']+tasks,\n",
    "                            data=[table_contents])\n",
    "run.log({'result_table':table})\n",
    "run.log_code()"
   ]
  },
  {
   "cell_type": "code",
   "execution_count": 22,
   "id": "a6a2bb8a",
   "metadata": {},
   "outputs": [],
   "source": [
    "tasks=[\"arc_easy\",\"hellaswag\",\"squad2\"]\n",
    "table_contents = []\n",
    "table_contents.append(run.id)\n",
    "table_contents.append(results[\"results\"][\"arc_easy\"][\"acc\"])\n",
    "table_contents.append(results[\"results\"][\"hellaswag\"][\"acc\"])\n",
    "table_contents.append(results[\"results\"][\"squad2\"][\"f1\"])\n",
    "table = wandb.Table(columns=['finetuned-model:v1']+tasks,\n",
    "                            data=[table_contents])\n",
    "run.log({'result_table':table})\n",
    "run.log_code()\n",
    "run.finish()"
   ]
  },
  {
   "cell_type": "code",
   "execution_count": 23,
   "id": "c68c4fa4",
   "metadata": {},
   "outputs": [
    {
     "name": "stdout",
     "output_type": "stream",
     "text": [
      "{'results': {'arc_easy': {'acc': 0.42045454545454547,\n",
      "   'acc_stderr': 0.010129114278546526,\n",
      "   'acc_norm': 0.4057239057239057,\n",
      "   'acc_norm_stderr': 0.010075755540128871},\n",
      "  'hellaswag': {'acc': 0.29047998406691894,\n",
      "   'acc_stderr': 0.004530560646902538,\n",
      "   'acc_norm': 0.31467835092611035,\n",
      "   'acc_norm_stderr': 0.004634385694170044},\n",
      "  'squad2': {'exact': 2.661500884359471,\n",
      "   'f1': 5.770005969375321,\n",
      "   'HasAns_exact': 5.280026990553306,\n",
      "   'HasAns_f1': 11.505951564506272,\n",
      "   'NoAns_exact': 0.050462573591253154,\n",
      "   'NoAns_f1': 0.050462573591253154,\n",
      "   'best_exact': 50.07159100480081,\n",
      "   'best_f1': 50.07159100480081}},\n",
      " 'versions': {'arc_easy': 0, 'hellaswag': 0, 'squad2': 1},\n",
      " 'config': {'model': 'pretrained=facebook/opt-125m',\n",
      "  'model_args': None,\n",
      "  'num_fewshot': 3,\n",
      "  'batch_size': 16,\n",
      "  'batch_sizes': [],\n",
      "  'device': 'cuda',\n",
      "  'no_cache': True,\n",
      "  'limit': None,\n",
      "  'bootstrap_iters': 100000,\n",
      "  'description_dict': None}}"
     ]
    }
   ],
   "source": [
    "results"
   ]
  },
  {
   "cell_type": "code",
   "execution_count": 24,
   "id": "1b3e6778",
   "metadata": {},
   "outputs": [],
   "source": [
    "def get_completion_responses_batch(prompts, ft_path):\n",
    "    # Get completions for each model in batches\n",
    "    opt_completions = get_huggingface_completion_batch(prompts, \"facebook/opt-125m\")\n",
    "    ft_completions = get_huggingface_completion_batch(prompts, ft_path)\n",
    "    responses = []\n",
    "    for opt, ft in zip(opt_completions, ft_completions):\n",
    "        responses.append({\n",
    "            \"Production\": opt,\n",
    "            \"Staging (finetuned)\": ft\n",
    "        })\n",
    "    return responses\n",
    "\n",
    "def get_huggingface_completion_batch(prompts, model):\n",
    "    generator = pipeline('text-generation', model=model)\n",
    "    responses = generator(prompts, max_new_tokens=50)\n",
    "    completions = []\n",
    "    for i, prompt in enumerate(prompts):\n",
    "        full_output = responses[i][0][\"generated_text\"]\n",
    "        output = full_output[len(prompt):] if full_output.startswith(prompt) else full_output\n",
    "        completions.append(output.strip())\n",
    "    return completions\n",
    "\n",
    "def get_model_comparison_df(prompts, ft_path):\n",
    "    trimmed_prompts = [\n",
    "        \" \".join(prompt.split()[:random.randint(5,12)])\n",
    "        for prompt in prompts\n",
    "    ]\n",
    "    responses = get_completion_responses_batch(trimmed_prompts, ft_path)\n",
    "    df = pd.DataFrame(responses)\n",
    "    df.insert(0, \"prompt\", trimmed_prompts)\n",
    "    return df\n",
    "\n",
    "def get_latency_df(prompts, num_prompts, ft_path, ct2_path):\n",
    "  prompts = prompts.to_list()[:num_prompts]\n",
    "  ft_time = timeit.timeit(lambda: get_huggingface_completion_batch(prompts, model), number=1)\n",
    "  opt_time = timeit.timeit(lambda: get_huggingface_completion_batch(prompts, \"facebook/opt-125m\"), number=1)\n",
    "\n",
    "  return pd.DataFrame({\n",
    "    \"Model\": [\"Production\", \"Staging (finetuned)\"],\n",
    "    f\"Latency for {num_prompts} Reviews\": [opt_time, ft_time],\n",
    "  })"
   ]
  },
  {
   "cell_type": "code",
   "execution_count": 25,
   "id": "f86bc1ff",
   "metadata": {},
   "outputs": [],
   "source": [
    "# 評価を実行\n",
    "results = lm_eval.evaluator.simple_evaluate(\n",
    "    model=model,\n",
    "    tasks=[\"arc_easy\",\"hellaswag\",\"squad2\",\"drop\",\"sciq\"],  \n",
    "    batch_size=16,\n",
    "    num_fewshot=10,\n",
    "    device=\"cuda\"  \n",
    ")"
   ]
  },
  {
   "cell_type": "code",
   "execution_count": 26,
   "id": "5d1d071c",
   "metadata": {},
   "outputs": [
    {
     "name": "stdout",
     "output_type": "stream",
     "text": [
      "{'results': {'arc_easy': {'acc': 0.4377104377104377,\n",
      "   'acc_stderr': 0.010179856486006918,\n",
      "   'acc_norm': 0.41624579124579125,\n",
      "   'acc_norm_stderr': 0.010114819404500876},\n",
      "  'hellaswag': {'acc': 0.2900816570404302,\n",
      "   'acc_stderr': 0.004528723951878255,\n",
      "   'acc_norm': 0.3136825333598885,\n",
      "   'acc_norm_stderr': 0.004630407476835194},\n",
      "  'squad2': {'exact': 3.4869030573570288,\n",
      "   'f1': 6.788581445337238,\n",
      "   'HasAns_exact': 6.831983805668016,\n",
      "   'HasAns_f1': 13.444808957572375,\n",
      "   'NoAns_exact': 0.15138772077375945,\n",
      "   'NoAns_f1': 0.15138772077375945,\n",
      "   'best_exact': 50.07159100480081,\n",
      "   'best_f1': 50.07159100480081},\n",
      "  'sciq': {'acc': 0.811,\n",
      "   'acc_stderr': 0.01238678458811771,\n",
      "   'acc_norm': 0.792,\n",
      "   'acc_norm_stderr': 0.012841374572096921},\n",
      "  'drop': {'em': 0.0006291946308724832,\n",
      "   'em_stderr': 0.00025680027497240645,\n",
      "   'f1': 0.04319630872483222,\n",
      "   'f1_stderr': 0.0011526100580973827}},\n",
      " 'versions': {'arc_easy': 0,\n",
      "  'hellaswag': 0,\n",
      "  'squad2': 1,\n",
      "  'drop': 1,\n",
      "  'sciq': 0},\n",
      " 'config': {'model': 'pretrained=facebook/opt-125m',\n",
      "  'model_args': None,\n",
      "  'num_fewshot': 10,\n",
      "  'batch_size': 16,\n",
      "  'batch_sizes': [],\n",
      "  'device': 'cuda',\n",
      "  'no_cache': True,\n",
      "  'limit': None,\n",
      "  'bootstrap_iters': 100000,\n",
      "  'description_dict': None}}"
     ]
    }
   ],
   "source": [
    "results"
   ]
  },
  {
   "cell_type": "code",
   "execution_count": 27,
   "id": "3dab57c6",
   "metadata": {},
   "outputs": [],
   "source": [
    "config = {\n",
    "    \"MODEL_NAME\":\"Finetuned-Review-Autocompletion\",\n",
    "    \"BASE_MODEL\":\"facebook/opt-125m\",\n",
    "    \"MODEL_NAME\":\"Instruction-tuned-model\",\n",
    "}"
   ]
  },
  {
   "cell_type": "code",
   "execution_count": 28,
   "id": "543e7315",
   "metadata": {},
   "outputs": [],
   "source": [
    "tokenizer = AutoTokenizer.from_pretrained(config.BASE_MODEL)\n",
    "artifact = run.use_artifact(f'{os.environ[\"WANDB_ENTITY\"]}/{os.environ[\"WANDB_PROJECT\"]}/data:production')\n",
    "artifact_dir = artifact.download()\n",
    "test_data = load_dataset('json', data_files=artifact_dir+'/test_data.json',split=\"train\")"
   ]
  },
  {
   "cell_type": "code",
   "execution_count": 29,
   "id": "e97b17fb",
   "metadata": {},
   "outputs": [],
   "source": [
    "config = {\n",
    "    \"MODEL_NAME\":\"Finetuned-Review-Autocompletion\",\n",
    "    \"BASE_MODEL\":\"facebook/opt-125m\",\n",
    "    \"MODEL_NAME\":\"Instruction-tuned-model\",\n",
    "}"
   ]
  },
  {
   "cell_type": "code",
   "execution_count": 30,
   "id": "0c780fcd",
   "metadata": {},
   "outputs": [],
   "source": [
    "tokenizer = AutoTokenizer.from_pretrained(config.BASE_MODEL)\n",
    "artifact = run.use_artifact(f'{os.environ[\"WANDB_ENTITY\"]}/{os.environ[\"WANDB_PROJECT\"]}/data:production')\n",
    "artifact_dir = artifact.download()\n",
    "test_data = load_dataset('json', data_files=artifact_dir+'/test_data.json',split=\"train\")"
   ]
  },
  {
   "cell_type": "code",
   "execution_count": 31,
   "id": "c8799c63",
   "metadata": {},
   "outputs": [],
   "source": [
    "config.BASE_MODEL"
   ]
  },
  {
   "cell_type": "code",
   "execution_count": 32,
   "id": "1e845413",
   "metadata": {},
   "outputs": [
    {
     "name": "stdout",
     "output_type": "stream",
     "text": [
      "'facebook/opt-125m'"
     ]
    }
   ],
   "source": [
    "config[\"BASE_MODEL\"]"
   ]
  },
  {
   "cell_type": "code",
   "execution_count": 33,
   "id": "3cfee411",
   "metadata": {},
   "outputs": [],
   "source": [
    "tokenizer = AutoTokenizer.from_pretrained(config[\"BASE_MODEL\"])\n",
    "artifact = run.use_artifact(f'{os.environ[\"WANDB_ENTITY\"]}/{os.environ[\"WANDB_PROJECT\"]}/data:production')\n",
    "artifact_dir = artifact.download()\n",
    "test_data = load_dataset('json', data_files=artifact_dir+'/test_data.json',split=\"train\")"
   ]
  },
  {
   "cell_type": "code",
   "execution_count": 34,
   "id": "4bec9c9c",
   "metadata": {},
   "outputs": [],
   "source": [
    "tokenizer = AutoTokenizer.from_pretrained(config[\"BASE_MODEL\"])\n",
    "artifact = run.use_artifact(f'{os.environ[\"WANDB_ENTITY\"]}/{os.environ[\"WANDB_PROJECT\"]}/data:production')\n",
    "artifact_dir = artifact.download()\n",
    "test_data = load_dataset('json', data_files=artifact_dir+'/test_data.json',split=\"train\")"
   ]
  },
  {
   "cell_type": "code",
   "execution_count": 35,
   "id": "d5eeda3f",
   "metadata": {},
   "outputs": [
    {
     "data": {
      "text/html": [
       "wandb version 0.15.9 is available!  To upgrade, please run:\n",
       " $ pip install wandb --upgrade"
      ],
      "text/plain": [
       "<IPython.core.display.HTML object>"
      ]
     },
     "metadata": {},
     "output_type": "display_data"
    },
    {
     "data": {
      "text/html": [
       "Tracking run with wandb version 0.15.8"
      ],
      "text/plain": [
       "<IPython.core.display.HTML object>"
      ]
     },
     "metadata": {},
     "output_type": "display_data"
    },
    {
     "data": {
      "text/html": [
       "Run data is saved locally in <code>/work/wandb/run-20230829_021554-xvlh6uad</code>"
      ],
      "text/plain": [
       "<IPython.core.display.HTML object>"
      ]
     },
     "metadata": {},
     "output_type": "display_data"
    },
    {
     "data": {
      "text/html": [
       "Syncing run <strong><a href='https://wandb.ai/reviewco/Autocompletion%20with%20evaluation/runs/xvlh6uad' target=\"_blank\">twilight-glade-35</a></strong> to <a href='https://wandb.ai/reviewco/Autocompletion%20with%20evaluation' target=\"_blank\">Weights & Biases</a> (<a href='https://wandb.me/run' target=\"_blank\">docs</a>)<br/>"
      ],
      "text/plain": [
       "<IPython.core.display.HTML object>"
      ]
     },
     "metadata": {},
     "output_type": "display_data"
    },
    {
     "data": {
      "text/html": [
       " View project at <a href='https://wandb.ai/reviewco/Autocompletion%20with%20evaluation' target=\"_blank\">https://wandb.ai/reviewco/Autocompletion%20with%20evaluation</a>"
      ],
      "text/plain": [
       "<IPython.core.display.HTML object>"
      ]
     },
     "metadata": {},
     "output_type": "display_data"
    },
    {
     "data": {
      "text/html": [
       " View run at <a href='https://wandb.ai/reviewco/Autocompletion%20with%20evaluation/runs/xvlh6uad' target=\"_blank\">https://wandb.ai/reviewco/Autocompletion%20with%20evaluation/runs/xvlh6uad</a>"
      ],
      "text/plain": [
       "<IPython.core.display.HTML object>"
      ]
     },
     "metadata": {},
     "output_type": "display_data"
    }
   ],
   "source": [
    "run = wandb.init()\n",
    "tokenizer = AutoTokenizer.from_pretrained(config[\"BASE_MODEL\"])\n",
    "artifact = run.use_artifact(f'{os.environ[\"WANDB_ENTITY\"]}/{os.environ[\"WANDB_PROJECT\"]}/data:production')\n",
    "artifact_dir = artifact.download()\n",
    "test_data = load_dataset('json', data_files=artifact_dir+'/test_data.json',split=\"train\")"
   ]
  },
  {
   "cell_type": "code",
   "execution_count": 36,
   "id": "3ce8fb30",
   "metadata": {},
   "outputs": [],
   "source": [
    "import ctranslate2\n",
    "import glob\n",
    "import os\n",
    "import pandas as pd\n",
    "import peft\n",
    "import random\n",
    "import timeit\n",
    "import urllib\n",
    "import torch\n",
    "import json\n",
    "import os\n",
    "import load_dataset\n",
    "from lm_eval import tasks, evaluator, utils\n",
    "import lm_eval\n",
    "import wandb\n",
    "from peft import get_peft_model, LoraConfig, TaskType\n",
    "from peft import PeftModel, PeftConfig\n",
    "import wandb.apis.reports as wr\n",
    "from transformers import AutoTokenizer, AutoConfig, AutoModelForCausalLM, pipeline"
   ]
  },
  {
   "cell_type": "code",
   "execution_count": 37,
   "id": "8107eb81",
   "metadata": {},
   "outputs": [],
   "source": [
    "import ctranslate2\n",
    "import glob\n",
    "import os\n",
    "import pandas as pd\n",
    "import peft\n",
    "import random\n",
    "import timeit\n",
    "import urllib\n",
    "import torch\n",
    "import json\n",
    "import os\n",
    "from datasets import load_dataset\n",
    "from lm_eval import tasks, evaluator, utils\n",
    "import lm_eval\n",
    "import wandb\n",
    "from peft import get_peft_model, LoraConfig, TaskType\n",
    "from peft import PeftModel, PeftConfig\n",
    "import wandb.apis.reports as wr\n",
    "from transformers import AutoTokenizer, AutoConfig, AutoModelForCausalLM, pipeline"
   ]
  },
  {
   "cell_type": "code",
   "execution_count": 38,
   "id": "7e98d8e6",
   "metadata": {},
   "outputs": [],
   "source": [
    "run = wandb.init()\n",
    "tokenizer = AutoTokenizer.from_pretrained(config[\"BASE_MODEL\"])\n",
    "artifact = run.use_artifact(f'{os.environ[\"WANDB_ENTITY\"]}/{os.environ[\"WANDB_PROJECT\"]}/data:production')\n",
    "artifact_dir = artifact.download()\n",
    "test_data = load_dataset('json', data_files=artifact_dir+'/test_data.json',split=\"train\")"
   ]
  }
 ],
 "metadata": {
  "kernelspec": {
   "display_name": "Python 3",
   "language": "python",
   "name": "python3"
  },
  "language_info": {
   "codemirror_mode": {
    "name": "ipython",
    "version": 3
   },
   "file_extension": ".py",
   "mimetype": "text/x-python",
   "name": "python",
   "nbconvert_exporter": "python",
   "pygments_lexer": "ipython3",
   "version": "3.10.12"
  }
 },
 "nbformat": 4,
 "nbformat_minor": 5
}
