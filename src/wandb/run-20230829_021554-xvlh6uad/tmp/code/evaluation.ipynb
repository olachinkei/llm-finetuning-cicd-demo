{
 "cells": [
  {
   "cell_type": "code",
   "execution_count": 1,
   "id": "be429804-252e-4e69-b5bb-15fc8160e2ae",
   "metadata": {},
   "outputs": [
    {
     "name": "stdout",
     "output_type": "stream",
     "text": [
      "fatal: destination path 'lm-evaluation-harness' already exists and is not an empty directory.\n"
     ]
    }
   ],
   "source": [
    "#!pip install lm-eval==0.3.0 -qqq\n",
    "!git clone https://github.com/EleutherAI/lm-evaluation-harness\n",
    "!pip install -e ./lm-evaluation-harness/. -qqq"
   ]
  },
  {
   "cell_type": "code",
   "execution_count": 2,
   "id": "b0fc07c2-ad0b-4200-a7cb-b0a6e65d8c3a",
   "metadata": {},
   "outputs": [
    {
     "name": "stderr",
     "output_type": "stream",
     "text": [
      "/usr/local/lib/python3.10/dist-packages/tqdm/auto.py:21: TqdmWarning: IProgress not found. Please update jupyter and ipywidgets. See https://ipywidgets.readthedocs.io/en/stable/user_install.html\n",
      "  from .autonotebook import tqdm as notebook_tqdm\n",
      "\u001b[34m\u001b[1mwandb\u001b[0m: Thanks for trying out the Report API!\n",
      "\u001b[34m\u001b[1mwandb\u001b[0m: For a tutorial, check out https://colab.research.google.com/drive/1CzyJx1nuOS4pdkXa2XPaRQyZdmFmLmXV\n",
      "\u001b[34m\u001b[1mwandb\u001b[0m: \n",
      "\u001b[34m\u001b[1mwandb\u001b[0m: Try out tab completion to see what's available.\n",
      "\u001b[34m\u001b[1mwandb\u001b[0m:   ∟ everything:    `wr.<tab>`\n",
      "\u001b[34m\u001b[1mwandb\u001b[0m:       ∟ panels:    `wr.panels.<tab>`\n",
      "\u001b[34m\u001b[1mwandb\u001b[0m:       ∟ blocks:    `wr.blocks.<tab>`\n",
      "\u001b[34m\u001b[1mwandb\u001b[0m:       ∟ helpers:   `wr.helpers.<tab>`\n",
      "\u001b[34m\u001b[1mwandb\u001b[0m:       ∟ templates: `wr.templates.<tab>`\n",
      "\u001b[34m\u001b[1mwandb\u001b[0m:       \n",
      "\u001b[34m\u001b[1mwandb\u001b[0m: For bugs/feature requests, please create an issue on github: https://github.com/wandb/wandb/issues\n"
     ]
    }
   ],
   "source": [
    "import ctranslate2\n",
    "import glob\n",
    "import os\n",
    "import pandas as pd\n",
    "import peft\n",
    "import random\n",
    "import timeit\n",
    "import urllib\n",
    "import torch\n",
    "import json\n",
    "import os\n",
    "from lm_eval import tasks, evaluator, utils\n",
    "import lm_eval\n",
    "import wandb\n",
    "from peft import get_peft_model, LoraConfig, TaskType\n",
    "from peft import PeftModel, PeftConfig\n",
    "import wandb.apis.reports as wr\n",
    "from transformers import AutoTokenizer, AutoConfig, AutoModelForCausalLM, pipeline"
   ]
  },
  {
   "cell_type": "code",
   "execution_count": 3,
   "id": "df6174c8-3d3e-41fb-a633-bcff7b132d2b",
   "metadata": {},
   "outputs": [],
   "source": [
    "os.environ[\"WANDB_PROJECT\"] = \"Autocompletion with evaluation\"\n",
    "os.environ[\"WANDB_ENTITY\"] = \"reviewco\"\n",
    "os.environ[\"WANDB_USERNAME\"] = \"keisuke-kamata\"\n",
    "os.environ[\"WANDB_LOG_MODEL\"] = \"checkpoint\"\n",
    "os.environ[\"WANDB_WATCH\"] = \"gradients\"\n",
    "\n",
    "SCORE_TABLE_NAME = \"Score\"\n",
    "EVALUATION_TABLE_NAME = \"Validation Responses\"\n",
    "LATENCY_TABLE_NAME = \"Model Latencies\""
   ]
  },
  {
   "cell_type": "code",
   "execution_count": 4,
   "id": "095e4c36-b273-4daf-8f96-22f92fb3bd58",
   "metadata": {},
   "outputs": [
    {
     "name": "stderr",
     "output_type": "stream",
     "text": [
      "\u001b[34m\u001b[1mwandb\u001b[0m: Currently logged in as: \u001b[33mkeisuke-kamata\u001b[0m (\u001b[33mreviewco\u001b[0m). Use \u001b[1m`wandb login --relogin`\u001b[0m to force relogin\n"
     ]
    },
    {
     "data": {
      "text/html": [
       "Tracking run with wandb version 0.15.8"
      ],
      "text/plain": [
       "<IPython.core.display.HTML object>"
      ]
     },
     "metadata": {},
     "output_type": "display_data"
    },
    {
     "data": {
      "text/html": [
       "Run data is saved locally in <code>/work/wandb/run-20230828_003428-00vh05cd</code>"
      ],
      "text/plain": [
       "<IPython.core.display.HTML object>"
      ]
     },
     "metadata": {},
     "output_type": "display_data"
    },
    {
     "data": {
      "text/html": [
       "Syncing run <strong><a href='https://wandb.ai/reviewco/Autocompletion%20with%20evaluation/runs/00vh05cd' target=\"_blank\">deep-eon-34</a></strong> to <a href='https://wandb.ai/reviewco/Autocompletion%20with%20evaluation' target=\"_blank\">Weights & Biases</a> (<a href='https://wandb.me/run' target=\"_blank\">docs</a>)<br/>"
      ],
      "text/plain": [
       "<IPython.core.display.HTML object>"
      ]
     },
     "metadata": {},
     "output_type": "display_data"
    },
    {
     "data": {
      "text/html": [
       " View project at <a href='https://wandb.ai/reviewco/Autocompletion%20with%20evaluation' target=\"_blank\">https://wandb.ai/reviewco/Autocompletion%20with%20evaluation</a>"
      ],
      "text/plain": [
       "<IPython.core.display.HTML object>"
      ]
     },
     "metadata": {},
     "output_type": "display_data"
    },
    {
     "data": {
      "text/html": [
       " View run at <a href='https://wandb.ai/reviewco/Autocompletion%20with%20evaluation/runs/00vh05cd' target=\"_blank\">https://wandb.ai/reviewco/Autocompletion%20with%20evaluation/runs/00vh05cd</a>"
      ],
      "text/plain": [
       "<IPython.core.display.HTML object>"
      ]
     },
     "metadata": {},
     "output_type": "display_data"
    },
    {
     "name": "stderr",
     "output_type": "stream",
     "text": [
      "\u001b[34m\u001b[1mwandb\u001b[0m:   3 of 3 files downloaded.  \n"
     ]
    }
   ],
   "source": [
    "run = wandb.init(job_type=\"evaluation\")\n",
    "artifact = run.use_artifact('reviewco/Autocompletion with evaluation/finetuned-model:v1', type='model')\n",
    "artifact_dir = artifact.download()    \n",
    "base_llm = AutoModelForCausalLM.from_pretrained(\"facebook/opt-125m\", device_map=\"auto\", torch_dtype=torch.float16)\n",
    "tokenizer = AutoTokenizer.from_pretrained(\"facebook/opt-125m\", local_files_only=True)\n",
    "model = PeftModel.from_pretrained(base_llm, artifact_dir,torch_dtype=torch.float16)\n",
    "model = model.merge_and_unload()"
   ]
  },
  {
   "cell_type": "code",
   "execution_count": 25,
   "id": "1e855b08-68c9-4cff-b7db-ae91577b54a7",
   "metadata": {
    "collapsed": true,
    "jupyter": {
     "outputs_hidden": true
    }
   },
   "outputs": [
    {
     "name": "stderr",
     "output_type": "stream",
     "text": [
      "Downloading data: 100%|██████████| 8.31M/8.31M [00:06<00:00, 1.35MB/s]\n",
      "Generating train split: 100%|██████████| 77409/77409 [00:03<00:00, 19923.95 examples/s]\n",
      "Generating validation split: 100%|██████████| 9536/9536 [00:00<00:00, 16460.94 examples/s]\n",
      "Downloading builder script: 100%|██████████| 3.56k/3.56k [00:00<00:00, 8.56MB/s]\n",
      "Downloading metadata: 100%|██████████| 1.81k/1.81k [00:00<00:00, 4.97MB/s]\n",
      "Downloading readme: 100%|██████████| 6.84k/6.84k [00:00<00:00, 13.4MB/s]\n",
      "Downloading data: 100%|██████████| 2.82M/2.82M [00:09<00:00, 309kB/s] \n",
      "Generating train split: 100%|██████████| 11679/11679 [00:00<00:00, 63979.35 examples/s]\n",
      "Generating validation split: 100%|██████████| 1000/1000 [00:00<00:00, 62967.14 examples/s]\n",
      "Generating test split: 100%|██████████| 1000/1000 [00:00<00:00, 64703.95 examples/s]\n"
     ]
    },
    {
     "name": "stdout",
     "output_type": "stream",
     "text": [
      "Task: arc_easy; number of docs: 2376\n",
      "Task: arc_easy; document 0; context prompt (starting on next line):\n",
      "Question: Homes that are built to be environmentally friendly because they use energy more efficiently than other homes are called \"green\" homes. \"Green\" homes often have reflective roofs and walls made of recycled materials. The windows in these energy-saving homes are double-paned, meaning each window has two pieces of glass. Double-paned windows have a layer of air between the window panes. This layer is a barrier against extreme temperatures and saves energy. A solar panel on a \"green\" home uses\n",
      "Answer: a renewable energy source\n",
      "\n",
      "Question: What is an environmental threat posed by oil and gas acquisition and transport that is not posed by the acquisition and transport of the energy resources uranium, and wood?\n",
      "Answer: pipeline leaks\n",
      "\n",
      "Question: One cause of heat in a car engine is caused by friction between parts. Which of these reduces the amount of heat produced by friction?\n",
      "Answer: oil\n",
      "\n",
      "Question: The continental crust floats on top of the mantle because the crust is\n",
      "Answer: less dense than the mantle.\n",
      "\n",
      "Question: If the atomic mass number of an atom is 35, which statement is most accurate?\n",
      "Answer: The number of protons does not equal the number of neutrons.\n",
      "\n",
      "Question: How are cells able to produce the proteins required by certain conditions?\n",
      "Answer: by expressing existing genes\n",
      "\n",
      "Question: Which of the following elements is best able to combine with itself and hydrogen [H] to form large molecules?\n",
      "Answer: carbon [C]\n",
      "\n",
      "Question: Which sense is used to determine an object's texture?\n",
      "Answer: touch\n",
      "\n",
      "Question: Mrs. Henderson's class has five small, covered boxes. One contains perfume; another contains dried onions. There is also a box of pine needles, a box of lemon pieces, and a box with a paper towel wet with vanilla flavoring. Which should they do to get the best information about what is in each box?\n",
      "Answer: Smell the boxes.\n",
      "\n",
      "Question: An agricultural scientist, George Washington Carver, is most famous for his research on\n",
      "Answer: peanuts.\n",
      "\n",
      "Question: Which is the function of the gallbladder?\n",
      "Answer:\n",
      "(end of prompt on previous line)\n",
      "Requests: [Req_loglikelihood('Question: Homes that are built to be environmentally friendly because they use energy more efficiently than other homes are called \"green\" homes. \"Green\" homes often have reflective roofs and walls made of recycled materials. The windows in these energy-saving homes are double-paned, meaning each window has two pieces of glass. Double-paned windows have a layer of air between the window panes. This layer is a barrier against extreme temperatures and saves energy. A solar panel on a \"green\" home uses\\nAnswer: a renewable energy source\\n\\nQuestion: What is an environmental threat posed by oil and gas acquisition and transport that is not posed by the acquisition and transport of the energy resources uranium, and wood?\\nAnswer: pipeline leaks\\n\\nQuestion: One cause of heat in a car engine is caused by friction between parts. Which of these reduces the amount of heat produced by friction?\\nAnswer: oil\\n\\nQuestion: The continental crust floats on top of the mantle because the crust is\\nAnswer: less dense than the mantle.\\n\\nQuestion: If the atomic mass number of an atom is 35, which statement is most accurate?\\nAnswer: The number of protons does not equal the number of neutrons.\\n\\nQuestion: How are cells able to produce the proteins required by certain conditions?\\nAnswer: by expressing existing genes\\n\\nQuestion: Which of the following elements is best able to combine with itself and hydrogen [H] to form large molecules?\\nAnswer: carbon [C]\\n\\nQuestion: Which sense is used to determine an object\\'s texture?\\nAnswer: touch\\n\\nQuestion: Mrs. Henderson\\'s class has five small, covered boxes. One contains perfume; another contains dried onions. There is also a box of pine needles, a box of lemon pieces, and a box with a paper towel wet with vanilla flavoring. Which should they do to get the best information about what is in each box?\\nAnswer: Smell the boxes.\\n\\nQuestion: An agricultural scientist, George Washington Carver, is most famous for his research on\\nAnswer: peanuts.\\n\\nQuestion: Which is the function of the gallbladder?\\nAnswer:', ' store bile')[0]\n",
      ", Req_loglikelihood('Question: Homes that are built to be environmentally friendly because they use energy more efficiently than other homes are called \"green\" homes. \"Green\" homes often have reflective roofs and walls made of recycled materials. The windows in these energy-saving homes are double-paned, meaning each window has two pieces of glass. Double-paned windows have a layer of air between the window panes. This layer is a barrier against extreme temperatures and saves energy. A solar panel on a \"green\" home uses\\nAnswer: a renewable energy source\\n\\nQuestion: What is an environmental threat posed by oil and gas acquisition and transport that is not posed by the acquisition and transport of the energy resources uranium, and wood?\\nAnswer: pipeline leaks\\n\\nQuestion: One cause of heat in a car engine is caused by friction between parts. Which of these reduces the amount of heat produced by friction?\\nAnswer: oil\\n\\nQuestion: The continental crust floats on top of the mantle because the crust is\\nAnswer: less dense than the mantle.\\n\\nQuestion: If the atomic mass number of an atom is 35, which statement is most accurate?\\nAnswer: The number of protons does not equal the number of neutrons.\\n\\nQuestion: How are cells able to produce the proteins required by certain conditions?\\nAnswer: by expressing existing genes\\n\\nQuestion: Which of the following elements is best able to combine with itself and hydrogen [H] to form large molecules?\\nAnswer: carbon [C]\\n\\nQuestion: Which sense is used to determine an object\\'s texture?\\nAnswer: touch\\n\\nQuestion: Mrs. Henderson\\'s class has five small, covered boxes. One contains perfume; another contains dried onions. There is also a box of pine needles, a box of lemon pieces, and a box with a paper towel wet with vanilla flavoring. Which should they do to get the best information about what is in each box?\\nAnswer: Smell the boxes.\\n\\nQuestion: An agricultural scientist, George Washington Carver, is most famous for his research on\\nAnswer: peanuts.\\n\\nQuestion: Which is the function of the gallbladder?\\nAnswer:', ' produce bile')[0]\n",
      ", Req_loglikelihood('Question: Homes that are built to be environmentally friendly because they use energy more efficiently than other homes are called \"green\" homes. \"Green\" homes often have reflective roofs and walls made of recycled materials. The windows in these energy-saving homes are double-paned, meaning each window has two pieces of glass. Double-paned windows have a layer of air between the window panes. This layer is a barrier against extreme temperatures and saves energy. A solar panel on a \"green\" home uses\\nAnswer: a renewable energy source\\n\\nQuestion: What is an environmental threat posed by oil and gas acquisition and transport that is not posed by the acquisition and transport of the energy resources uranium, and wood?\\nAnswer: pipeline leaks\\n\\nQuestion: One cause of heat in a car engine is caused by friction between parts. Which of these reduces the amount of heat produced by friction?\\nAnswer: oil\\n\\nQuestion: The continental crust floats on top of the mantle because the crust is\\nAnswer: less dense than the mantle.\\n\\nQuestion: If the atomic mass number of an atom is 35, which statement is most accurate?\\nAnswer: The number of protons does not equal the number of neutrons.\\n\\nQuestion: How are cells able to produce the proteins required by certain conditions?\\nAnswer: by expressing existing genes\\n\\nQuestion: Which of the following elements is best able to combine with itself and hydrogen [H] to form large molecules?\\nAnswer: carbon [C]\\n\\nQuestion: Which sense is used to determine an object\\'s texture?\\nAnswer: touch\\n\\nQuestion: Mrs. Henderson\\'s class has five small, covered boxes. One contains perfume; another contains dried onions. There is also a box of pine needles, a box of lemon pieces, and a box with a paper towel wet with vanilla flavoring. Which should they do to get the best information about what is in each box?\\nAnswer: Smell the boxes.\\n\\nQuestion: An agricultural scientist, George Washington Carver, is most famous for his research on\\nAnswer: peanuts.\\n\\nQuestion: Which is the function of the gallbladder?\\nAnswer:', ' store digestive enzymes')[0]\n",
      ", Req_loglikelihood('Question: Homes that are built to be environmentally friendly because they use energy more efficiently than other homes are called \"green\" homes. \"Green\" homes often have reflective roofs and walls made of recycled materials. The windows in these energy-saving homes are double-paned, meaning each window has two pieces of glass. Double-paned windows have a layer of air between the window panes. This layer is a barrier against extreme temperatures and saves energy. A solar panel on a \"green\" home uses\\nAnswer: a renewable energy source\\n\\nQuestion: What is an environmental threat posed by oil and gas acquisition and transport that is not posed by the acquisition and transport of the energy resources uranium, and wood?\\nAnswer: pipeline leaks\\n\\nQuestion: One cause of heat in a car engine is caused by friction between parts. Which of these reduces the amount of heat produced by friction?\\nAnswer: oil\\n\\nQuestion: The continental crust floats on top of the mantle because the crust is\\nAnswer: less dense than the mantle.\\n\\nQuestion: If the atomic mass number of an atom is 35, which statement is most accurate?\\nAnswer: The number of protons does not equal the number of neutrons.\\n\\nQuestion: How are cells able to produce the proteins required by certain conditions?\\nAnswer: by expressing existing genes\\n\\nQuestion: Which of the following elements is best able to combine with itself and hydrogen [H] to form large molecules?\\nAnswer: carbon [C]\\n\\nQuestion: Which sense is used to determine an object\\'s texture?\\nAnswer: touch\\n\\nQuestion: Mrs. Henderson\\'s class has five small, covered boxes. One contains perfume; another contains dried onions. There is also a box of pine needles, a box of lemon pieces, and a box with a paper towel wet with vanilla flavoring. Which should they do to get the best information about what is in each box?\\nAnswer: Smell the boxes.\\n\\nQuestion: An agricultural scientist, George Washington Carver, is most famous for his research on\\nAnswer: peanuts.\\n\\nQuestion: Which is the function of the gallbladder?\\nAnswer:', ' produce digestive enzymes')[0]\n",
      "]\n",
      "Task: hellaswag; number of docs: 10042\n",
      "Task: hellaswag; document 0; context prompt (starting on next line):\n",
      "Pole vault: The next man takes his turn and he does the same using the stick to get over the obstacle and jumping up with excitement after landing. Then another man takes his turn and when he lands he throws off his helmet and yells and jumps for joy like the previous men.\n",
      "\n",
      "Education and Communications: How to fill nail holes. Mix dry powder filler with water according to the putty manufacturer's instructions. This form of putty should be mixed to a stiff consistency.. Pack each nail hole full of putty with a plastic dish scraper and add extra putty so you create a slight putty mound.  As the putty dries, it shrinks. Adding extra putty allows for this shrinkage, making sure the nail hole has been completely filled.\n",
      "\n",
      "Snow tubing: Women are in rubbers sliding down a snowy hill. Women stands and laugh and walks.\n",
      "\n",
      "Computers and Electronics: How to drain a water heater. Turn off your water heater. You do not want to drain a water heater that is in operation. If you have a gas-powered water heater, turn the switch to \" pilot \" to keep the water heater's pilot light on, but stop the water from heating. If you have an electric water heater, switch off the electrical switch that connects the heater to the electricity. This may be a switch in a board above the heater.\n",
      "\n",
      "Health: How to keep a menstrual calendar. Get a calendar suitable to your needs. There are currently many different calendar options to track your cycle. You can choose to keep a physical calendar or journal or take advantage of any number of online tools or smartphone apps to track your menstrual cycle. Figure out which type best suits your needs and wishes. Buy a paper calendar with plenty of space to make notes if you want to document your cycle by hand.\n",
      "\n",
      "Food and Entertaining: How to make cinnamon roll sticks. Preheat your oven to 375 ° f (190 ° c) while you prepare the dough and the topping.. Dissolve the yeast, sugar and water in a medium bowl.. Allow the mixture to rest for 5 minutes until it gets bubbly.  Add the salt and 3 1/4 cups of the flour to the yeast mixture.. Stir the ingredients by hand until they're well mixed, or use the dough hook on your mixer to blend the ingredients.\n",
      "\n",
      "Paintball: People are shown walking along a beach. Several people in paintball gear are running through an obstacle course. The people shoot at each other, hiding behind the obstacles.\n",
      "\n",
      "Pets and Animals: How to buy a hedgehog. Check if hedgehogs are legal in your area. Hedgehogs are considered exotic pets and are illegal in some locations. In others, the sale of hedgehogs is heavily regulated and it may be difficult to find a seller.  To learn about which states are illegal, go to: http: // www.hedgehogcentral.com/illegal. Shtml and speak to your veterinarian or contact your state veterinary board.\n",
      "\n",
      "Work World: How to write a cover letter for an engineering job. Choose the job you want to apply for. It is important to choose to apply to a job that you feel comfortable with. When searching for jobs, make sure that the skills you have match the ones they mention in the job description. Being confident when applying for a job can be sensed by your employer when reading your resumé, cover letter, or interview meeting, and thus increases your chances of being offered the position.. Conduct research about the company you are applying for.\n",
      "\n",
      "Home and Garden: How to grow sweet peppers. Buy a packet of sweet pepper seeds. Standard sweet pepper seeds, which produce, red, yellow or orange bell-shaped peppers, are available in any well-stocked garden center. If you're interested in getting heirloom varieties, check online for a wide range of options. Heirlooms come in all sorts of colors and have varying levels of sweetness.. Plan to sow sweet pepper seeds indoors in late winter.\n",
      "\n",
      "Personal Care and Style: How to increase breast size with a bra. Check your bra size. Wearing a bra that is too big will not make your breasts look larger. That is why it is important to wear the right size bra for you.\n",
      "(end of prompt on previous line)\n",
      "Requests: [Req_loglikelihood('Pole vault: The next man takes his turn and he does the same using the stick to get over the obstacle and jumping up with excitement after landing. Then another man takes his turn and when he lands he throws off his helmet and yells and jumps for joy like the previous men.\\n\\nEducation and Communications: How to fill nail holes. Mix dry powder filler with water according to the putty manufacturer\\'s instructions. This form of putty should be mixed to a stiff consistency.. Pack each nail hole full of putty with a plastic dish scraper and add extra putty so you create a slight putty mound.  As the putty dries, it shrinks. Adding extra putty allows for this shrinkage, making sure the nail hole has been completely filled.\\n\\nSnow tubing: Women are in rubbers sliding down a snowy hill. Women stands and laugh and walks.\\n\\nComputers and Electronics: How to drain a water heater. Turn off your water heater. You do not want to drain a water heater that is in operation. If you have a gas-powered water heater, turn the switch to \" pilot \" to keep the water heater\\'s pilot light on, but stop the water from heating. If you have an electric water heater, switch off the electrical switch that connects the heater to the electricity. This may be a switch in a board above the heater.\\n\\nHealth: How to keep a menstrual calendar. Get a calendar suitable to your needs. There are currently many different calendar options to track your cycle. You can choose to keep a physical calendar or journal or take advantage of any number of online tools or smartphone apps to track your menstrual cycle. Figure out which type best suits your needs and wishes. Buy a paper calendar with plenty of space to make notes if you want to document your cycle by hand.\\n\\nFood and Entertaining: How to make cinnamon roll sticks. Preheat your oven to 375 ° f (190 ° c) while you prepare the dough and the topping.. Dissolve the yeast, sugar and water in a medium bowl.. Allow the mixture to rest for 5 minutes until it gets bubbly.  Add the salt and 3 1/4 cups of the flour to the yeast mixture.. Stir the ingredients by hand until they\\'re well mixed, or use the dough hook on your mixer to blend the ingredients.\\n\\nPaintball: People are shown walking along a beach. Several people in paintball gear are running through an obstacle course. The people shoot at each other, hiding behind the obstacles.\\n\\nPets and Animals: How to buy a hedgehog. Check if hedgehogs are legal in your area. Hedgehogs are considered exotic pets and are illegal in some locations. In others, the sale of hedgehogs is heavily regulated and it may be difficult to find a seller.  To learn about which states are illegal, go to: http: // www.hedgehogcentral.com/illegal. Shtml and speak to your veterinarian or contact your state veterinary board.\\n\\nWork World: How to write a cover letter for an engineering job. Choose the job you want to apply for. It is important to choose to apply to a job that you feel comfortable with. When searching for jobs, make sure that the skills you have match the ones they mention in the job description. Being confident when applying for a job can be sensed by your employer when reading your resumé, cover letter, or interview meeting, and thus increases your chances of being offered the position.. Conduct research about the company you are applying for.\\n\\nHome and Garden: How to grow sweet peppers. Buy a packet of sweet pepper seeds. Standard sweet pepper seeds, which produce, red, yellow or orange bell-shaped peppers, are available in any well-stocked garden center. If you\\'re interested in getting heirloom varieties, check online for a wide range of options. Heirlooms come in all sorts of colors and have varying levels of sweetness.. Plan to sow sweet pepper seeds indoors in late winter.\\n\\nPersonal Care and Style: How to increase breast size with a bra. Check your bra size. Wearing a bra that is too big will not make your breasts look larger. That is why it is important to wear the right size bra for you.', ' You can visit a lingerie shop and have them measure you to help you fit a bra to your size, or measure yourself before you shop for a new bra to ensure that you get a good fit. Use a flexible tape measure, like one found in a sewing kit.')[0]\n",
      ", Req_loglikelihood('Pole vault: The next man takes his turn and he does the same using the stick to get over the obstacle and jumping up with excitement after landing. Then another man takes his turn and when he lands he throws off his helmet and yells and jumps for joy like the previous men.\\n\\nEducation and Communications: How to fill nail holes. Mix dry powder filler with water according to the putty manufacturer\\'s instructions. This form of putty should be mixed to a stiff consistency.. Pack each nail hole full of putty with a plastic dish scraper and add extra putty so you create a slight putty mound.  As the putty dries, it shrinks. Adding extra putty allows for this shrinkage, making sure the nail hole has been completely filled.\\n\\nSnow tubing: Women are in rubbers sliding down a snowy hill. Women stands and laugh and walks.\\n\\nComputers and Electronics: How to drain a water heater. Turn off your water heater. You do not want to drain a water heater that is in operation. If you have a gas-powered water heater, turn the switch to \" pilot \" to keep the water heater\\'s pilot light on, but stop the water from heating. If you have an electric water heater, switch off the electrical switch that connects the heater to the electricity. This may be a switch in a board above the heater.\\n\\nHealth: How to keep a menstrual calendar. Get a calendar suitable to your needs. There are currently many different calendar options to track your cycle. You can choose to keep a physical calendar or journal or take advantage of any number of online tools or smartphone apps to track your menstrual cycle. Figure out which type best suits your needs and wishes. Buy a paper calendar with plenty of space to make notes if you want to document your cycle by hand.\\n\\nFood and Entertaining: How to make cinnamon roll sticks. Preheat your oven to 375 ° f (190 ° c) while you prepare the dough and the topping.. Dissolve the yeast, sugar and water in a medium bowl.. Allow the mixture to rest for 5 minutes until it gets bubbly.  Add the salt and 3 1/4 cups of the flour to the yeast mixture.. Stir the ingredients by hand until they\\'re well mixed, or use the dough hook on your mixer to blend the ingredients.\\n\\nPaintball: People are shown walking along a beach. Several people in paintball gear are running through an obstacle course. The people shoot at each other, hiding behind the obstacles.\\n\\nPets and Animals: How to buy a hedgehog. Check if hedgehogs are legal in your area. Hedgehogs are considered exotic pets and are illegal in some locations. In others, the sale of hedgehogs is heavily regulated and it may be difficult to find a seller.  To learn about which states are illegal, go to: http: // www.hedgehogcentral.com/illegal. Shtml and speak to your veterinarian or contact your state veterinary board.\\n\\nWork World: How to write a cover letter for an engineering job. Choose the job you want to apply for. It is important to choose to apply to a job that you feel comfortable with. When searching for jobs, make sure that the skills you have match the ones they mention in the job description. Being confident when applying for a job can be sensed by your employer when reading your resumé, cover letter, or interview meeting, and thus increases your chances of being offered the position.. Conduct research about the company you are applying for.\\n\\nHome and Garden: How to grow sweet peppers. Buy a packet of sweet pepper seeds. Standard sweet pepper seeds, which produce, red, yellow or orange bell-shaped peppers, are available in any well-stocked garden center. If you\\'re interested in getting heirloom varieties, check online for a wide range of options. Heirlooms come in all sorts of colors and have varying levels of sweetness.. Plan to sow sweet pepper seeds indoors in late winter.\\n\\nPersonal Care and Style: How to increase breast size with a bra. Check your bra size. Wearing a bra that is too big will not make your breasts look larger. That is why it is important to wear the right size bra for you.', ' This is why it is important to keep your breasts under protection when in the shower and only wear bras that are larger than your breast size. If you are not wearing a bra, try wearing something that is a little bigger.')[0]\n",
      ", Req_loglikelihood('Pole vault: The next man takes his turn and he does the same using the stick to get over the obstacle and jumping up with excitement after landing. Then another man takes his turn and when he lands he throws off his helmet and yells and jumps for joy like the previous men.\\n\\nEducation and Communications: How to fill nail holes. Mix dry powder filler with water according to the putty manufacturer\\'s instructions. This form of putty should be mixed to a stiff consistency.. Pack each nail hole full of putty with a plastic dish scraper and add extra putty so you create a slight putty mound.  As the putty dries, it shrinks. Adding extra putty allows for this shrinkage, making sure the nail hole has been completely filled.\\n\\nSnow tubing: Women are in rubbers sliding down a snowy hill. Women stands and laugh and walks.\\n\\nComputers and Electronics: How to drain a water heater. Turn off your water heater. You do not want to drain a water heater that is in operation. If you have a gas-powered water heater, turn the switch to \" pilot \" to keep the water heater\\'s pilot light on, but stop the water from heating. If you have an electric water heater, switch off the electrical switch that connects the heater to the electricity. This may be a switch in a board above the heater.\\n\\nHealth: How to keep a menstrual calendar. Get a calendar suitable to your needs. There are currently many different calendar options to track your cycle. You can choose to keep a physical calendar or journal or take advantage of any number of online tools or smartphone apps to track your menstrual cycle. Figure out which type best suits your needs and wishes. Buy a paper calendar with plenty of space to make notes if you want to document your cycle by hand.\\n\\nFood and Entertaining: How to make cinnamon roll sticks. Preheat your oven to 375 ° f (190 ° c) while you prepare the dough and the topping.. Dissolve the yeast, sugar and water in a medium bowl.. Allow the mixture to rest for 5 minutes until it gets bubbly.  Add the salt and 3 1/4 cups of the flour to the yeast mixture.. Stir the ingredients by hand until they\\'re well mixed, or use the dough hook on your mixer to blend the ingredients.\\n\\nPaintball: People are shown walking along a beach. Several people in paintball gear are running through an obstacle course. The people shoot at each other, hiding behind the obstacles.\\n\\nPets and Animals: How to buy a hedgehog. Check if hedgehogs are legal in your area. Hedgehogs are considered exotic pets and are illegal in some locations. In others, the sale of hedgehogs is heavily regulated and it may be difficult to find a seller.  To learn about which states are illegal, go to: http: // www.hedgehogcentral.com/illegal. Shtml and speak to your veterinarian or contact your state veterinary board.\\n\\nWork World: How to write a cover letter for an engineering job. Choose the job you want to apply for. It is important to choose to apply to a job that you feel comfortable with. When searching for jobs, make sure that the skills you have match the ones they mention in the job description. Being confident when applying for a job can be sensed by your employer when reading your resumé, cover letter, or interview meeting, and thus increases your chances of being offered the position.. Conduct research about the company you are applying for.\\n\\nHome and Garden: How to grow sweet peppers. Buy a packet of sweet pepper seeds. Standard sweet pepper seeds, which produce, red, yellow or orange bell-shaped peppers, are available in any well-stocked garden center. If you\\'re interested in getting heirloom varieties, check online for a wide range of options. Heirlooms come in all sorts of colors and have varying levels of sweetness.. Plan to sow sweet pepper seeds indoors in late winter.\\n\\nPersonal Care and Style: How to increase breast size with a bra. Check your bra size. Wearing a bra that is too big will not make your breasts look larger. That is why it is important to wear the right size bra for you.', ' For a girl, a bra with a support strap will be easier for her, because most women are unable to pull through bra straps and bras that are too small will not be able to support breasts from side-to-side. Many bras have even been created that cover the breast side, and can be sent to other women in the world to make them look bigger.')[0]\n",
      ", Req_loglikelihood('Pole vault: The next man takes his turn and he does the same using the stick to get over the obstacle and jumping up with excitement after landing. Then another man takes his turn and when he lands he throws off his helmet and yells and jumps for joy like the previous men.\\n\\nEducation and Communications: How to fill nail holes. Mix dry powder filler with water according to the putty manufacturer\\'s instructions. This form of putty should be mixed to a stiff consistency.. Pack each nail hole full of putty with a plastic dish scraper and add extra putty so you create a slight putty mound.  As the putty dries, it shrinks. Adding extra putty allows for this shrinkage, making sure the nail hole has been completely filled.\\n\\nSnow tubing: Women are in rubbers sliding down a snowy hill. Women stands and laugh and walks.\\n\\nComputers and Electronics: How to drain a water heater. Turn off your water heater. You do not want to drain a water heater that is in operation. If you have a gas-powered water heater, turn the switch to \" pilot \" to keep the water heater\\'s pilot light on, but stop the water from heating. If you have an electric water heater, switch off the electrical switch that connects the heater to the electricity. This may be a switch in a board above the heater.\\n\\nHealth: How to keep a menstrual calendar. Get a calendar suitable to your needs. There are currently many different calendar options to track your cycle. You can choose to keep a physical calendar or journal or take advantage of any number of online tools or smartphone apps to track your menstrual cycle. Figure out which type best suits your needs and wishes. Buy a paper calendar with plenty of space to make notes if you want to document your cycle by hand.\\n\\nFood and Entertaining: How to make cinnamon roll sticks. Preheat your oven to 375 ° f (190 ° c) while you prepare the dough and the topping.. Dissolve the yeast, sugar and water in a medium bowl.. Allow the mixture to rest for 5 minutes until it gets bubbly.  Add the salt and 3 1/4 cups of the flour to the yeast mixture.. Stir the ingredients by hand until they\\'re well mixed, or use the dough hook on your mixer to blend the ingredients.\\n\\nPaintball: People are shown walking along a beach. Several people in paintball gear are running through an obstacle course. The people shoot at each other, hiding behind the obstacles.\\n\\nPets and Animals: How to buy a hedgehog. Check if hedgehogs are legal in your area. Hedgehogs are considered exotic pets and are illegal in some locations. In others, the sale of hedgehogs is heavily regulated and it may be difficult to find a seller.  To learn about which states are illegal, go to: http: // www.hedgehogcentral.com/illegal. Shtml and speak to your veterinarian or contact your state veterinary board.\\n\\nWork World: How to write a cover letter for an engineering job. Choose the job you want to apply for. It is important to choose to apply to a job that you feel comfortable with. When searching for jobs, make sure that the skills you have match the ones they mention in the job description. Being confident when applying for a job can be sensed by your employer when reading your resumé, cover letter, or interview meeting, and thus increases your chances of being offered the position.. Conduct research about the company you are applying for.\\n\\nHome and Garden: How to grow sweet peppers. Buy a packet of sweet pepper seeds. Standard sweet pepper seeds, which produce, red, yellow or orange bell-shaped peppers, are available in any well-stocked garden center. If you\\'re interested in getting heirloom varieties, check online for a wide range of options. Heirlooms come in all sorts of colors and have varying levels of sweetness.. Plan to sow sweet pepper seeds indoors in late winter.\\n\\nPersonal Care and Style: How to increase breast size with a bra. Check your bra size. Wearing a bra that is too big will not make your breasts look larger. That is why it is important to wear the right size bra for you.', ' Choose a color that is flattering to your breast type and specific event, in addition to those that make you uncomfortable. Look for sports bras made from natural material, such as spandex or lycra, as this is a more breathable bra.')[0]\n",
      "]\n",
      "Task: squad2; number of docs: 11873\n",
      "Task: squad2; document 0; context prompt (starting on next line):\n",
      "Title: Liberia\n",
      "\n",
      "Background: The subsequent 2005 elections were internationally regarded as the most free and fair in Liberian history. Ellen Johnson Sirleaf, a Harvard-trained economist and former Minister of Finance, was elected as the first female president in Africa. Upon her inauguration, Sirleaf requested the extradition of Taylor from Nigeria and transferred him to the SCSL for trial in The Hague. In 2006, the government established a Truth and Reconciliation Commission to address the causes and crimes of the civil war.\n",
      "\n",
      "Question: Movement For democracy in Liberia requested the extradition of whom\"\n",
      "\n",
      "Answer: Taylor from Nigeria\n",
      "\n",
      "Title: Railway_electrification_system\n",
      "\n",
      "Background: Some street trams (streetcars) used conduit third-rail current collection. The third rail was below street level. The tram picked up the current through a plough (U.S. \"plow\") accessed through a narrow slot in the road. In the United States, much (though not all) of the former streetcar system in Washington, D.C. (discontinued in 1962) was operated in this manner to avoid the unsightly wires and poles associated with electric traction. The same was true with Manhattan's former streetcar system. The evidence of this mode of running can still be seen on the track down the slope on the northern access to the abandoned Kingsway Tramway Subway in central London, United Kingdom, where the slot between the running rails is clearly visible, and on P and Q Streets west of Wisconsin Avenue in the Georgetown neighborhood of Washington DC, where the abandoned tracks have not been paved over. The slot can easily be confused with the similar looking slot for cable trams/cars (in some cases, the conduit slot was originally a cable slot). The disadvantage of conduit collection included much higher initial installation costs, higher maintenance costs, and problems with leaves and snow getting in the slot. For this reason, in Washington, D.C. cars on some lines converted to overhead wire on leaving the city center, a worker in a \"plough pit\" disconnecting the plough while another raised the trolley pole (hitherto hooked down to the roof) to the overhead wire. In New York City for the same reasons of cost and operating efficiency outside of Manhattan overhead wire was used. A similar system of changeover from conduit to overhead wire was also used on the London tramways, notably on the southern side; a typical changeover point was at Norwood, where the conduit snaked sideways from between the running rails, to provide a park for detached shoes or ploughs.\n",
      "\n",
      "Question: In what neighborhood in New York have the abandoned tracks not been paved over?\n",
      "\n",
      "Answer: unanswerable\n",
      "\n",
      "Title: Dog\n",
      "\n",
      "Background: Purebred dogs of one breed are genetically distinguishable from purebred dogs of other breeds, but the means by which kennel clubs classify dogs is unsystematic. Systematic analyses of the dog genome has revealed only four major types of dogs that can be said to be statistically distinct. These include the \"old world dogs\" (e.g., Malamute and Shar Pei), \"Mastiff\"-type (e.g., English Mastiff), \"herding\"-type (e.g., Border Collie), and \"all others\" (also called \"modern\"- or \"hunting\"-type).\n",
      "\n",
      "Question: What type of dogs are Shar Peis?\n",
      "\n",
      "Answer: old world dogs\n",
      "\n",
      "Title: Gamal_Abdel_Nasser\n",
      "\n",
      "Background: American political scientist Mark Cooper asserted that Nasser's charisma and his direct relationship with the Egyptian people \"rendered intermediaries (organizations and individuals) unnecessary\". He opined that Nasser's legacy was a \"guarantee of instability\" due to Nasser's reliance on personal power and the absence of strong political institutions under his rule. Historian Abd al-Azim Ramadan wrote that Nasser was an irrational and irresponsible leader, blaming his inclination to solitary decision-making for Egypt's losses during the Suez War, among other events. Miles Copeland, Jr. , once described as Nasser's closest Western adviser, said that the barriers between Nasser and the outside world have grown so thick that all but the information that attest to his infallibility, indispensability, and immortality has been filtered out.\n",
      "\n",
      "Question: What did Nasser's political style render unnecessary?\n",
      "\n",
      "Answer: intermediaries\n",
      "\n",
      "Title: Punjab,_Pakistan\n",
      "\n",
      "Background: There are 48 departments in Punjab government. Each Department is headed by a Provincial Minister (Politician) and a Provincial Secretary (A civil servant of usually BPS-20 or BPS-21). All Ministers report to the Chief Minister, who is the Chief Executive. All Secretaries report to the Chief Secretary of Punjab, who is usually a BPS-22 Civil Servant. The Chief Secretary in turn reports to the Chief Minister. In addition to these departments, there are several Autonomous Bodies and Attached Departments that report directly to either the Secretaries or the Chief Secretary.\n",
      "\n",
      "Question: How many departments does the Punjab administration have?\n",
      "\n",
      "Answer: 48\n",
      "\n",
      "Title: Computer_security\n",
      "\n",
      "Background: While hardware may be a source of insecurity, such as with microchip vulnerabilities maliciously introduced during the manufacturing process, hardware-based or assisted computer security also offers an alternative to software-only computer security. Using devices and methods such as dongles, trusted platform modules, intrusion-aware cases, drive locks, disabling USB ports, and mobile-enabled access may be considered more secure due to the physical access (or sophisticated backdoor access) required in order to be compromised. Each of these is covered in more detail below.\n",
      "\n",
      "Question: What offers an alternative to soft-ware only computer security?\n",
      "\n",
      "Answer: hardware-based or assisted computer security\n",
      "\n",
      "Title: Hunting\n",
      "\n",
      "Background: On 16 March 1934, President Franklin D. Roosevelt signed the Migratory Bird Hunting Stamp Act, which requires an annual stamp purchase by all hunters over the age of sixteen. The stamps are created on behalf of the program by the US Postal Service and depict wildlife artwork chosen through an annual contest. They play an important role in habitat conservation because ninety-eight percent of all funds generated by their sale go directly toward the purchase or lease of wetland habitat for protection in the National Wildlife Refuge System.[citation needed] In addition to waterfowl, it is estimated that one third of the nation's endangered species seek food and shelter in areas protected using Duck Stamp funds.[citation needed]\n",
      "\n",
      "Question: Who signed the Migratory Bird Hunting Stamp Act?\n",
      "\n",
      "Answer: President Franklin D. Roosevelt\n",
      "\n",
      "Title: Antenna_(radio)\n",
      "\n",
      "Background: For horizontal propagation between transmitting and receiving antennas situated near the ground reasonably far from each other, the distances traveled by tne direct and reflected rays are nearly the same. There is almost no relative phase shift. If the emission is polarized vertically, the two fields (direct and reflected) add and there is maximum of received signal. If the signal is polarized horizontally, the two signals subtract and the received signal is largely cancelled. The vertical plane radiation patterns are shown in the image at right. With vertical polarization there is always a maximum for θ=0, horizontal propagation (left pattern). For horizontal polarization, there is cancellation at that angle. Note that the above formulae and these plots assume the ground as a perfect conductor. These plots of the radiation pattern correspond to a distance between the antenna and its image of 2.5λ. As the antenna height is increased, the number of lobes increases as well.\n",
      "\n",
      "Question: When is the emission at maximized recieved signal?\n",
      "\n",
      "Answer: polarized vertically\n",
      "\n",
      "Title: Somalis\n",
      "\n",
      "Background: The Xeer legal system also requires a certain amount of specialization of different functions within the legal framework. Thus, one can find odayal (judges), xeer boggeyaal (jurists), guurtiyaal (detectives), garxajiyaal (attorneys), murkhaatiyal (witnesses) and waranle (police officers) to enforce the law.\n",
      "\n",
      "Question: What does the Xeer system call cops?\n",
      "\n",
      "Answer: waranle\n",
      "\n",
      "Title: Bermuda\n",
      "\n",
      "Background: Bermuda was discovered in 1503 by Spanish explorer Juan de Bermúdez. It is mentioned in Legatio Babylonica, published in 1511 by historian Pedro Mártir de Anglería, and was also included on Spanish charts of that year. Both Spanish and Portuguese ships used the islands as a replenishment spot to take on fresh meat and water. Legends arose of spirits and devils, now thought to have stemmed from the calls of raucous birds (most likely the Bermuda petrel, or Cahow) and the loud noise heard at night from wild hogs. Combined with the frequent storm-wracked conditions and the dangerous reefs, the archipelago became known as the Isle of Devils. Neither Spain nor Portugal tried to settle it.\n",
      "\n",
      "Question: Crazy noises from indigenous animals, frequent storms and hazardous reefs earned the islands what name?\n",
      "\n",
      "Answer: Isle of Devils\n",
      "\n",
      "Title: Immune_system\n",
      "\n",
      "Background: Pattern recognition receptors are proteins used by nearly all organisms to identify molecules associated with pathogens. Antimicrobial peptides called defensins are an evolutionarily conserved component of the innate immune response found in all animals and plants, and represent the main form of invertebrate systemic immunity. The complement system and phagocytic cells are also used by most forms of invertebrate life. Ribonucleases and the RNA interference pathway are conserved across all eukaryotes, and are thought to play a role in the immune response to viruses.\n",
      "\n",
      "Question: What pathway that plays a role in immune response to viruses is present in all eukaryotes?\n",
      "\n",
      "Answer:\n",
      "(end of prompt on previous line)\n",
      "Requests: (Req_greedy_until('Title: Liberia\\n\\nBackground: The subsequent 2005 elections were internationally regarded as the most free and fair in Liberian history. Ellen Johnson Sirleaf, a Harvard-trained economist and former Minister of Finance, was elected as the first female president in Africa. Upon her inauguration, Sirleaf requested the extradition of Taylor from Nigeria and transferred him to the SCSL for trial in The Hague. In 2006, the government established a Truth and Reconciliation Commission to address the causes and crimes of the civil war.\\n\\nQuestion: Movement For democracy in Liberia requested the extradition of whom\"\\n\\nAnswer: Taylor from Nigeria\\n\\nTitle: Railway_electrification_system\\n\\nBackground: Some street trams (streetcars) used conduit third-rail current collection. The third rail was below street level. The tram picked up the current through a plough (U.S. \"plow\") accessed through a narrow slot in the road. In the United States, much (though not all) of the former streetcar system in Washington, D.C. (discontinued in 1962) was operated in this manner to avoid the unsightly wires and poles associated with electric traction. The same was true with Manhattan\\'s former streetcar system. The evidence of this mode of running can still be seen on the track down the slope on the northern access to the abandoned Kingsway Tramway Subway in central London, United Kingdom, where the slot between the running rails is clearly visible, and on P and Q Streets west of Wisconsin Avenue in the Georgetown neighborhood of Washington DC, where the abandoned tracks have not been paved over. The slot can easily be confused with the similar looking slot for cable trams/cars (in some cases, the conduit slot was originally a cable slot). The disadvantage of conduit collection included much higher initial installation costs, higher maintenance costs, and problems with leaves and snow getting in the slot. For this reason, in Washington, D.C. cars on some lines converted to overhead wire on leaving the city center, a worker in a \"plough pit\" disconnecting the plough while another raised the trolley pole (hitherto hooked down to the roof) to the overhead wire. In New York City for the same reasons of cost and operating efficiency outside of Manhattan overhead wire was used. A similar system of changeover from conduit to overhead wire was also used on the London tramways, notably on the southern side; a typical changeover point was at Norwood, where the conduit snaked sideways from between the running rails, to provide a park for detached shoes or ploughs.\\n\\nQuestion: In what neighborhood in New York have the abandoned tracks not been paved over?\\n\\nAnswer: unanswerable\\n\\nTitle: Dog\\n\\nBackground: Purebred dogs of one breed are genetically distinguishable from purebred dogs of other breeds, but the means by which kennel clubs classify dogs is unsystematic. Systematic analyses of the dog genome has revealed only four major types of dogs that can be said to be statistically distinct. These include the \"old world dogs\" (e.g., Malamute and Shar Pei), \"Mastiff\"-type (e.g., English Mastiff), \"herding\"-type (e.g., Border Collie), and \"all others\" (also called \"modern\"- or \"hunting\"-type).\\n\\nQuestion: What type of dogs are Shar Peis?\\n\\nAnswer: old world dogs\\n\\nTitle: Gamal_Abdel_Nasser\\n\\nBackground: American political scientist Mark Cooper asserted that Nasser\\'s charisma and his direct relationship with the Egyptian people \"rendered intermediaries (organizations and individuals) unnecessary\". He opined that Nasser\\'s legacy was a \"guarantee of instability\" due to Nasser\\'s reliance on personal power and the absence of strong political institutions under his rule. Historian Abd al-Azim Ramadan wrote that Nasser was an irrational and irresponsible leader, blaming his inclination to solitary decision-making for Egypt\\'s losses during the Suez War, among other events. Miles Copeland, Jr. , once described as Nasser\\'s closest Western adviser, said that the barriers between Nasser and the outside world have grown so thick that all but the information that attest to his infallibility, indispensability, and immortality has been filtered out.\\n\\nQuestion: What did Nasser\\'s political style render unnecessary?\\n\\nAnswer: intermediaries\\n\\nTitle: Punjab,_Pakistan\\n\\nBackground: There are 48 departments in Punjab government. Each Department is headed by a Provincial Minister (Politician) and a Provincial Secretary (A civil servant of usually BPS-20 or BPS-21). All Ministers report to the Chief Minister, who is the Chief Executive. All Secretaries report to the Chief Secretary of Punjab, who is usually a BPS-22 Civil Servant. The Chief Secretary in turn reports to the Chief Minister. In addition to these departments, there are several Autonomous Bodies and Attached Departments that report directly to either the Secretaries or the Chief Secretary.\\n\\nQuestion: How many departments does the Punjab administration have?\\n\\nAnswer: 48\\n\\nTitle: Computer_security\\n\\nBackground: While hardware may be a source of insecurity, such as with microchip vulnerabilities maliciously introduced during the manufacturing process, hardware-based or assisted computer security also offers an alternative to software-only computer security. Using devices and methods such as dongles, trusted platform modules, intrusion-aware cases, drive locks, disabling USB ports, and mobile-enabled access may be considered more secure due to the physical access (or sophisticated backdoor access) required in order to be compromised. Each of these is covered in more detail below.\\n\\nQuestion: What offers an alternative to soft-ware only computer security?\\n\\nAnswer: hardware-based or assisted computer security\\n\\nTitle: Hunting\\n\\nBackground: On 16 March 1934, President Franklin D. Roosevelt signed the Migratory Bird Hunting Stamp Act, which requires an annual stamp purchase by all hunters over the age of sixteen. The stamps are created on behalf of the program by the US Postal Service and depict wildlife artwork chosen through an annual contest. They play an important role in habitat conservation because ninety-eight percent of all funds generated by their sale go directly toward the purchase or lease of wetland habitat for protection in the National Wildlife Refuge System.[citation needed] In addition to waterfowl, it is estimated that one third of the nation\\'s endangered species seek food and shelter in areas protected using Duck Stamp funds.[citation needed]\\n\\nQuestion: Who signed the Migratory Bird Hunting Stamp Act?\\n\\nAnswer: President Franklin D. Roosevelt\\n\\nTitle: Antenna_(radio)\\n\\nBackground: For horizontal propagation between transmitting and receiving antennas situated near the ground reasonably far from each other, the distances traveled by tne direct and reflected rays are nearly the same. There is almost no relative phase shift. If the emission is polarized vertically, the two fields (direct and reflected) add and there is maximum of received signal. If the signal is polarized horizontally, the two signals subtract and the received signal is largely cancelled. The vertical plane radiation patterns are shown in the image at right. With vertical polarization there is always a maximum for θ=0, horizontal propagation (left pattern). For horizontal polarization, there is cancellation at that angle. Note that the above formulae and these plots assume the ground as a perfect conductor. These plots of the radiation pattern correspond to a distance between the antenna and its image of 2.5λ. As the antenna height is increased, the number of lobes increases as well.\\n\\nQuestion: When is the emission at maximized recieved signal?\\n\\nAnswer: polarized vertically\\n\\nTitle: Somalis\\n\\nBackground: The Xeer legal system also requires a certain amount of specialization of different functions within the legal framework. Thus, one can find odayal (judges), xeer boggeyaal (jurists), guurtiyaal (detectives), garxajiyaal (attorneys), murkhaatiyal (witnesses) and waranle (police officers) to enforce the law.\\n\\nQuestion: What does the Xeer system call cops?\\n\\nAnswer: waranle\\n\\nTitle: Bermuda\\n\\nBackground: Bermuda was discovered in 1503 by Spanish explorer Juan de Bermúdez. It is mentioned in Legatio Babylonica, published in 1511 by historian Pedro Mártir de Anglería, and was also included on Spanish charts of that year. Both Spanish and Portuguese ships used the islands as a replenishment spot to take on fresh meat and water. Legends arose of spirits and devils, now thought to have stemmed from the calls of raucous birds (most likely the Bermuda petrel, or Cahow) and the loud noise heard at night from wild hogs. Combined with the frequent storm-wracked conditions and the dangerous reefs, the archipelago became known as the Isle of Devils. Neither Spain nor Portugal tried to settle it.\\n\\nQuestion: Crazy noises from indigenous animals, frequent storms and hazardous reefs earned the islands what name?\\n\\nAnswer: Isle of Devils\\n\\nTitle: Immune_system\\n\\nBackground: Pattern recognition receptors are proteins used by nearly all organisms to identify molecules associated with pathogens. Antimicrobial peptides called defensins are an evolutionarily conserved component of the innate immune response found in all animals and plants, and represent the main form of invertebrate systemic immunity. The complement system and phagocytic cells are also used by most forms of invertebrate life. Ribonucleases and the RNA interference pathway are conserved across all eukaryotes, and are thought to play a role in the immune response to viruses.\\n\\nQuestion: What pathway that plays a role in immune response to viruses is present in all eukaryotes?\\n\\nAnswer:', {'until': ['\\n']})[None]\n",
      ", Req_loglikelihood('Title: Liberia\\n\\nBackground: The subsequent 2005 elections were internationally regarded as the most free and fair in Liberian history. Ellen Johnson Sirleaf, a Harvard-trained economist and former Minister of Finance, was elected as the first female president in Africa. Upon her inauguration, Sirleaf requested the extradition of Taylor from Nigeria and transferred him to the SCSL for trial in The Hague. In 2006, the government established a Truth and Reconciliation Commission to address the causes and crimes of the civil war.\\n\\nQuestion: Movement For democracy in Liberia requested the extradition of whom\"\\n\\nAnswer: Taylor from Nigeria\\n\\nTitle: Railway_electrification_system\\n\\nBackground: Some street trams (streetcars) used conduit third-rail current collection. The third rail was below street level. The tram picked up the current through a plough (U.S. \"plow\") accessed through a narrow slot in the road. In the United States, much (though not all) of the former streetcar system in Washington, D.C. (discontinued in 1962) was operated in this manner to avoid the unsightly wires and poles associated with electric traction. The same was true with Manhattan\\'s former streetcar system. The evidence of this mode of running can still be seen on the track down the slope on the northern access to the abandoned Kingsway Tramway Subway in central London, United Kingdom, where the slot between the running rails is clearly visible, and on P and Q Streets west of Wisconsin Avenue in the Georgetown neighborhood of Washington DC, where the abandoned tracks have not been paved over. The slot can easily be confused with the similar looking slot for cable trams/cars (in some cases, the conduit slot was originally a cable slot). The disadvantage of conduit collection included much higher initial installation costs, higher maintenance costs, and problems with leaves and snow getting in the slot. For this reason, in Washington, D.C. cars on some lines converted to overhead wire on leaving the city center, a worker in a \"plough pit\" disconnecting the plough while another raised the trolley pole (hitherto hooked down to the roof) to the overhead wire. In New York City for the same reasons of cost and operating efficiency outside of Manhattan overhead wire was used. A similar system of changeover from conduit to overhead wire was also used on the London tramways, notably on the southern side; a typical changeover point was at Norwood, where the conduit snaked sideways from between the running rails, to provide a park for detached shoes or ploughs.\\n\\nQuestion: In what neighborhood in New York have the abandoned tracks not been paved over?\\n\\nAnswer: unanswerable\\n\\nTitle: Dog\\n\\nBackground: Purebred dogs of one breed are genetically distinguishable from purebred dogs of other breeds, but the means by which kennel clubs classify dogs is unsystematic. Systematic analyses of the dog genome has revealed only four major types of dogs that can be said to be statistically distinct. These include the \"old world dogs\" (e.g., Malamute and Shar Pei), \"Mastiff\"-type (e.g., English Mastiff), \"herding\"-type (e.g., Border Collie), and \"all others\" (also called \"modern\"- or \"hunting\"-type).\\n\\nQuestion: What type of dogs are Shar Peis?\\n\\nAnswer: old world dogs\\n\\nTitle: Gamal_Abdel_Nasser\\n\\nBackground: American political scientist Mark Cooper asserted that Nasser\\'s charisma and his direct relationship with the Egyptian people \"rendered intermediaries (organizations and individuals) unnecessary\". He opined that Nasser\\'s legacy was a \"guarantee of instability\" due to Nasser\\'s reliance on personal power and the absence of strong political institutions under his rule. Historian Abd al-Azim Ramadan wrote that Nasser was an irrational and irresponsible leader, blaming his inclination to solitary decision-making for Egypt\\'s losses during the Suez War, among other events. Miles Copeland, Jr. , once described as Nasser\\'s closest Western adviser, said that the barriers between Nasser and the outside world have grown so thick that all but the information that attest to his infallibility, indispensability, and immortality has been filtered out.\\n\\nQuestion: What did Nasser\\'s political style render unnecessary?\\n\\nAnswer: intermediaries\\n\\nTitle: Punjab,_Pakistan\\n\\nBackground: There are 48 departments in Punjab government. Each Department is headed by a Provincial Minister (Politician) and a Provincial Secretary (A civil servant of usually BPS-20 or BPS-21). All Ministers report to the Chief Minister, who is the Chief Executive. All Secretaries report to the Chief Secretary of Punjab, who is usually a BPS-22 Civil Servant. The Chief Secretary in turn reports to the Chief Minister. In addition to these departments, there are several Autonomous Bodies and Attached Departments that report directly to either the Secretaries or the Chief Secretary.\\n\\nQuestion: How many departments does the Punjab administration have?\\n\\nAnswer: 48\\n\\nTitle: Computer_security\\n\\nBackground: While hardware may be a source of insecurity, such as with microchip vulnerabilities maliciously introduced during the manufacturing process, hardware-based or assisted computer security also offers an alternative to software-only computer security. Using devices and methods such as dongles, trusted platform modules, intrusion-aware cases, drive locks, disabling USB ports, and mobile-enabled access may be considered more secure due to the physical access (or sophisticated backdoor access) required in order to be compromised. Each of these is covered in more detail below.\\n\\nQuestion: What offers an alternative to soft-ware only computer security?\\n\\nAnswer: hardware-based or assisted computer security\\n\\nTitle: Hunting\\n\\nBackground: On 16 March 1934, President Franklin D. Roosevelt signed the Migratory Bird Hunting Stamp Act, which requires an annual stamp purchase by all hunters over the age of sixteen. The stamps are created on behalf of the program by the US Postal Service and depict wildlife artwork chosen through an annual contest. They play an important role in habitat conservation because ninety-eight percent of all funds generated by their sale go directly toward the purchase or lease of wetland habitat for protection in the National Wildlife Refuge System.[citation needed] In addition to waterfowl, it is estimated that one third of the nation\\'s endangered species seek food and shelter in areas protected using Duck Stamp funds.[citation needed]\\n\\nQuestion: Who signed the Migratory Bird Hunting Stamp Act?\\n\\nAnswer: President Franklin D. Roosevelt\\n\\nTitle: Antenna_(radio)\\n\\nBackground: For horizontal propagation between transmitting and receiving antennas situated near the ground reasonably far from each other, the distances traveled by tne direct and reflected rays are nearly the same. There is almost no relative phase shift. If the emission is polarized vertically, the two fields (direct and reflected) add and there is maximum of received signal. If the signal is polarized horizontally, the two signals subtract and the received signal is largely cancelled. The vertical plane radiation patterns are shown in the image at right. With vertical polarization there is always a maximum for θ=0, horizontal propagation (left pattern). For horizontal polarization, there is cancellation at that angle. Note that the above formulae and these plots assume the ground as a perfect conductor. These plots of the radiation pattern correspond to a distance between the antenna and its image of 2.5λ. As the antenna height is increased, the number of lobes increases as well.\\n\\nQuestion: When is the emission at maximized recieved signal?\\n\\nAnswer: polarized vertically\\n\\nTitle: Somalis\\n\\nBackground: The Xeer legal system also requires a certain amount of specialization of different functions within the legal framework. Thus, one can find odayal (judges), xeer boggeyaal (jurists), guurtiyaal (detectives), garxajiyaal (attorneys), murkhaatiyal (witnesses) and waranle (police officers) to enforce the law.\\n\\nQuestion: What does the Xeer system call cops?\\n\\nAnswer: waranle\\n\\nTitle: Bermuda\\n\\nBackground: Bermuda was discovered in 1503 by Spanish explorer Juan de Bermúdez. It is mentioned in Legatio Babylonica, published in 1511 by historian Pedro Mártir de Anglería, and was also included on Spanish charts of that year. Both Spanish and Portuguese ships used the islands as a replenishment spot to take on fresh meat and water. Legends arose of spirits and devils, now thought to have stemmed from the calls of raucous birds (most likely the Bermuda petrel, or Cahow) and the loud noise heard at night from wild hogs. Combined with the frequent storm-wracked conditions and the dangerous reefs, the archipelago became known as the Isle of Devils. Neither Spain nor Portugal tried to settle it.\\n\\nQuestion: Crazy noises from indigenous animals, frequent storms and hazardous reefs earned the islands what name?\\n\\nAnswer: Isle of Devils\\n\\nTitle: Immune_system\\n\\nBackground: Pattern recognition receptors are proteins used by nearly all organisms to identify molecules associated with pathogens. Antimicrobial peptides called defensins are an evolutionarily conserved component of the innate immune response found in all animals and plants, and represent the main form of invertebrate systemic immunity. The complement system and phagocytic cells are also used by most forms of invertebrate life. Ribonucleases and the RNA interference pathway are conserved across all eukaryotes, and are thought to play a role in the immune response to viruses.\\n\\nQuestion: What pathway that plays a role in immune response to viruses is present in all eukaryotes?\\n\\nAnswer:', ' unanswerable')[None]\n",
      ")\n",
      "Task: drop; number of docs: 9536\n",
      "Task: drop; document 0; context prompt (starting on next line):\n",
      "Passage: Hoping to rebound from their home loss to the 49ers, the Bills flew to the Rogers Centre for their first game of their Canadian International series, with an AFC East rematch against the Miami Dolphins.  In the first quarter, Buffalo trailed early as Dolphins QB Chad Pennington completed a 20-yard TD pass to TE Anthony Fasano.  The Bills answered with kicker Rian Lindell.  After that, Miami pulled away as kicker Dan Carpenter made three field goals (50, 35, and 27 yards).\n",
      "Question: Which player scored the first points of the game?\n",
      "Answer: Anthony Fasano\n",
      "\n",
      "Passage: The labour force of Greater Sydney Region in 2016 was 2,272,722 with a participation rate of 61.6%. It was made up of 61.2% full-time workers, 30.9% part-time workers, and 6.0% unemployed individuals. The largest reported occupations are professionals, clerical and administrative workers, managers, technicians and trades workers, and community and personal service workers. The largest industries by employment across Greater Sydney are Health Care and Social Assistance with 11.6%, Professional Services with 9.8%, Retail Trade with 9.3%, Construction with 8.2%, Education and Training with 8.0%, Accommodation and Food Services 6.7%, and Financial and Insurance Services with 6.6%. The Professional Services and Financial and Insurance Services industries account for 25.4% of employment within the City of Sydney.\n",
      "Question: Which industry across Greater Sydney is smaller: Retail Trade or Construction?\n",
      "Answer: Construction\n",
      "\n",
      "Passage: Coming off a primetime victory over Cincinnati, the Colts flew to Reliant Stadium for an AFC South rematch with the Houston Texans. Heading into this game, Indianapolis had never lost a game to the Texans, winning their first 9 games against them. In the first quarter, the Colts got an early shock as RB Ron Dayne ran for a 3-yard touchdown and a 6-yard touchdown run.  Indianapolis would respond with 37-yard touchdown pass from QB Peyton Manning to WR Marvin Harrison. In the second quarter, the Colts tied the game with Manning completing a 9-yard touchdown pass to WR Aaron Moorehead. However, Houston reclaimed its lead with QB David Carr's 3-yard touchdown pass to RB Vonta Leach. In the third quarter, Indianapolis crept closer with K Adam Vinatieri making a 33-yard field goal for the only score of the period. In the fourth quarter, the Texans responded with kicker Kris Brown's 42-yard field goal. Afterwards, the Colts tied the game with Manning hooking up with Harrison again on a 7-yard touchdown pass, Harrison's second of the game. However, Houston managed to pull off a huge upset with Kris Brown's game-winning 48-yard field goal as time expired, giving Indianapolis their first ever loss against them. With the loss, the Colts fell to 11-4. Colts QB Peyton Manning finished the game 21 of 27 for 205 yards passing with three touchdowns and Texans QB David Carr finished with 163 passing yards on completing 16 of 23 passes with one touchdown. Rookie RB Joseph Addai ran the ball 15 times for 100 yards and former Heisman Trophy winner Ron Dayne finished the game with 153 rushing yards on 32 carries. After this game, the Colts were now 11-4, having lost 4 of 6 after a 9-0 start and dropped to 4-4 on the road.\n",
      "Question: How many field goals did Vinatieri kick in the second half?\n",
      "Answer: 1\n",
      "\n",
      "Passage: Wholesale and retail trade is the largest sector in the citys economy, contributing 24.0 percent of Bangkoks gross provincial product. It is followed by manufacturing (14.3%); real estate, renting and business activities (12.4%); transport and communications (11.6%); and financial intermediation (11.1%). Bangkok alone accounts for 48.4 percent of Thailands service sector, which in turn constitutes 49.0 percent of GDP. When the Bangkok Metropolitan Region is considered, manufacturing is the most significant contributor at 28.2 percent of the gross regional product, reflecting the density of industry in the Bangkoks neighbouring provinces. Automotive industry in Thailand based around Greater Bangkok is the largest production hub in Southeast Asia. Tourism is also a significant contributor to Bangkoks economy, generating ฿427.5bn ($13.38bn) in revenue in 2010.\n",
      "Question: How many more percentage points do wholesale and retail trade contribute to Bangkok's gross provincial product than manufacturing?\n",
      "Answer: 9.7\n",
      "\n",
      "Passage: The following year, the feud between the nobility and plundering by robber knights continued. In 1385, the castle of Ricklingen, where the Mandelslohs resided, was besieged. When a catapult threw a heavy rock at the troops of Duke Albert, he was hit, and died on 28 June 1385. In the wake of his death, Elector Wenceslas appointed Bernard, his brother-in-law, as co-regent involved him in the government. But his younger brother Henry did not agree with this ruling, and after vain attempts to reach an agreement, the fight flared up again in the spring of 1388. Elector Wenceslas had to assemble an army without the help of Bernard, supported by the town of Lüneburg. From Winsen an der Aller, he wanted to attack Celle, which was held by Henry and his mother. During the preparations, however, Elector Wenceslas fell seriously ill and died shortly thereafter. According to legend, he was poisoned. Lüneburg continued the preparations, formed an alliance with the Bishop of Minden and Count of Schaumburg and set up his own army. On 28 May 1388, battle was joined at Winsen an der Aller; it ended in victory for Henry. According to the provisions of the Treaty of Hanover from the year 1373, after the death of Wensceslas, the Principality passed to the House of Welf. In 1389, a inheritance agreement between the Welfs and the Ascanians was concluded, the treaty of 1374 was abolished, and the Principality was finally secured for the Welfs.\n",
      "Question: How did the Welfs inherit the Principality?\n",
      "Answer: after the death of Wensceslas\n",
      "\n",
      "Passage:  Coming off their home win over the Browns, the Cardinals flew to Qwest Field for a Week 14 NFC West rematch with the Seattle Seahawks.  In the first quarter, Arizona trailed early as Seahawks kicker Josh Brown managed to get a 23-yard field goal, along with QB Matt Hasselbeck completing a 7-yard TD pass to WR Nate Burleson.  In the second quarter, the Cards continued to trail as Hasselbeck completed a 15-yard TD pass to WR Bobby Engram and a 17-yard TD pass to WR Deion Branch.  The Cardinals would get on the board as QB Kurt Warner completed a 5-yard TD pass to WR Bryant Johnson, yet Seattle increased their lead prior to halftime with Brown kicking a 41-yard field goal. In the third quarter, the Cards tried to rally as Warner completed a 2-yard TD pass to WR Jerheme Urban for the only score of the period.  However, in the fourth quarter, the Seahawks pulled away as Hasselbeck completed a 3-yard TD pass to TE Marcus Pollard, RB Josh Scobey tackling Cardinals punter Mitch Berger in the end zone for a safety, and CB Marcus Trufant returning an interception 84 yards for a touchdown (with a failed PAT).  Arizona tried to come back as Warner completed an 11-yard TD pass to WR Larry Fitzgerald.  However, Seattle's defense was too much to overcome.\n",
      "Question: Which team did the Cardinals beat in week 13?\n",
      "Answer: Browns\n",
      "\n",
      "Passage: Still looking for a win the Browns flew to M&T Bank Stadium for an AFC North rivalry match against the Ravens. In  the 1st quarter the Browns took the early lead when kicker Phil Dawson made a 28-yard field goal, which didn't last very long after QB Joe Flacco found WR Anquan Boldin on an 8 and a 12-yard TD pass. After that the Browns replied and eventually got the lead back when RB Peyton Hillis made a 1-yard TD run, followed in the 4th quarter by QB Seneca Wallace completing a 1-yard TD pass to TE Benjamin Watson. Then the Browns fell behind when Flacco made a 27-yard TD pass to WR Anquan Boldin, followed by kicker Billy Cundiff nailing a 49-yard field goal.\n",
      "Question: Which team kicked the last field goal?\n",
      "Answer: Ravens\n",
      "\n",
      "Passage: Coming off their divisional home win over the Seahawks, the Cardinals flew to M&T Bank Stadium for an intraconference bird battle with the Baltimore Ravens.  In the first quarter, the Ravens flew first with kicker Matt Stover getting a 21-yard field goal for the only score of the period.  In the second quarter, the Ravens increased their lead with Stover's 28-yard field goal.  Arizona would manage to get on the board with kicker Neil Rackers getting a 48-yard field goal, yet Baltimore managed to put more and more distance from the Cards with QB Steve McNair completing a 13-yard TD pass to WR Derrick Mason, along with WR/PR Yamon Figurs returning a punt 75 yards for a touchdown. In the third quarter, the Cardinals managed to get a 40-yard field goal from Rackers, yet the Ravens continued its domination with Stover getting a 43-yard field goal.  In the fourth quarter, with QB Matt Leinart being ineffective, back-up QB Kurt Warner came in and ignited the Cards' offense with a 5-yard TD pass and a 32-yard TD pass to WR Anquan Boldin.  Afterwards, Arizona tied the game with Rackers getting a 41-yard field goal.  The Ravens got a last-second win with Stover nailing a 46-yard field goal.\n",
      "Question: Which kicker kicked less field goals in the first half?\n",
      "Answer: Neil Rackers\n",
      "\n",
      "Passage: As of the 2010 United States Census, there were 1,951,269 people, 715,365 households, and 467,916 families residing in the county. The population density was . There were 840,343 housing units at an average density of . The racial makeup of the county was 60.9% white, 10.5% black or African American, 8.7% Asian, 0.7% Pacific islander, 0.7% American Indian, 13.5% from other races, and 5.1% from two or more races. Those of Hispanic or Latino origin made up 29.1% of the population. In terms of ancestry, 11.7% were Germans, 9.1% were Irish people, 7.6% were English people, 6.3% were Italians, and 2.7% were Americans.\n",
      "Question: How many percent of people were not white?\n",
      "Answer: 39.1\n",
      "\n",
      "Passage: Coming off their road win over the Chiefs, the Chargers went home, donned their alternate uniforms, and played a Week 8 divisional rematch with the Oakland Raiders.  In the first quarter, San Diego struck first as running back LaDainian Tomlinson got a 6-yard touchdown run.  The Raiders would answer in the second quarter with a 3-yard touchdown run by running back Justin Fargas, yet the Chargers stormed on as quarterback Philip Rivers hooked up wide receiver Vincent Jackson on an 8-yard touchdown pass, followed by Tomlinson getting a 10-yard touchdown run.  Oakland would close out the half with a 48-yard field goal by kicker Sebastian Janikowski. In the second half, the Raiders would slowly try to rally as Janikowski nailed a 41-yard field goal in the third quarter and a 41-yard field goal in the fourth.  Afterwards, San Diego pulled away as kicker Nate Kaeding booted a 28-yard field goal. With their 13th-straight win over Oakland, the Chargers improved to 4-3.\n",
      "Question: What are the top three longest field goals?\n",
      "Answer: 48-yard, 41-yard, 41-yard\n",
      "\n",
      "Passage: Carbon Countys live birth rate was 646 births in 1990. Carbon County live birth rate in 2000 declined to 566 births, while in 2011 it rose to 586 babies. Over the past 50 years (1960 to 2010), rural Pennsylvania saw a steady decline in both the number and proportion of residents under 18 years old. In 1960, 1.06 million rural residents, or 35 percent of the rural population, were children. According to data from the Pennsylvania Department of Health, in 1990, the Commonwealth of Pennsylvanias birth rate was 171,053. In 2000, Pennsylvanias birth rate was 145,874. Finally in 2011, the States birth rate declined further to 142,021. From 2000 to 2009, the number of babies born in rural counties declined 5 percent. Urban counties have also experienced a decline in the number of school aged children. From 2000-2010 urban Pennsylvania counties had a 3 percent decline in the number of residents under 18 years old. In 2010, there were 2.07 million residents, or 22 percent of the urban population, who were under age 18.\n",
      "Question: How many years did it take for Carbon County's live birth rate to drop from 646 to 566?\n",
      "Answer:\n",
      "(end of prompt on previous line)\n",
      "Requests: [Req_greedy_until(\"Passage: Hoping to rebound from their home loss to the 49ers, the Bills flew to the Rogers Centre for their first game of their Canadian International series, with an AFC East rematch against the Miami Dolphins.  In the first quarter, Buffalo trailed early as Dolphins QB Chad Pennington completed a 20-yard TD pass to TE Anthony Fasano.  The Bills answered with kicker Rian Lindell.  After that, Miami pulled away as kicker Dan Carpenter made three field goals (50, 35, and 27 yards).\\nQuestion: Which player scored the first points of the game?\\nAnswer: Anthony Fasano\\n\\nPassage: The labour force of Greater Sydney Region in 2016 was 2,272,722 with a participation rate of 61.6%. It was made up of 61.2% full-time workers, 30.9% part-time workers, and 6.0% unemployed individuals. The largest reported occupations are professionals, clerical and administrative workers, managers, technicians and trades workers, and community and personal service workers. The largest industries by employment across Greater Sydney are Health Care and Social Assistance with 11.6%, Professional Services with 9.8%, Retail Trade with 9.3%, Construction with 8.2%, Education and Training with 8.0%, Accommodation and Food Services 6.7%, and Financial and Insurance Services with 6.6%. The Professional Services and Financial and Insurance Services industries account for 25.4% of employment within the City of Sydney.\\nQuestion: Which industry across Greater Sydney is smaller: Retail Trade or Construction?\\nAnswer: Construction\\n\\nPassage: Coming off a primetime victory over Cincinnati, the Colts flew to Reliant Stadium for an AFC South rematch with the Houston Texans. Heading into this game, Indianapolis had never lost a game to the Texans, winning their first 9 games against them. In the first quarter, the Colts got an early shock as RB Ron Dayne ran for a 3-yard touchdown and a 6-yard touchdown run.  Indianapolis would respond with 37-yard touchdown pass from QB Peyton Manning to WR Marvin Harrison. In the second quarter, the Colts tied the game with Manning completing a 9-yard touchdown pass to WR Aaron Moorehead. However, Houston reclaimed its lead with QB David Carr's 3-yard touchdown pass to RB Vonta Leach. In the third quarter, Indianapolis crept closer with K Adam Vinatieri making a 33-yard field goal for the only score of the period. In the fourth quarter, the Texans responded with kicker Kris Brown's 42-yard field goal. Afterwards, the Colts tied the game with Manning hooking up with Harrison again on a 7-yard touchdown pass, Harrison's second of the game. However, Houston managed to pull off a huge upset with Kris Brown's game-winning 48-yard field goal as time expired, giving Indianapolis their first ever loss against them. With the loss, the Colts fell to 11-4. Colts QB Peyton Manning finished the game 21 of 27 for 205 yards passing with three touchdowns and Texans QB David Carr finished with 163 passing yards on completing 16 of 23 passes with one touchdown. Rookie RB Joseph Addai ran the ball 15 times for 100 yards and former Heisman Trophy winner Ron Dayne finished the game with 153 rushing yards on 32 carries. After this game, the Colts were now 11-4, having lost 4 of 6 after a 9-0 start and dropped to 4-4 on the road.\\nQuestion: How many field goals did Vinatieri kick in the second half?\\nAnswer: 1\\n\\nPassage: Wholesale and retail trade is the largest sector in the citys economy, contributing 24.0 percent of Bangkoks gross provincial product. It is followed by manufacturing (14.3%); real estate, renting and business activities (12.4%); transport and communications (11.6%); and financial intermediation (11.1%). Bangkok alone accounts for 48.4 percent of Thailands service sector, which in turn constitutes 49.0 percent of GDP. When the Bangkok Metropolitan Region is considered, manufacturing is the most significant contributor at 28.2 percent of the gross regional product, reflecting the density of industry in the Bangkoks neighbouring provinces. Automotive industry in Thailand based around Greater Bangkok is the largest production hub in Southeast Asia. Tourism is also a significant contributor to Bangkoks economy, generating ฿427.5bn ($13.38bn) in revenue in 2010.\\nQuestion: How many more percentage points do wholesale and retail trade contribute to Bangkok's gross provincial product than manufacturing?\\nAnswer: 9.7\\n\\nPassage: The following year, the feud between the nobility and plundering by robber knights continued. In 1385, the castle of Ricklingen, where the Mandelslohs resided, was besieged. When a catapult threw a heavy rock at the troops of Duke Albert, he was hit, and died on 28 June 1385. In the wake of his death, Elector Wenceslas appointed Bernard, his brother-in-law, as co-regent involved him in the government. But his younger brother Henry did not agree with this ruling, and after vain attempts to reach an agreement, the fight flared up again in the spring of 1388. Elector Wenceslas had to assemble an army without the help of Bernard, supported by the town of Lüneburg. From Winsen an der Aller, he wanted to attack Celle, which was held by Henry and his mother. During the preparations, however, Elector Wenceslas fell seriously ill and died shortly thereafter. According to legend, he was poisoned. Lüneburg continued the preparations, formed an alliance with the Bishop of Minden and Count of Schaumburg and set up his own army. On 28 May 1388, battle was joined at Winsen an der Aller; it ended in victory for Henry. According to the provisions of the Treaty of Hanover from the year 1373, after the death of Wensceslas, the Principality passed to the House of Welf. In 1389, a inheritance agreement between the Welfs and the Ascanians was concluded, the treaty of 1374 was abolished, and the Principality was finally secured for the Welfs.\\nQuestion: How did the Welfs inherit the Principality?\\nAnswer: after the death of Wensceslas\\n\\nPassage:  Coming off their home win over the Browns, the Cardinals flew to Qwest Field for a Week 14 NFC West rematch with the Seattle Seahawks.  In the first quarter, Arizona trailed early as Seahawks kicker Josh Brown managed to get a 23-yard field goal, along with QB Matt Hasselbeck completing a 7-yard TD pass to WR Nate Burleson.  In the second quarter, the Cards continued to trail as Hasselbeck completed a 15-yard TD pass to WR Bobby Engram and a 17-yard TD pass to WR Deion Branch.  The Cardinals would get on the board as QB Kurt Warner completed a 5-yard TD pass to WR Bryant Johnson, yet Seattle increased their lead prior to halftime with Brown kicking a 41-yard field goal. In the third quarter, the Cards tried to rally as Warner completed a 2-yard TD pass to WR Jerheme Urban for the only score of the period.  However, in the fourth quarter, the Seahawks pulled away as Hasselbeck completed a 3-yard TD pass to TE Marcus Pollard, RB Josh Scobey tackling Cardinals punter Mitch Berger in the end zone for a safety, and CB Marcus Trufant returning an interception 84 yards for a touchdown (with a failed PAT).  Arizona tried to come back as Warner completed an 11-yard TD pass to WR Larry Fitzgerald.  However, Seattle's defense was too much to overcome.\\nQuestion: Which team did the Cardinals beat in week 13?\\nAnswer: Browns\\n\\nPassage: Still looking for a win the Browns flew to M&T Bank Stadium for an AFC North rivalry match against the Ravens. In  the 1st quarter the Browns took the early lead when kicker Phil Dawson made a 28-yard field goal, which didn't last very long after QB Joe Flacco found WR Anquan Boldin on an 8 and a 12-yard TD pass. After that the Browns replied and eventually got the lead back when RB Peyton Hillis made a 1-yard TD run, followed in the 4th quarter by QB Seneca Wallace completing a 1-yard TD pass to TE Benjamin Watson. Then the Browns fell behind when Flacco made a 27-yard TD pass to WR Anquan Boldin, followed by kicker Billy Cundiff nailing a 49-yard field goal.\\nQuestion: Which team kicked the last field goal?\\nAnswer: Ravens\\n\\nPassage: Coming off their divisional home win over the Seahawks, the Cardinals flew to M&T Bank Stadium for an intraconference bird battle with the Baltimore Ravens.  In the first quarter, the Ravens flew first with kicker Matt Stover getting a 21-yard field goal for the only score of the period.  In the second quarter, the Ravens increased their lead with Stover's 28-yard field goal.  Arizona would manage to get on the board with kicker Neil Rackers getting a 48-yard field goal, yet Baltimore managed to put more and more distance from the Cards with QB Steve McNair completing a 13-yard TD pass to WR Derrick Mason, along with WR/PR Yamon Figurs returning a punt 75 yards for a touchdown. In the third quarter, the Cardinals managed to get a 40-yard field goal from Rackers, yet the Ravens continued its domination with Stover getting a 43-yard field goal.  In the fourth quarter, with QB Matt Leinart being ineffective, back-up QB Kurt Warner came in and ignited the Cards' offense with a 5-yard TD pass and a 32-yard TD pass to WR Anquan Boldin.  Afterwards, Arizona tied the game with Rackers getting a 41-yard field goal.  The Ravens got a last-second win with Stover nailing a 46-yard field goal.\\nQuestion: Which kicker kicked less field goals in the first half?\\nAnswer: Neil Rackers\\n\\nPassage: As of the 2010 United States Census, there were 1,951,269 people, 715,365 households, and 467,916 families residing in the county. The population density was . There were 840,343 housing units at an average density of . The racial makeup of the county was 60.9% white, 10.5% black or African American, 8.7% Asian, 0.7% Pacific islander, 0.7% American Indian, 13.5% from other races, and 5.1% from two or more races. Those of Hispanic or Latino origin made up 29.1% of the population. In terms of ancestry, 11.7% were Germans, 9.1% were Irish people, 7.6% were English people, 6.3% were Italians, and 2.7% were Americans.\\nQuestion: How many percent of people were not white?\\nAnswer: 39.1\\n\\nPassage: Coming off their road win over the Chiefs, the Chargers went home, donned their alternate uniforms, and played a Week 8 divisional rematch with the Oakland Raiders.  In the first quarter, San Diego struck first as running back LaDainian Tomlinson got a 6-yard touchdown run.  The Raiders would answer in the second quarter with a 3-yard touchdown run by running back Justin Fargas, yet the Chargers stormed on as quarterback Philip Rivers hooked up wide receiver Vincent Jackson on an 8-yard touchdown pass, followed by Tomlinson getting a 10-yard touchdown run.  Oakland would close out the half with a 48-yard field goal by kicker Sebastian Janikowski. In the second half, the Raiders would slowly try to rally as Janikowski nailed a 41-yard field goal in the third quarter and a 41-yard field goal in the fourth.  Afterwards, San Diego pulled away as kicker Nate Kaeding booted a 28-yard field goal. With their 13th-straight win over Oakland, the Chargers improved to 4-3.\\nQuestion: What are the top three longest field goals?\\nAnswer: 48-yard, 41-yard, 41-yard\\n\\nPassage: Carbon Countys live birth rate was 646 births in 1990. Carbon County live birth rate in 2000 declined to 566 births, while in 2011 it rose to 586 babies. Over the past 50 years (1960 to 2010), rural Pennsylvania saw a steady decline in both the number and proportion of residents under 18 years old. In 1960, 1.06 million rural residents, or 35 percent of the rural population, were children. According to data from the Pennsylvania Department of Health, in 1990, the Commonwealth of Pennsylvanias birth rate was 171,053. In 2000, Pennsylvanias birth rate was 145,874. Finally in 2011, the States birth rate declined further to 142,021. From 2000 to 2009, the number of babies born in rural counties declined 5 percent. Urban counties have also experienced a decline in the number of school aged children. From 2000-2010 urban Pennsylvania counties had a 3 percent decline in the number of residents under 18 years old. In 2010, there were 2.07 million residents, or 22 percent of the urban population, who were under age 18.\\nQuestion: How many years did it take for Carbon County's live birth rate to drop from 646 to 566?\\nAnswer:\", {'until': ['.']})[None]\n",
      "]\n",
      "Task: sciq; number of docs: 1000\n",
      "Task: sciq; document 0; context prompt (starting on next line):\n",
      "Regardless of what gravity is — a force between masses or the result of curves in space and time — the effects of gravity on motion are well known. You already know that gravity causes objects to fall down to the ground. Gravity affects the motion of objects in other ways as well.\n",
      "Question: What is the force that causes objects to fall down to the ground?\n",
      "Answer: gravity\n",
      "\n",
      "Red blood cells carry proteins called antigens on their surface. People may vary in the exact antigens their red blood cells carry. The specific proteins are controlled by the genes they inherit from their parents. The particular antigens you inherit determine your blood type.\n",
      "Question: What are the specfic types of proteins that determine your blood type called?\n",
      "Answer: antigens\n",
      "\n",
      "Question: When plants reproduce, the offspring has characteristics similar to the?\n",
      "Answer: parents\n",
      "\n",
      "Mole fractions describe the fraction or percentage of a mixture that is made up of a particular substance.\n",
      "Question: What describe the fraction or percentage of a mixture that is made up of a particular substance.\n",
      "Answer: mole fractions\n",
      "\n",
      "Respiratory Compensation Respiratory compensation for metabolic acidosis increases the respiratory rate to drive off CO2 and readjust the bicarbonate to carbonic acid ratio to the 20:1 level. This adjustment can occur within minutes. Respiratory compensation for metabolic alkalosis is not as adept as its compensation for acidosis. The normal response of the respiratory system to elevated pH is to increase the amount of CO2 in the blood by decreasing the respiratory rate to conserve CO2. There is a limit to the.\n",
      "Question: The normal response of the respiratory system to elevated ph is to increase the amount of what in the blood?\n",
      "Answer: co2\n",
      "\n",
      "Like bacteria, reproduction in archaea is asexual. Archaea can reproduce through binary fission , where a parent cell divides into two genetically identical daughter cells. Archaea can also reproduce asexually through budding and fragmentation, where pieces of the cell break off and form a new cell, also producing genetically identical organisms.\n",
      "Question: Pieces of the cell break off and form a new cell in what type of reproduction that produces genetically identical organisms?\n",
      "Answer: fragmentation\n",
      "\n",
      "A screw is an inclined plane wrapped around a cylinder. When on a screw, inclined planes are called threads, which can be seen in the image above. The mechanical advantage of a screw increases with the density of the threads. The calculations to determine the IMA for a screw involve the circumference of the head of the screw and the thread width. When the screw is turned completely around one time, the screw penetrates by one thread width. So, if the circumference of the head of a screw is 3.0 cm and the thread width is 0.60 cm, then the IMA would be calculated by.\n",
      "Question: How does the heart transport blood?\n",
      "Answer: blood vessels\n",
      "\n",
      "When appropriate, a symbol may be written above or below the arrow to indicate some special circumstance. The symbol \"Δ\" is often used to indicate that the reaction is to be heated.\n",
      "Question: Which enzyme is used in step three of the polymerase chain reaction because of it's ability to withstand high temperatures?\n",
      "Answer: taq polymerase\n",
      "\n",
      "The mechanical advantage of a machine is the factor by which the machine changes the input force. It equals the ratio of the output force to the input force. A wheel and axle may either increase or decrease the input force, depending on whether the input force is applied to the axle or the wheel.\n",
      "Question: What is indicated by the ratio of the output force to the input force in a machine?\n",
      "Answer: mechanical advantage\n",
      "\n",
      "When gas molecules bump into things, it creates pressure. Pressure is greater when gas molecules occupy a smaller space, because greater crowding results in more collisions. This explains why decreasing the volume of a gas increases its pressure.\n",
      "Question: Decreasing the volume of a gas and keeping everything else the same will cause its pressure to change in what way?\n",
      "Answer: increase\n",
      "\n",
      "Figure 45.9 When resources are unlimited, populations exhibit exponential growth, resulting in a J-shaped curve. When resources are limited, populations exhibit logistic growth. In logistic growth, population expansion decreases as resources become scarce, and it levels off when the carrying capacity of the environment is reached, resulting in an S-shaped curve.\n",
      "Question: When resources are limited, populations exhibit what type of growth?\n",
      "Answer:\n",
      "(end of prompt on previous line)\n",
      "Requests: [Req_loglikelihood('Regardless of what gravity is — a force between masses or the result of curves in space and time — the effects of gravity on motion are well known. You already know that gravity causes objects to fall down to the ground. Gravity affects the motion of objects in other ways as well.\\nQuestion: What is the force that causes objects to fall down to the ground?\\nAnswer: gravity\\n\\nRed blood cells carry proteins called antigens on their surface. People may vary in the exact antigens their red blood cells carry. The specific proteins are controlled by the genes they inherit from their parents. The particular antigens you inherit determine your blood type.\\nQuestion: What are the specfic types of proteins that determine your blood type called?\\nAnswer: antigens\\n\\nQuestion: When plants reproduce, the offspring has characteristics similar to the?\\nAnswer: parents\\n\\nMole fractions describe the fraction or percentage of a mixture that is made up of a particular substance.\\nQuestion: What describe the fraction or percentage of a mixture that is made up of a particular substance.\\nAnswer: mole fractions\\n\\nRespiratory Compensation Respiratory compensation for metabolic acidosis increases the respiratory rate to drive off CO2 and readjust the bicarbonate to carbonic acid ratio to the 20:1 level. This adjustment can occur within minutes. Respiratory compensation for metabolic alkalosis is not as adept as its compensation for acidosis. The normal response of the respiratory system to elevated pH is to increase the amount of CO2 in the blood by decreasing the respiratory rate to conserve CO2. There is a limit to the.\\nQuestion: The normal response of the respiratory system to elevated ph is to increase the amount of what in the blood?\\nAnswer: co2\\n\\nLike bacteria, reproduction in archaea is asexual. Archaea can reproduce through binary fission , where a parent cell divides into two genetically identical daughter cells. Archaea can also reproduce asexually through budding and fragmentation, where pieces of the cell break off and form a new cell, also producing genetically identical organisms.\\nQuestion: Pieces of the cell break off and form a new cell in what type of reproduction that produces genetically identical organisms?\\nAnswer: fragmentation\\n\\nA screw is an inclined plane wrapped around a cylinder. When on a screw, inclined planes are called threads, which can be seen in the image above. The mechanical advantage of a screw increases with the density of the threads. The calculations to determine the IMA for a screw involve the circumference of the head of the screw and the thread width. When the screw is turned completely around one time, the screw penetrates by one thread width. So, if the circumference of the head of a screw is 3.0 cm and the thread width is 0.60 cm, then the IMA would be calculated by.\\nQuestion: How does the heart transport blood?\\nAnswer: blood vessels\\n\\nWhen appropriate, a symbol may be written above or below the arrow to indicate some special circumstance. The symbol \"Δ\" is often used to indicate that the reaction is to be heated.\\nQuestion: Which enzyme is used in step three of the polymerase chain reaction because of it\\'s ability to withstand high temperatures?\\nAnswer: taq polymerase\\n\\nThe mechanical advantage of a machine is the factor by which the machine changes the input force. It equals the ratio of the output force to the input force. A wheel and axle may either increase or decrease the input force, depending on whether the input force is applied to the axle or the wheel.\\nQuestion: What is indicated by the ratio of the output force to the input force in a machine?\\nAnswer: mechanical advantage\\n\\nWhen gas molecules bump into things, it creates pressure. Pressure is greater when gas molecules occupy a smaller space, because greater crowding results in more collisions. This explains why decreasing the volume of a gas increases its pressure.\\nQuestion: Decreasing the volume of a gas and keeping everything else the same will cause its pressure to change in what way?\\nAnswer: increase\\n\\nFigure 45.9 When resources are unlimited, populations exhibit exponential growth, resulting in a J-shaped curve. When resources are limited, populations exhibit logistic growth. In logistic growth, population expansion decreases as resources become scarce, and it levels off when the carrying capacity of the environment is reached, resulting in an S-shaped curve.\\nQuestion: When resources are limited, populations exhibit what type of growth?\\nAnswer:', ' efficient growth')[0]\n",
      ", Req_loglikelihood('Regardless of what gravity is — a force between masses or the result of curves in space and time — the effects of gravity on motion are well known. You already know that gravity causes objects to fall down to the ground. Gravity affects the motion of objects in other ways as well.\\nQuestion: What is the force that causes objects to fall down to the ground?\\nAnswer: gravity\\n\\nRed blood cells carry proteins called antigens on their surface. People may vary in the exact antigens their red blood cells carry. The specific proteins are controlled by the genes they inherit from their parents. The particular antigens you inherit determine your blood type.\\nQuestion: What are the specfic types of proteins that determine your blood type called?\\nAnswer: antigens\\n\\nQuestion: When plants reproduce, the offspring has characteristics similar to the?\\nAnswer: parents\\n\\nMole fractions describe the fraction or percentage of a mixture that is made up of a particular substance.\\nQuestion: What describe the fraction or percentage of a mixture that is made up of a particular substance.\\nAnswer: mole fractions\\n\\nRespiratory Compensation Respiratory compensation for metabolic acidosis increases the respiratory rate to drive off CO2 and readjust the bicarbonate to carbonic acid ratio to the 20:1 level. This adjustment can occur within minutes. Respiratory compensation for metabolic alkalosis is not as adept as its compensation for acidosis. The normal response of the respiratory system to elevated pH is to increase the amount of CO2 in the blood by decreasing the respiratory rate to conserve CO2. There is a limit to the.\\nQuestion: The normal response of the respiratory system to elevated ph is to increase the amount of what in the blood?\\nAnswer: co2\\n\\nLike bacteria, reproduction in archaea is asexual. Archaea can reproduce through binary fission , where a parent cell divides into two genetically identical daughter cells. Archaea can also reproduce asexually through budding and fragmentation, where pieces of the cell break off and form a new cell, also producing genetically identical organisms.\\nQuestion: Pieces of the cell break off and form a new cell in what type of reproduction that produces genetically identical organisms?\\nAnswer: fragmentation\\n\\nA screw is an inclined plane wrapped around a cylinder. When on a screw, inclined planes are called threads, which can be seen in the image above. The mechanical advantage of a screw increases with the density of the threads. The calculations to determine the IMA for a screw involve the circumference of the head of the screw and the thread width. When the screw is turned completely around one time, the screw penetrates by one thread width. So, if the circumference of the head of a screw is 3.0 cm and the thread width is 0.60 cm, then the IMA would be calculated by.\\nQuestion: How does the heart transport blood?\\nAnswer: blood vessels\\n\\nWhen appropriate, a symbol may be written above or below the arrow to indicate some special circumstance. The symbol \"Δ\" is often used to indicate that the reaction is to be heated.\\nQuestion: Which enzyme is used in step three of the polymerase chain reaction because of it\\'s ability to withstand high temperatures?\\nAnswer: taq polymerase\\n\\nThe mechanical advantage of a machine is the factor by which the machine changes the input force. It equals the ratio of the output force to the input force. A wheel and axle may either increase or decrease the input force, depending on whether the input force is applied to the axle or the wheel.\\nQuestion: What is indicated by the ratio of the output force to the input force in a machine?\\nAnswer: mechanical advantage\\n\\nWhen gas molecules bump into things, it creates pressure. Pressure is greater when gas molecules occupy a smaller space, because greater crowding results in more collisions. This explains why decreasing the volume of a gas increases its pressure.\\nQuestion: Decreasing the volume of a gas and keeping everything else the same will cause its pressure to change in what way?\\nAnswer: increase\\n\\nFigure 45.9 When resources are unlimited, populations exhibit exponential growth, resulting in a J-shaped curve. When resources are limited, populations exhibit logistic growth. In logistic growth, population expansion decreases as resources become scarce, and it levels off when the carrying capacity of the environment is reached, resulting in an S-shaped curve.\\nQuestion: When resources are limited, populations exhibit what type of growth?\\nAnswer:', ' component growth')[0]\n",
      ", Req_loglikelihood('Regardless of what gravity is — a force between masses or the result of curves in space and time — the effects of gravity on motion are well known. You already know that gravity causes objects to fall down to the ground. Gravity affects the motion of objects in other ways as well.\\nQuestion: What is the force that causes objects to fall down to the ground?\\nAnswer: gravity\\n\\nRed blood cells carry proteins called antigens on their surface. People may vary in the exact antigens their red blood cells carry. The specific proteins are controlled by the genes they inherit from their parents. The particular antigens you inherit determine your blood type.\\nQuestion: What are the specfic types of proteins that determine your blood type called?\\nAnswer: antigens\\n\\nQuestion: When plants reproduce, the offspring has characteristics similar to the?\\nAnswer: parents\\n\\nMole fractions describe the fraction or percentage of a mixture that is made up of a particular substance.\\nQuestion: What describe the fraction or percentage of a mixture that is made up of a particular substance.\\nAnswer: mole fractions\\n\\nRespiratory Compensation Respiratory compensation for metabolic acidosis increases the respiratory rate to drive off CO2 and readjust the bicarbonate to carbonic acid ratio to the 20:1 level. This adjustment can occur within minutes. Respiratory compensation for metabolic alkalosis is not as adept as its compensation for acidosis. The normal response of the respiratory system to elevated pH is to increase the amount of CO2 in the blood by decreasing the respiratory rate to conserve CO2. There is a limit to the.\\nQuestion: The normal response of the respiratory system to elevated ph is to increase the amount of what in the blood?\\nAnswer: co2\\n\\nLike bacteria, reproduction in archaea is asexual. Archaea can reproduce through binary fission , where a parent cell divides into two genetically identical daughter cells. Archaea can also reproduce asexually through budding and fragmentation, where pieces of the cell break off and form a new cell, also producing genetically identical organisms.\\nQuestion: Pieces of the cell break off and form a new cell in what type of reproduction that produces genetically identical organisms?\\nAnswer: fragmentation\\n\\nA screw is an inclined plane wrapped around a cylinder. When on a screw, inclined planes are called threads, which can be seen in the image above. The mechanical advantage of a screw increases with the density of the threads. The calculations to determine the IMA for a screw involve the circumference of the head of the screw and the thread width. When the screw is turned completely around one time, the screw penetrates by one thread width. So, if the circumference of the head of a screw is 3.0 cm and the thread width is 0.60 cm, then the IMA would be calculated by.\\nQuestion: How does the heart transport blood?\\nAnswer: blood vessels\\n\\nWhen appropriate, a symbol may be written above or below the arrow to indicate some special circumstance. The symbol \"Δ\" is often used to indicate that the reaction is to be heated.\\nQuestion: Which enzyme is used in step three of the polymerase chain reaction because of it\\'s ability to withstand high temperatures?\\nAnswer: taq polymerase\\n\\nThe mechanical advantage of a machine is the factor by which the machine changes the input force. It equals the ratio of the output force to the input force. A wheel and axle may either increase or decrease the input force, depending on whether the input force is applied to the axle or the wheel.\\nQuestion: What is indicated by the ratio of the output force to the input force in a machine?\\nAnswer: mechanical advantage\\n\\nWhen gas molecules bump into things, it creates pressure. Pressure is greater when gas molecules occupy a smaller space, because greater crowding results in more collisions. This explains why decreasing the volume of a gas increases its pressure.\\nQuestion: Decreasing the volume of a gas and keeping everything else the same will cause its pressure to change in what way?\\nAnswer: increase\\n\\nFigure 45.9 When resources are unlimited, populations exhibit exponential growth, resulting in a J-shaped curve. When resources are limited, populations exhibit logistic growth. In logistic growth, population expansion decreases as resources become scarce, and it levels off when the carrying capacity of the environment is reached, resulting in an S-shaped curve.\\nQuestion: When resources are limited, populations exhibit what type of growth?\\nAnswer:', ' lasting growth')[0]\n",
      ", Req_loglikelihood('Regardless of what gravity is — a force between masses or the result of curves in space and time — the effects of gravity on motion are well known. You already know that gravity causes objects to fall down to the ground. Gravity affects the motion of objects in other ways as well.\\nQuestion: What is the force that causes objects to fall down to the ground?\\nAnswer: gravity\\n\\nRed blood cells carry proteins called antigens on their surface. People may vary in the exact antigens their red blood cells carry. The specific proteins are controlled by the genes they inherit from their parents. The particular antigens you inherit determine your blood type.\\nQuestion: What are the specfic types of proteins that determine your blood type called?\\nAnswer: antigens\\n\\nQuestion: When plants reproduce, the offspring has characteristics similar to the?\\nAnswer: parents\\n\\nMole fractions describe the fraction or percentage of a mixture that is made up of a particular substance.\\nQuestion: What describe the fraction or percentage of a mixture that is made up of a particular substance.\\nAnswer: mole fractions\\n\\nRespiratory Compensation Respiratory compensation for metabolic acidosis increases the respiratory rate to drive off CO2 and readjust the bicarbonate to carbonic acid ratio to the 20:1 level. This adjustment can occur within minutes. Respiratory compensation for metabolic alkalosis is not as adept as its compensation for acidosis. The normal response of the respiratory system to elevated pH is to increase the amount of CO2 in the blood by decreasing the respiratory rate to conserve CO2. There is a limit to the.\\nQuestion: The normal response of the respiratory system to elevated ph is to increase the amount of what in the blood?\\nAnswer: co2\\n\\nLike bacteria, reproduction in archaea is asexual. Archaea can reproduce through binary fission , where a parent cell divides into two genetically identical daughter cells. Archaea can also reproduce asexually through budding and fragmentation, where pieces of the cell break off and form a new cell, also producing genetically identical organisms.\\nQuestion: Pieces of the cell break off and form a new cell in what type of reproduction that produces genetically identical organisms?\\nAnswer: fragmentation\\n\\nA screw is an inclined plane wrapped around a cylinder. When on a screw, inclined planes are called threads, which can be seen in the image above. The mechanical advantage of a screw increases with the density of the threads. The calculations to determine the IMA for a screw involve the circumference of the head of the screw and the thread width. When the screw is turned completely around one time, the screw penetrates by one thread width. So, if the circumference of the head of a screw is 3.0 cm and the thread width is 0.60 cm, then the IMA would be calculated by.\\nQuestion: How does the heart transport blood?\\nAnswer: blood vessels\\n\\nWhen appropriate, a symbol may be written above or below the arrow to indicate some special circumstance. The symbol \"Δ\" is often used to indicate that the reaction is to be heated.\\nQuestion: Which enzyme is used in step three of the polymerase chain reaction because of it\\'s ability to withstand high temperatures?\\nAnswer: taq polymerase\\n\\nThe mechanical advantage of a machine is the factor by which the machine changes the input force. It equals the ratio of the output force to the input force. A wheel and axle may either increase or decrease the input force, depending on whether the input force is applied to the axle or the wheel.\\nQuestion: What is indicated by the ratio of the output force to the input force in a machine?\\nAnswer: mechanical advantage\\n\\nWhen gas molecules bump into things, it creates pressure. Pressure is greater when gas molecules occupy a smaller space, because greater crowding results in more collisions. This explains why decreasing the volume of a gas increases its pressure.\\nQuestion: Decreasing the volume of a gas and keeping everything else the same will cause its pressure to change in what way?\\nAnswer: increase\\n\\nFigure 45.9 When resources are unlimited, populations exhibit exponential growth, resulting in a J-shaped curve. When resources are limited, populations exhibit logistic growth. In logistic growth, population expansion decreases as resources become scarce, and it levels off when the carrying capacity of the environment is reached, resulting in an S-shaped curve.\\nQuestion: When resources are limited, populations exhibit what type of growth?\\nAnswer:', ' logistic growth')[0]\n",
      "]\n",
      "Running loglikelihood requests\n"
     ]
    },
    {
     "name": "stderr",
     "output_type": "stream",
     "text": [
      "100%|██████████| 65533/65533 [37:45<00:00, 28.92it/s]  \n"
     ]
    },
    {
     "name": "stdout",
     "output_type": "stream",
     "text": [
      "Running greedy_until requests\n"
     ]
    },
    {
     "name": "stderr",
     "output_type": "stream",
     "text": [
      "100%|██████████| 21409/21409 [35:09<00:00, 10.15it/s] \n"
     ]
    }
   ],
   "source": [
    "# 評価を実行\n",
    "results = lm_eval.evaluator.simple_evaluate(\n",
    "    model=model,\n",
    "    tasks=[\"arc_easy\",\"hellaswag\",\"squad2\",\"drop\",\"sciq\"],  \n",
    "    batch_size=16,\n",
    "    num_fewshot=2,\n",
    "    device=\"cuda\"  \n",
    ")"
   ]
  },
  {
   "cell_type": "code",
   "execution_count": 22,
   "id": "8f6605c2-20d3-4a95-bb63-a0cb370b1198",
   "metadata": {},
   "outputs": [
    {
     "data": {
      "text/html": [
       "Waiting for W&B process to finish... <strong style=\"color:green\">(success).</strong>"
      ],
      "text/plain": [
       "<IPython.core.display.HTML object>"
      ]
     },
     "metadata": {},
     "output_type": "display_data"
    },
    {
     "data": {
      "text/html": [
       " View run <strong style=\"color:#cdcd00\">deep-eon-34</strong> at: <a href='https://wandb.ai/reviewco/Autocompletion%20with%20evaluation/runs/00vh05cd' target=\"_blank\">https://wandb.ai/reviewco/Autocompletion%20with%20evaluation/runs/00vh05cd</a><br/> View job at <a href='https://wandb.ai/reviewco/Autocompletion%20with%20evaluation/jobs/QXJ0aWZhY3RDb2xsZWN0aW9uOjkzMTA4NTQ0/version_details/v3' target=\"_blank\">https://wandb.ai/reviewco/Autocompletion%20with%20evaluation/jobs/QXJ0aWZhY3RDb2xsZWN0aW9uOjkzMTA4NTQ0/version_details/v3</a><br/>Synced 5 W&B file(s), 2 media file(s), 856 artifact file(s) and 1 other file(s)"
      ],
      "text/plain": [
       "<IPython.core.display.HTML object>"
      ]
     },
     "metadata": {},
     "output_type": "display_data"
    },
    {
     "data": {
      "text/html": [
       "Find logs at: <code>./wandb/run-20230828_003428-00vh05cd/logs</code>"
      ],
      "text/plain": [
       "<IPython.core.display.HTML object>"
      ]
     },
     "metadata": {},
     "output_type": "display_data"
    }
   ],
   "source": [
    "tasks=[\"arc_easy\",\"hellaswag\",\"squad2\"]\n",
    "table_contents = []\n",
    "table_contents.append(run.id)\n",
    "table_contents.append(results[\"results\"][\"arc_easy\"][\"acc\"])\n",
    "table_contents.append(results[\"results\"][\"hellaswag\"][\"acc\"])\n",
    "table_contents.append(results[\"results\"][\"squad2\"][\"f1\"])\n",
    "table = wandb.Table(columns=['finetuned-model:v1']+tasks,\n",
    "                            data=[table_contents])\n",
    "run.log({'result_table':table})\n",
    "run.log_code()\n",
    "run.finish()"
   ]
  },
  {
   "cell_type": "code",
   "execution_count": 29,
   "id": "5484af75-99ec-4775-b020-0f6cd3074dc3",
   "metadata": {},
   "outputs": [],
   "source": [
    "config = {\n",
    "    \"MODEL_NAME\":\"Finetuned-Review-Autocompletion\",\n",
    "    \"BASE_MODEL\":\"facebook/opt-125m\",\n",
    "    \"MODEL_NAME\":\"Instruction-tuned-model\",\n",
    "}"
   ]
  },
  {
   "cell_type": "code",
   "execution_count": null,
   "id": "f1400892-97ee-4df9-8186-ae5a25ff431f",
   "metadata": {},
   "outputs": [],
   "source": [
    "config.Bas"
   ]
  },
  {
   "cell_type": "code",
   "execution_count": 30,
   "id": "f969127a-2055-4a53-ba90-3907bd104a2a",
   "metadata": {},
   "outputs": [
    {
     "ename": "AttributeError",
     "evalue": "'dict' object has no attribute 'BASE_MODEL'",
     "output_type": "error",
     "traceback": [
      "\u001b[0;31m---------------------------------------------------------------------------\u001b[0m",
      "\u001b[0;31mAttributeError\u001b[0m                            Traceback (most recent call last)",
      "Cell \u001b[0;32mIn[30], line 1\u001b[0m\n\u001b[0;32m----> 1\u001b[0m tokenizer \u001b[38;5;241m=\u001b[39m AutoTokenizer\u001b[38;5;241m.\u001b[39mfrom_pretrained(\u001b[43mconfig\u001b[49m\u001b[38;5;241;43m.\u001b[39;49m\u001b[43mBASE_MODEL\u001b[49m)\n\u001b[1;32m      2\u001b[0m artifact \u001b[38;5;241m=\u001b[39m run\u001b[38;5;241m.\u001b[39muse_artifact(\u001b[38;5;124mf\u001b[39m\u001b[38;5;124m'\u001b[39m\u001b[38;5;132;01m{\u001b[39;00mos\u001b[38;5;241m.\u001b[39menviron[\u001b[38;5;124m\"\u001b[39m\u001b[38;5;124mWANDB_ENTITY\u001b[39m\u001b[38;5;124m\"\u001b[39m]\u001b[38;5;132;01m}\u001b[39;00m\u001b[38;5;124m/\u001b[39m\u001b[38;5;132;01m{\u001b[39;00mos\u001b[38;5;241m.\u001b[39menviron[\u001b[38;5;124m\"\u001b[39m\u001b[38;5;124mWANDB_PROJECT\u001b[39m\u001b[38;5;124m\"\u001b[39m]\u001b[38;5;132;01m}\u001b[39;00m\u001b[38;5;124m/data:production\u001b[39m\u001b[38;5;124m'\u001b[39m)\n\u001b[1;32m      3\u001b[0m artifact_dir \u001b[38;5;241m=\u001b[39m artifact\u001b[38;5;241m.\u001b[39mdownload()\n",
      "\u001b[0;31mAttributeError\u001b[0m: 'dict' object has no attribute 'BASE_MODEL'"
     ]
    }
   ],
   "source": [
    "tokenizer = AutoTokenizer.from_pretrained(config.BASE_MODEL)\n",
    "artifact = run.use_artifact(f'{os.environ[\"WANDB_ENTITY\"]}/{os.environ[\"WANDB_PROJECT\"]}/data:production')\n",
    "artifact_dir = artifact.download()\n",
    "test_data = load_dataset('json', data_files=artifact_dir+'/test_data.json',split=\"train\")"
   ]
  },
  {
   "cell_type": "code",
   "execution_count": 24,
   "id": "3ece5e21-e6de-4918-bbca-de37c1359aaa",
   "metadata": {},
   "outputs": [],
   "source": [
    "def get_completion_responses_batch(prompts, ft_path):\n",
    "    # Get completions for each model in batches\n",
    "    opt_completions = get_huggingface_completion_batch(prompts, \"facebook/opt-125m\")\n",
    "    ft_completions = get_huggingface_completion_batch(prompts, ft_path)\n",
    "    responses = []\n",
    "    for opt, ft in zip(opt_completions, ft_completions):\n",
    "        responses.append({\n",
    "            \"Production\": opt,\n",
    "            \"Staging (finetuned)\": ft\n",
    "        })\n",
    "    return responses\n",
    "\n",
    "def get_huggingface_completion_batch(prompts, model):\n",
    "    generator = pipeline('text-generation', model=model)\n",
    "    responses = generator(prompts, max_new_tokens=50)\n",
    "    completions = []\n",
    "    for i, prompt in enumerate(prompts):\n",
    "        full_output = responses[i][0][\"generated_text\"]\n",
    "        output = full_output[len(prompt):] if full_output.startswith(prompt) else full_output\n",
    "        completions.append(output.strip())\n",
    "    return completions\n",
    "\n",
    "def get_model_comparison_df(prompts, ft_path):\n",
    "    trimmed_prompts = [\n",
    "        \" \".join(prompt.split()[:random.randint(5,12)])\n",
    "        for prompt in prompts\n",
    "    ]\n",
    "    responses = get_completion_responses_batch(trimmed_prompts, ft_path)\n",
    "    df = pd.DataFrame(responses)\n",
    "    df.insert(0, \"prompt\", trimmed_prompts)\n",
    "    return df\n",
    "\n",
    "def get_latency_df(prompts, num_prompts, ft_path, ct2_path):\n",
    "  prompts = prompts.to_list()[:num_prompts]\n",
    "  ft_time = timeit.timeit(lambda: get_huggingface_completion_batch(prompts, model), number=1)\n",
    "  opt_time = timeit.timeit(lambda: get_huggingface_completion_batch(prompts, \"facebook/opt-125m\"), number=1)\n",
    "\n",
    "  return pd.DataFrame({\n",
    "    \"Model\": [\"Production\", \"Staging (finetuned)\"],\n",
    "    f\"Latency for {num_prompts} Reviews\": [opt_time, ft_time],\n",
    "  })\n"
   ]
  },
  {
   "cell_type": "code",
   "execution_count": 26,
   "id": "fcd82c42-810b-4f6f-b48c-446074032143",
   "metadata": {},
   "outputs": [
    {
     "data": {
      "text/plain": [
       "{'results': {'arc_easy': {'acc': 0.4377104377104377,\n",
       "   'acc_stderr': 0.010179856486006918,\n",
       "   'acc_norm': 0.41624579124579125,\n",
       "   'acc_norm_stderr': 0.010114819404500876},\n",
       "  'hellaswag': {'acc': 0.2900816570404302,\n",
       "   'acc_stderr': 0.004528723951878255,\n",
       "   'acc_norm': 0.3136825333598885,\n",
       "   'acc_norm_stderr': 0.004630407476835194},\n",
       "  'squad2': {'exact': 3.4869030573570288,\n",
       "   'f1': 6.788581445337238,\n",
       "   'HasAns_exact': 6.831983805668016,\n",
       "   'HasAns_f1': 13.444808957572375,\n",
       "   'NoAns_exact': 0.15138772077375945,\n",
       "   'NoAns_f1': 0.15138772077375945,\n",
       "   'best_exact': 50.07159100480081,\n",
       "   'best_f1': 50.07159100480081},\n",
       "  'sciq': {'acc': 0.811,\n",
       "   'acc_stderr': 0.01238678458811771,\n",
       "   'acc_norm': 0.792,\n",
       "   'acc_norm_stderr': 0.012841374572096921},\n",
       "  'drop': {'em': 0.0006291946308724832,\n",
       "   'em_stderr': 0.00025680027497240645,\n",
       "   'f1': 0.04319630872483222,\n",
       "   'f1_stderr': 0.0011526100580973827}},\n",
       " 'versions': {'arc_easy': 0,\n",
       "  'hellaswag': 0,\n",
       "  'squad2': 1,\n",
       "  'drop': 1,\n",
       "  'sciq': 0},\n",
       " 'config': {'model': 'pretrained=facebook/opt-125m',\n",
       "  'model_args': None,\n",
       "  'num_fewshot': 10,\n",
       "  'batch_size': 16,\n",
       "  'batch_sizes': [],\n",
       "  'device': 'cuda',\n",
       "  'no_cache': True,\n",
       "  'limit': None,\n",
       "  'bootstrap_iters': 100000,\n",
       "  'description_dict': None}}"
      ]
     },
     "execution_count": 26,
     "metadata": {},
     "output_type": "execute_result"
    }
   ],
   "source": [
    "results"
   ]
  },
  {
   "cell_type": "code",
   "execution_count": null,
   "id": "8c38eda9-3c1f-4538-bdc8-78667efcfabd",
   "metadata": {},
   "outputs": [],
   "source": [
    "PROMPT_NO_INPUT_FORMAT = \"\"\"Below is an instruction that describes a task. Write a response that appropriately completes the request.\n",
    "### Instruction:\n",
    "{instruction}\n",
    "### Response\"\"\"\n",
    "\n",
    "PROMPT_WITH_INPUT_FORMAT = \"\"\"Below is an instruction that describes a task. Write a response that appropriately completes the request.\n",
    "### Instruction:\n",
    "{instruction}\n",
    "Input:\n",
    "{context}\n",
    "### Response\"\"\"\n",
    "\n",
    "\n",
    "config = {\n",
    "    \"MODEL_NAME\":\"Finetuned-Review-Autocompletion\",\n",
    "    \"BASE_MODEL\":\"facebook/opt-125m\",\n",
    "    \"MODEL_NAME\":\"Instruction-tuned-model\",\n",
    "}"
   ]
  },
  {
   "cell_type": "code",
   "execution_count": null,
   "id": "378317e0-a89d-44bd-b7c3-1e3799746437",
   "metadata": {},
   "outputs": [],
   "source": [
    "with wandb.init(job_type=\"model_evaluation\") as run:\n",
    "    config = wandb.config\n",
    "    # evaluation harness\n",
    "    staging_model = wandb.use_artifact(f'{os.environ[\"WANDB_ENTITY\"]}/model-registry/{config.MODEL_NAME}:staging')\n",
    "    staging_path = staging_model.download()\n",
    "    base_llm = AutoModelForCausalLM.from_pretrained(config.BASE_NAME, device_map=\"auto\", torch_dtype=torch.float16)\n",
    "    tokenizer = AutoTokenizer.from_pretrained(config.BASE_NAME, local_files_only=True)\n",
    "    model = PeftModel.from_pretrained(base_llm, artifact_dir,torch_dtype=torch.float16)\n",
    "    model = model.merge_and_unload()\n",
    "    tasks = [\"arc_easy\",\"hellaswag\",\"squad2\",\"drop\",\"sciq\"]\n",
    "\n",
    "    results = lm_eval.evaluator.simple_evaluate(\n",
    "        model=model,\n",
    "        tasks=tasks,  \n",
    "        batch_size=16,\n",
    "        num_fewshot=3,\n",
    "        device=\"cuda\"  \n",
    "    )\n",
    "    table_contents = []\n",
    "    table_contents.append(run.id)\n",
    "    table_contents.append(results[\"results\"][\"arc_easy\"][\"acc\"])  #<=\n",
    "    table_contents.append(results[\"results\"][\"hellaswag\"][\"acc\"]) #<=\n",
    "    table_contents.append(results[\"results\"][\"squad2\"][\"f1\"]) #<=\n",
    "    table = wandb.Table(columns=['finetuned-model:v1']+tasks,\n",
    "                                data=[table_contents])\n",
    "\n",
    "\n",
    "    # evaluation to test\n",
    "    \n",
    "    tokenizer = AutoTokenizer.from_pretrained(config.BASE_MODEL)\n",
    "    artifact = run.use_artifact(f'{os.environ[\"WANDB_ENTITY\"]}/{os.environ[\"WANDB_PROJECT\"]}/data:production')\n",
    "    artifact_dir = artifact.download()\n",
    "    test_data = load_dataset('json', data_files=artifact_dir+'/test_data.json',split=\"train\")\n",
    "\n",
    "    test_files = glob.glob(f\"{reviews_dir}/test/*.parquet\")\n",
    "    test_data = pd.concat([pd.read_parquet(path) for path in test_files])\n",
    "    prompts = test_data.sample(frac=1)[\"text\"][:10]\n",
    "\n",
    "    run.log({\n",
    "        SCORE_TABLE_NAME: table,\n",
    "        EVALUATION_TABLE_NAME: get_model_comparison_df(prompts, ft_path=staging_path),\n",
    "        LATENCY_TABLE_NAME: get_latency_df(prompts, num_prompts=3, ft_path=staging_path)\n",
    "    })\n",
    "    run.log_code()\n",
    "\n"
   ]
  },
  {
   "cell_type": "code",
   "execution_count": null,
   "id": "7f68ebe4-4603-4b9b-864f-1ab78b6481ba",
   "metadata": {},
   "outputs": [],
   "source": [
    "\n",
    "# Report\n",
    "    report = wr.Report(\n",
    "        project=os.environ[\"WANDB_PROJECT\"],\n",
    "        entity=os.environ[\"WANDB_ENTITY\"],\n",
    "        title='Model Evaluation: Autocompletion Model',\n",
    "        description=\"Data and sample predictions to evaluate the staging candidate model for our review autocompletion algorithm.\"\n",
    "    )\n",
    "\n",
    "    report.width = \"fluid\"\n",
    "\n",
    "    runsets = [wr.Runset(\n",
    "        os.environ[\"WANDB_ENTITY\"],\n",
    "        os.environ['WANDB_PROJECT']\n",
    "        )]\n",
    "\n",
    "    report.blocks = [\n",
    "        wr.TableOfContents(),\n",
    "        wr.H1(\"Report Overview\"),\n",
    "        wr.P(\n",
    "            \"This report contains information to evaluate whether potential staging models \"\n",
    "            \"should be moved to production. Model Registry admins can use the view of the \"\n",
    "            \"Model Registry at the end of this report to move a staging model into production, \"\n",
    "            \"using a Webhook automation.\"\n",
    "        ),\n",
    "        wr.Spotify(spotify_id=\"7KAveXwQ5xzdHT6GDlNIBu\"),\n",
    "        wr.MarkdownBlock(\"May this staging model earn 5 stars 🙏.\"),\n",
    "        wr.HorizontalRule(),\n",
    "    ]\n",
    "\n",
    "    pg = wr.PanelGrid(\n",
    "        runsets=runsets,\n",
    "        panels=[\n",
    "        wr.ScalarChart(\n",
    "            title=\"Current Min Eval Loss\",\n",
    "            metric=\"eval/loss\",\n",
    "            groupby_aggfunc=\"min\",\n",
    "            font_size=\"large\"),\n",
    "\n",
    "        wr.ScalarChart(\n",
    "            title=\"Current Min Train Loss\",\n",
    "            metric=\"train/loss\",\n",
    "            groupby_aggfunc=\"min\",\n",
    "            font_size=\"large\"),\n",
    "\n",
    "        wr.ScalarChart(\n",
    "            title=\"Longest Runtime (sec)\",\n",
    "            metric=\"train/train_runtime\",\n",
    "            groupby_aggfunc=\"max\",\n",
    "            font_size=\"large\"),\n",
    "\n",
    "        wr.LinePlot(x='Step',\n",
    "                    y=['eval/loss'],\n",
    "                    smoothing_factor=0.8,\n",
    "                    layout={'w': 24, 'h': 9})\n",
    "        ]\n",
    "    )\n",
    "\n",
    "    report.blocks += [wr.H1(\"Key Metrics\"), pg]\n",
    "\n",
    "    pg = wr.PanelGrid(\n",
    "        runsets=runsets,\n",
    "        panels=[\n",
    "            wr.WeavePanelSummaryTable(LATENCY_TABLE_NAME, layout={'w': 24, 'h': 12}),\n",
    "        ])\n",
    "\n",
    "    report.blocks += [wr.H1(\"Latency Data for Models\"), pg]\n",
    "\n",
    "\n",
    "    pg = wr.PanelGrid(\n",
    "        runsets=runsets,\n",
    "        panels=[\n",
    "            wr.WeavePanelSummaryTable(EVALUATION_TABLE_NAME, layout={'w': 24, 'h': 12}),\n",
    "        ])\n",
    "\n",
    "    report.blocks += [wr.H1(\"Sample Predictions\"), pg]\n",
    "\n",
    "    report.blocks += [wr.H1(\"Autocompletion Model in Model Registry\"), wr.WeaveBlockArtifact(os.environ[\"WANDB_ENTITY\"], \"model-registry\", MODEL_NAME)]\n",
    "    report.save()\n",
    "\n",
    "    report_creation_msg = f\"Report to review: {urllib.parse.quote(report.url, safe=r'/:')}\"\n",
    "    print(report_creation_msg)\n",
    "\n",
    "    wandb.alert(\"New Staging Model Evaluated\", report_creation_msg)"
   ]
  }
 ],
 "metadata": {
  "kernelspec": {
   "display_name": "Python 3 (ipykernel)",
   "language": "python",
   "name": "python3"
  },
  "language_info": {
   "codemirror_mode": {
    "name": "ipython",
    "version": 3
   },
   "file_extension": ".py",
   "mimetype": "text/x-python",
   "name": "python",
   "nbconvert_exporter": "python",
   "pygments_lexer": "ipython3",
   "version": "3.10.12"
  }
 },
 "nbformat": 4,
 "nbformat_minor": 5
}
